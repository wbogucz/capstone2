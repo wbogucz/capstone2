{
 "cells": [
  {
   "cell_type": "code",
   "execution_count": 1,
   "metadata": {},
   "outputs": [],
   "source": [
    "import pandas as pd\n",
    "import numpy as np\n",
    "import matplotlib.pyplot as plt\n",
    "\n",
    "from sklearn.model_selection import train_test_split\n",
    "import statsmodels.api as sm\n",
    "\n",
    "from sklearn.metrics import classification_report\n",
    "from sklearn.metrics import confusion_matrix, ConfusionMatrixDisplay, plot_confusion_matrix\n",
    "from sklearn.metrics import plot_precision_recall_curve, make_scorer, precision_score, average_precision_score\n",
    "from sklearn.metrics import precision_recall_curve, auc\n",
    "\n",
    "from sklearn.model_selection import cross_val_score, cross_validate\n",
    "from sklearn.model_selection import KFold, StratifiedKFold, RepeatedStratifiedKFold\n",
    "from sklearn.model_selection import GridSearchCV, RandomizedSearchCV\n",
    "\n",
    "from imblearn.pipeline import Pipeline\n",
    "\n",
    "from sklearn.linear_model import LogisticRegression\n",
    "from sklearn.neighbors import KNeighborsClassifier\n",
    "from sklearn.ensemble import RandomForestClassifier\n",
    "from sklearn.ensemble import GradientBoostingClassifier\n",
    "from sklearn.naive_bayes import ComplementNB"
   ]
  },
  {
   "cell_type": "code",
   "execution_count": 2,
   "metadata": {},
   "outputs": [],
   "source": [
    "df = pd.read_csv(r'C:\\Users\\2bogu\\Desktop\\Sringboard_Materials\\capstone2\\data\\interim\\new_new')"
   ]
  },
  {
   "cell_type": "code",
   "execution_count": 3,
   "metadata": {},
   "outputs": [
    {
     "name": "stdout",
     "output_type": "stream",
     "text": [
      "<class 'pandas.core.frame.DataFrame'>\n",
      "RangeIndex: 5163 entries, 0 to 5162\n",
      "Data columns (total 14 columns):\n",
      " #   Column                  Non-Null Count  Dtype  \n",
      "---  ------                  --------------  -----  \n",
      " 0   ORIGINAL LOAN AMOUNT    5163 non-null   float64\n",
      " 1   ORIGINAL TERM           5163 non-null   int64  \n",
      " 2   INTEREST RATE           5163 non-null   float64\n",
      " 3   DEBT TO INCOME          5163 non-null   float64\n",
      " 4   PAYMENT AMOUNT          5163 non-null   float64\n",
      " 5   bad                     5163 non-null   int64  \n",
      " 6   co-signed               5163 non-null   int64  \n",
      " 7   avg_credit_score        5163 non-null   float64\n",
      " 8   has_successor_num       5163 non-null   int64  \n",
      " 9   unpledged               5163 non-null   int64  \n",
      " 10  underwritten_t1         5163 non-null   int64  \n",
      " 11  loan_type_smart_energy  5163 non-null   int64  \n",
      " 12  purpose_ee              5163 non-null   int64  \n",
      " 13  purpose_sol             5163 non-null   int64  \n",
      "dtypes: float64(5), int64(9)\n",
      "memory usage: 564.8 KB\n"
     ]
    }
   ],
   "source": [
    "df.info()"
   ]
  },
  {
   "cell_type": "code",
   "execution_count": 4,
   "metadata": {},
   "outputs": [],
   "source": [
    "y = df[['bad']]\n",
    "X = df.drop('bad', axis=1)\n",
    "\n",
    "X = sm.add_constant(X)\n",
    "\n",
    "X_train, X_test, y_train, y_test = train_test_split(X, y, test_size=0.25, random_state=100, stratify=y)"
   ]
  },
  {
   "cell_type": "code",
   "execution_count": 6,
   "metadata": {},
   "outputs": [],
   "source": [
    "y = y_test.append(y_train)"
   ]
  },
  {
   "cell_type": "code",
   "execution_count": 8,
   "metadata": {},
   "outputs": [
    {
     "data": {
      "text/plain": [
       "5163"
      ]
     },
     "execution_count": 8,
     "metadata": {},
     "output_type": "execute_result"
    }
   ],
   "source": [
    "len(y)"
   ]
  },
  {
   "cell_type": "code",
   "execution_count": 5,
   "metadata": {},
   "outputs": [
    {
     "data": {
      "text/html": [
       "<div>\n",
       "<style scoped>\n",
       "    .dataframe tbody tr th:only-of-type {\n",
       "        vertical-align: middle;\n",
       "    }\n",
       "\n",
       "    .dataframe tbody tr th {\n",
       "        vertical-align: top;\n",
       "    }\n",
       "\n",
       "    .dataframe thead th {\n",
       "        text-align: right;\n",
       "    }\n",
       "</style>\n",
       "<table border=\"1\" class=\"dataframe\">\n",
       "  <thead>\n",
       "    <tr style=\"text-align: right;\">\n",
       "      <th></th>\n",
       "      <th>const</th>\n",
       "      <th>ORIGINAL LOAN AMOUNT</th>\n",
       "      <th>ORIGINAL TERM</th>\n",
       "      <th>INTEREST RATE</th>\n",
       "      <th>DEBT TO INCOME</th>\n",
       "      <th>PAYMENT AMOUNT</th>\n",
       "      <th>co-signed</th>\n",
       "      <th>avg_credit_score</th>\n",
       "      <th>has_successor_num</th>\n",
       "      <th>unpledged</th>\n",
       "      <th>underwritten_t1</th>\n",
       "      <th>loan_type_smart_energy</th>\n",
       "      <th>purpose_ee</th>\n",
       "      <th>purpose_sol</th>\n",
       "    </tr>\n",
       "  </thead>\n",
       "  <tbody>\n",
       "    <tr>\n",
       "      <th>728</th>\n",
       "      <td>1.0</td>\n",
       "      <td>12713.0</td>\n",
       "      <td>60</td>\n",
       "      <td>3.49</td>\n",
       "      <td>0.28</td>\n",
       "      <td>231.0</td>\n",
       "      <td>1</td>\n",
       "      <td>760.0</td>\n",
       "      <td>0</td>\n",
       "      <td>0</td>\n",
       "      <td>1</td>\n",
       "      <td>1</td>\n",
       "      <td>1</td>\n",
       "      <td>0</td>\n",
       "    </tr>\n",
       "    <tr>\n",
       "      <th>3082</th>\n",
       "      <td>1.0</td>\n",
       "      <td>11020.0</td>\n",
       "      <td>180</td>\n",
       "      <td>3.49</td>\n",
       "      <td>0.87</td>\n",
       "      <td>79.0</td>\n",
       "      <td>0</td>\n",
       "      <td>704.0</td>\n",
       "      <td>0</td>\n",
       "      <td>1</td>\n",
       "      <td>0</td>\n",
       "      <td>1</td>\n",
       "      <td>1</td>\n",
       "      <td>0</td>\n",
       "    </tr>\n",
       "    <tr>\n",
       "      <th>3956</th>\n",
       "      <td>1.0</td>\n",
       "      <td>17225.0</td>\n",
       "      <td>180</td>\n",
       "      <td>3.49</td>\n",
       "      <td>0.49</td>\n",
       "      <td>123.0</td>\n",
       "      <td>0</td>\n",
       "      <td>760.0</td>\n",
       "      <td>0</td>\n",
       "      <td>0</td>\n",
       "      <td>1</td>\n",
       "      <td>0</td>\n",
       "      <td>1</td>\n",
       "      <td>0</td>\n",
       "    </tr>\n",
       "    <tr>\n",
       "      <th>2318</th>\n",
       "      <td>1.0</td>\n",
       "      <td>16120.0</td>\n",
       "      <td>180</td>\n",
       "      <td>3.49</td>\n",
       "      <td>0.36</td>\n",
       "      <td>115.0</td>\n",
       "      <td>1</td>\n",
       "      <td>751.5</td>\n",
       "      <td>0</td>\n",
       "      <td>0</td>\n",
       "      <td>1</td>\n",
       "      <td>1</td>\n",
       "      <td>1</td>\n",
       "      <td>0</td>\n",
       "    </tr>\n",
       "    <tr>\n",
       "      <th>4338</th>\n",
       "      <td>1.0</td>\n",
       "      <td>17175.0</td>\n",
       "      <td>180</td>\n",
       "      <td>3.49</td>\n",
       "      <td>0.48</td>\n",
       "      <td>123.0</td>\n",
       "      <td>1</td>\n",
       "      <td>727.0</td>\n",
       "      <td>0</td>\n",
       "      <td>0</td>\n",
       "      <td>1</td>\n",
       "      <td>0</td>\n",
       "      <td>0</td>\n",
       "      <td>1</td>\n",
       "    </tr>\n",
       "  </tbody>\n",
       "</table>\n",
       "</div>"
      ],
      "text/plain": [
       "      const  ORIGINAL LOAN AMOUNT  ORIGINAL TERM  INTEREST RATE  \\\n",
       "728     1.0               12713.0             60           3.49   \n",
       "3082    1.0               11020.0            180           3.49   \n",
       "3956    1.0               17225.0            180           3.49   \n",
       "2318    1.0               16120.0            180           3.49   \n",
       "4338    1.0               17175.0            180           3.49   \n",
       "\n",
       "      DEBT TO INCOME  PAYMENT AMOUNT  co-signed  avg_credit_score  \\\n",
       "728             0.28           231.0          1             760.0   \n",
       "3082            0.87            79.0          0             704.0   \n",
       "3956            0.49           123.0          0             760.0   \n",
       "2318            0.36           115.0          1             751.5   \n",
       "4338            0.48           123.0          1             727.0   \n",
       "\n",
       "      has_successor_num  unpledged  underwritten_t1  loan_type_smart_energy  \\\n",
       "728                   0          0                1                       1   \n",
       "3082                  0          1                0                       1   \n",
       "3956                  0          0                1                       0   \n",
       "2318                  0          0                1                       1   \n",
       "4338                  0          0                1                       0   \n",
       "\n",
       "      purpose_ee  purpose_sol  \n",
       "728            1            0  \n",
       "3082           1            0  \n",
       "3956           1            0  \n",
       "2318           1            0  \n",
       "4338           0            1  "
      ]
     },
     "execution_count": 5,
     "metadata": {},
     "output_type": "execute_result"
    }
   ],
   "source": [
    "X_train.head()"
   ]
  },
  {
   "cell_type": "code",
   "execution_count": 6,
   "metadata": {},
   "outputs": [
    {
     "name": "stderr",
     "output_type": "stream",
     "text": [
      "C:\\Users\\2bogu\\anaconda3\\lib\\site-packages\\ipykernel_launcher.py:9: SettingWithCopyWarning: \n",
      "A value is trying to be set on a copy of a slice from a DataFrame.\n",
      "Try using .loc[row_indexer,col_indexer] = value instead\n",
      "\n",
      "See the caveats in the documentation: https://pandas.pydata.org/pandas-docs/stable/user_guide/indexing.html#returning-a-view-versus-a-copy\n",
      "  if __name__ == '__main__':\n",
      "C:\\Users\\2bogu\\anaconda3\\lib\\site-packages\\pandas\\core\\indexing.py:1736: SettingWithCopyWarning: \n",
      "A value is trying to be set on a copy of a slice from a DataFrame.\n",
      "Try using .loc[row_indexer,col_indexer] = value instead\n",
      "\n",
      "See the caveats in the documentation: https://pandas.pydata.org/pandas-docs/stable/user_guide/indexing.html#returning-a-view-versus-a-copy\n",
      "  isetter(loc, value[:, i].tolist())\n",
      "C:\\Users\\2bogu\\anaconda3\\lib\\site-packages\\ipykernel_launcher.py:15: SettingWithCopyWarning: \n",
      "A value is trying to be set on a copy of a slice from a DataFrame.\n",
      "Try using .loc[row_indexer,col_indexer] = value instead\n",
      "\n",
      "See the caveats in the documentation: https://pandas.pydata.org/pandas-docs/stable/user_guide/indexing.html#returning-a-view-versus-a-copy\n",
      "  from ipykernel import kernelapp as app\n",
      "C:\\Users\\2bogu\\anaconda3\\lib\\site-packages\\pandas\\core\\indexing.py:1736: SettingWithCopyWarning: \n",
      "A value is trying to be set on a copy of a slice from a DataFrame.\n",
      "Try using .loc[row_indexer,col_indexer] = value instead\n",
      "\n",
      "See the caveats in the documentation: https://pandas.pydata.org/pandas-docs/stable/user_guide/indexing.html#returning-a-view-versus-a-copy\n",
      "  isetter(loc, value[:, i].tolist())\n"
     ]
    }
   ],
   "source": [
    "from sklearn.preprocessing import StandardScaler\n",
    "\n",
    "X_scaler = StandardScaler()\n",
    "\n",
    "X_train[['ORIGINAL LOAN AMOUNT', 'ORIGINAL TERM', \n",
    "         'INTEREST RATE','DEBT TO INCOME', \n",
    "         'PAYMENT AMOUNT', 'avg_credit_score']] = X_scaler.fit_transform(X_train[['ORIGINAL LOAN AMOUNT', 'ORIGINAL TERM', \n",
    "                                                                                  'INTEREST RATE', 'DEBT TO INCOME', \n",
    "                                                                                  'PAYMENT AMOUNT', 'avg_credit_score']])\n",
    "\n",
    "X_test[['ORIGINAL LOAN AMOUNT', 'ORIGINAL TERM', \n",
    "        'INTEREST RATE', 'DEBT TO INCOME', \n",
    "        'PAYMENT AMOUNT', 'avg_credit_score']] = X_scaler.transform(X_test[['ORIGINAL LOAN AMOUNT', 'ORIGINAL TERM', \n",
    "                                                                            'INTEREST RATE', 'DEBT TO INCOME', \n",
    "                                                                            'PAYMENT AMOUNT', 'avg_credit_score']])\n"
   ]
  },
  {
   "cell_type": "code",
   "execution_count": 11,
   "metadata": {},
   "outputs": [],
   "source": [
    "cv = StratifiedKFold(n_splits=5)\n",
    "xcv = RepeatedStratifiedKFold(n_splits=5, n_repeats=2, random_state=2)"
   ]
  },
  {
   "cell_type": "code",
   "execution_count": 26,
   "metadata": {},
   "outputs": [],
   "source": [
    "def classify(model, X_train=X_train, y_train=y_train, X_test=X_test ):\n",
    "    '''Takes in model, X_train, X_test, y_train\n",
    "    returns tuple of (fit model, y_pred, predict_proba[:,1])'''\n",
    "    \n",
    "    m = model.fit(X_train, y_train)\n",
    "    \n",
    "    pred = m.predict(X_test)\n",
    "    \n",
    "    prob = m.predict_proba(X_test)[:,1]\n",
    "    \n",
    "    return (m, pred, prob)\n",
    "\n",
    "### CUSTOME SCORERS FOR PRECISION METRICS\n",
    "pre_scorer = make_scorer(precision_score)\n",
    "#### AVERAGE PRECISION SCORE\n",
    "avg_pre_scorer = make_scorer(average_precision_score)\n",
    "#### AUC FOR PRECISION RECALL CURVE\n",
    "def pr_auc(y_true, y_score, **kwargs):\n",
    "    pre, re, _ = precision_recall_curve(y_true, y_score)\n",
    "    return auc(re, pre)\n",
    "\n",
    "pr_auc_scorer = make_scorer(pr_auc)\n",
    "\n",
    "### CV FUNCTION THAT RETURNS THREE PRECISION SCORES\n",
    "def p3_cv(model, X=X_train, y=y_train, cv=xcv, stats=False):\n",
    "    '''takes the model, X_train, y_train, cv(=5)\n",
    "    returns auc of precision recall curve, precision, and average precision'''\n",
    "    \n",
    "    scores = cross_val_score(model, X, y, cv=cv, \n",
    "                             scoring=pre_scorer, n_jobs=-1)\n",
    "    \n",
    "    \n",
    "    scores1 = cross_val_score(model, X, y, cv=cv, \n",
    "                             scoring=avg_pre_scorer, n_jobs=-1)\n",
    "    \n",
    "    scores2 = cross_val_score(model, X, y, cv=cv, \n",
    "                             scoring=pr_auc_scorer, n_jobs=-1)\n",
    "    \n",
    "    if stats:\n",
    "        print(str(model))\n",
    "        print(scores)\n",
    "        print('Mean precision:', scores.mean())\n",
    "        print('STD precision:', scores.std())\n",
    "        print(scores1)\n",
    "        print('Mean average precision:', scores1.mean())\n",
    "        print('STD average precision:', scores1.std())\n",
    "        print(scores2)\n",
    "        print('Mean PR auc:', scores2.mean())\n",
    "        print('STD PR auc:', scores2.std())\n",
    "    \n",
    "    return (scores.mean(), scores1.mean(), scores2.mean())\n",
    "\n",
    "\n",
    "def model_cv(model, X=X_train, y=y_train, cv=5, scoring=pre_scorer, f1=True, stats=False):\n",
    "    '''takes the model, X_train, y_train, cv(=5), scoring(='roc_auc')\n",
    "    returns mean roc_auc and mean of input socre default f1, prints array, mean, std of scores scores'''\n",
    "    \n",
    "    scores = cross_val_score(model, X, y, cv=cv, \n",
    "                             scoring='pr_auc', n_jobs=-1)\n",
    "    \n",
    "    \n",
    "    scores1 = cross_val_score(model, X, y, cv=cv, \n",
    "                             scoring=scoring, n_jobs=-1)\n",
    "    \n",
    "    if stats:\n",
    "        print(str(model))\n",
    "        print(scores)\n",
    "        print('Mean roc-auc:', scores.mean())\n",
    "        print('STD roc-auc', scores.std())\n",
    "    \n",
    "    return (scores.mean(), scores1.mean())\n",
    "\n",
    "def model_cv1(model, X=X_train, y=y_train, cv=5, scoring=pre_scorer):\n",
    "    '''takes the model, X_train, y_train, cv(=5), scoring(='roc_auc')\n",
    "    returns mean roc_auc and mean of input socre default f1, prints array, mean, std of scores scores'''\n",
    "    \n",
    "    \n",
    "    scores = cross_val_score(model, X, y, cv=cv, \n",
    "                             scoring=scoring, n_jobs=-1)    \n",
    "    \n",
    "    return scores.mean()\n"
   ]
  },
  {
   "cell_type": "code",
   "execution_count": 8,
   "metadata": {},
   "outputs": [],
   "source": [
    "###### COME BACK TO THIS\n",
    "###### ALTER FOR PRECISION RECALL CURVE\n",
    "def find_threshold(probs, y_test=y_test):\n",
    "    '''takes predict_proba[:,1] for certain model, y_test is set because imonly doing this for the one y_test\n",
    "    uses Youdens J statistic\n",
    "    prints the threshold\n",
    "    returns new predictions given the threshold'''\n",
    "    \n",
    "    fpr, tpr, thresholds = precision_recall_curve(y_test, probs)\n",
    "    \n",
    "    gmeans = tpr - fpr\n",
    "    \n",
    "    thresh = thresholds[np.argmax(gmeans)]\n",
    "    \n",
    "    print('The threshold is', thresh)\n",
    "    return (probs >= thresh).astype(int)\n"
   ]
  },
  {
   "cell_type": "code",
   "execution_count": 9,
   "metadata": {},
   "outputs": [],
   "source": [
    "X_train = X_train.values\n",
    "X_test = X_test.values\n",
    "y_train = y_train.values.ravel()\n",
    "y_test= y_test.values.ravel()"
   ]
  },
  {
   "cell_type": "code",
   "execution_count": 10,
   "metadata": {},
   "outputs": [],
   "source": [
    "from imblearn.over_sampling import SMOTE\n",
    "from imblearn.over_sampling import BorderlineSMOTE, ADASYN, SVMSMOTE\n",
    "from imblearn.under_sampling import RandomUnderSampler\n",
    "\n",
    "smo = SMOTE(sampling_strategy=0.1) # 'over' in pipeline\n",
    "bor = BorderlineSMOTE(sampling_strategy=0.1) # 'over' in pipeline\n",
    "ada = ADASYN(sampling_strategy=0.1) # 'over'\n",
    "svm = SVMSMOTE(sampling_strategy=0.1)\n",
    "\n",
    "under = RandomUnderSampler(sampling_strategy=0.5)"
   ]
  },
  {
   "cell_type": "code",
   "execution_count": 11,
   "metadata": {},
   "outputs": [],
   "source": [
    "classifiers = ['Log Reg',\n",
    "               'KNN', \n",
    "               'Random Forest', \n",
    "               'Gradient Boost',\n",
    "              ] # 'ComplementNB'\n",
    "\n",
    "### ACTUALLY AVERAGE PERCISION SCORE\n",
    "scores_roc = []\n",
    "smo_scores_roc = []\n",
    "bor_scores_roc = []\n",
    "ada_scores_roc = []\n",
    "svm_scores_roc = []\n",
    "\n",
    "\n",
    "scores_f1 = []\n",
    "smo_scores_f1 = []\n",
    "bor_scores_f1 = []\n",
    "ada_scores_f1 = []\n",
    "svm_scores_f1 = []\n",
    "\n",
    "lr = LogisticRegression(random_state=2)\n",
    "knn = KNeighborsClassifier()\n",
    "rf = RandomForestClassifier(random_state=2)\n",
    "gb = GradientBoostingClassifier(random_state=2)\n",
    "\n",
    "\n",
    "models = [lr, knn, rf, gb]\n",
    "\n",
    "for m in models:\n",
    "    steps= [('model', m)]\n",
    "    pl = Pipeline(steps=steps)\n",
    "    roc, f1 = model_cv(pl, cv=xcv)\n",
    "    scores_roc.append(round(roc,3))\n",
    "    scores_f1.append(round(f1,3))\n",
    "    \n",
    "for m in models:\n",
    "    steps= [('over', smo), ('under', under), ('model', m)]\n",
    "    pl = Pipeline(steps=steps)\n",
    "    roc, f1 = model_cv(pl, cv=xcv)\n",
    "    smo_scores_roc.append(round(roc,3))\n",
    "    smo_scores_f1.append(round(f1,3))\n",
    "    \n",
    "for m in models:\n",
    "    steps= [('over', bor), ('under', under), ('model', m)]\n",
    "    pl = Pipeline(steps=steps)\n",
    "    roc, f1 = model_cv(pl, cv=xcv)\n",
    "    bor_scores_roc.append(round(roc,3))\n",
    "    bor_scores_f1.append(round(f1,3))\n",
    "    \n",
    "for m in models:\n",
    "    steps= [('over', ada), ('under', under), ('model', m)]\n",
    "    pl = Pipeline(steps=steps)\n",
    "    roc, f1 = model_cv(pl, cv=xcv)\n",
    "    ada_scores_roc.append(round(roc,3))\n",
    "    ada_scores_f1.append(round(f1,3))\n",
    "    \n",
    "for m in models:\n",
    "    steps= [('over', svm), ('under', under), ('model', m)]\n",
    "    pl = Pipeline(steps=steps)\n",
    "    roc, f1 = model_cv(pl, cv=xcv)\n",
    "    svm_scores_roc.append(round(roc,3))\n",
    "    svm_scores_f1.append(round(f1,3))\n",
    "    \n",
    "roc_auc_cv = pd.DataFrame(list(zip(scores_roc, \n",
    "                                   smo_scores_roc,\n",
    "                                   bor_scores_roc,\n",
    "                                   ada_scores_roc,\n",
    "                                   svm_scores_roc)),\n",
    "                          index=classifiers,\n",
    "                         columns=['ROC-AUC', 'SMOTE ROC-AUC',\n",
    "                                 'Borderline ROC_AUC', 'ADASYN ROC-AUC', 'SVM SMOTE ROC-AUC'])\n",
    "\n",
    "f1_cv = pd.DataFrame(list(zip(scores_f1, \n",
    "                              smo_scores_f1,\n",
    "                              bor_scores_f1,\n",
    "                              ada_scores_f1,\n",
    "                              svm_scores_f1)),\n",
    "                          index=classifiers,\n",
    "                         columns=['Precision', 'SMOTE Precision',\n",
    "                                 'Borderline Precision', 'ADASYN Precision', 'SVM SMOTE Precision'])"
   ]
  },
  {
   "cell_type": "code",
   "execution_count": 12,
   "metadata": {},
   "outputs": [
    {
     "data": {
      "text/html": [
       "<div>\n",
       "<style scoped>\n",
       "    .dataframe tbody tr th:only-of-type {\n",
       "        vertical-align: middle;\n",
       "    }\n",
       "\n",
       "    .dataframe tbody tr th {\n",
       "        vertical-align: top;\n",
       "    }\n",
       "\n",
       "    .dataframe thead th {\n",
       "        text-align: right;\n",
       "    }\n",
       "</style>\n",
       "<table border=\"1\" class=\"dataframe\">\n",
       "  <thead>\n",
       "    <tr style=\"text-align: right;\">\n",
       "      <th></th>\n",
       "      <th>ROC-AUC</th>\n",
       "      <th>SMOTE ROC-AUC</th>\n",
       "      <th>Borderline ROC_AUC</th>\n",
       "      <th>ADASYN ROC-AUC</th>\n",
       "      <th>SVM SMOTE ROC-AUC</th>\n",
       "    </tr>\n",
       "  </thead>\n",
       "  <tbody>\n",
       "    <tr>\n",
       "      <th>Log Reg</th>\n",
       "      <td>0.855</td>\n",
       "      <td>0.854</td>\n",
       "      <td>0.852</td>\n",
       "      <td>0.852</td>\n",
       "      <td>0.854</td>\n",
       "    </tr>\n",
       "    <tr>\n",
       "      <th>KNN</th>\n",
       "      <td>0.718</td>\n",
       "      <td>0.814</td>\n",
       "      <td>0.810</td>\n",
       "      <td>0.802</td>\n",
       "      <td>0.802</td>\n",
       "    </tr>\n",
       "    <tr>\n",
       "      <th>Random Forest</th>\n",
       "      <td>0.841</td>\n",
       "      <td>0.852</td>\n",
       "      <td>0.853</td>\n",
       "      <td>0.854</td>\n",
       "      <td>0.847</td>\n",
       "    </tr>\n",
       "    <tr>\n",
       "      <th>Gradient Boost</th>\n",
       "      <td>0.861</td>\n",
       "      <td>0.862</td>\n",
       "      <td>0.860</td>\n",
       "      <td>0.863</td>\n",
       "      <td>0.857</td>\n",
       "    </tr>\n",
       "  </tbody>\n",
       "</table>\n",
       "</div>"
      ],
      "text/plain": [
       "                ROC-AUC  SMOTE ROC-AUC  Borderline ROC_AUC  ADASYN ROC-AUC  \\\n",
       "Log Reg           0.855          0.854               0.852           0.852   \n",
       "KNN               0.718          0.814               0.810           0.802   \n",
       "Random Forest     0.841          0.852               0.853           0.854   \n",
       "Gradient Boost    0.861          0.862               0.860           0.863   \n",
       "\n",
       "                SVM SMOTE ROC-AUC  \n",
       "Log Reg                     0.854  \n",
       "KNN                         0.802  \n",
       "Random Forest               0.847  \n",
       "Gradient Boost              0.857  "
      ]
     },
     "execution_count": 12,
     "metadata": {},
     "output_type": "execute_result"
    }
   ],
   "source": [
    "roc_auc_cv"
   ]
  },
  {
   "cell_type": "code",
   "execution_count": 13,
   "metadata": {},
   "outputs": [
    {
     "data": {
      "text/html": [
       "<div>\n",
       "<style scoped>\n",
       "    .dataframe tbody tr th:only-of-type {\n",
       "        vertical-align: middle;\n",
       "    }\n",
       "\n",
       "    .dataframe tbody tr th {\n",
       "        vertical-align: top;\n",
       "    }\n",
       "\n",
       "    .dataframe thead th {\n",
       "        text-align: right;\n",
       "    }\n",
       "</style>\n",
       "<table border=\"1\" class=\"dataframe\">\n",
       "  <thead>\n",
       "    <tr style=\"text-align: right;\">\n",
       "      <th></th>\n",
       "      <th>Precision</th>\n",
       "      <th>SMOTE Precision</th>\n",
       "      <th>Borderline Precision</th>\n",
       "      <th>ADASYN Precision</th>\n",
       "      <th>SVM SMOTE Precision</th>\n",
       "    </tr>\n",
       "  </thead>\n",
       "  <tbody>\n",
       "    <tr>\n",
       "      <th>Log Reg</th>\n",
       "      <td>0.526</td>\n",
       "      <td>0.202</td>\n",
       "      <td>0.203</td>\n",
       "      <td>0.198</td>\n",
       "      <td>0.223</td>\n",
       "    </tr>\n",
       "    <tr>\n",
       "      <th>KNN</th>\n",
       "      <td>0.323</td>\n",
       "      <td>0.163</td>\n",
       "      <td>0.169</td>\n",
       "      <td>0.163</td>\n",
       "      <td>0.182</td>\n",
       "    </tr>\n",
       "    <tr>\n",
       "      <th>Random Forest</th>\n",
       "      <td>0.590</td>\n",
       "      <td>0.234</td>\n",
       "      <td>0.232</td>\n",
       "      <td>0.229</td>\n",
       "      <td>0.234</td>\n",
       "    </tr>\n",
       "    <tr>\n",
       "      <th>Gradient Boost</th>\n",
       "      <td>0.467</td>\n",
       "      <td>0.209</td>\n",
       "      <td>0.217</td>\n",
       "      <td>0.200</td>\n",
       "      <td>0.221</td>\n",
       "    </tr>\n",
       "  </tbody>\n",
       "</table>\n",
       "</div>"
      ],
      "text/plain": [
       "                Precision  SMOTE Precision  Borderline Precision  \\\n",
       "Log Reg             0.526            0.202                 0.203   \n",
       "KNN                 0.323            0.163                 0.169   \n",
       "Random Forest       0.590            0.234                 0.232   \n",
       "Gradient Boost      0.467            0.209                 0.217   \n",
       "\n",
       "                ADASYN Precision  SVM SMOTE Precision  \n",
       "Log Reg                    0.198                0.223  \n",
       "KNN                        0.163                0.182  \n",
       "Random Forest              0.229                0.234  \n",
       "Gradient Boost             0.200                0.221  "
      ]
     },
     "execution_count": 13,
     "metadata": {},
     "output_type": "execute_result"
    }
   ],
   "source": [
    "f1_cv # CURRENTLY F BETA"
   ]
  },
  {
   "cell_type": "code",
   "execution_count": 14,
   "metadata": {},
   "outputs": [
    {
     "data": {
      "text/plain": [
       "<AxesSubplot:>"
      ]
     },
     "execution_count": 14,
     "metadata": {},
     "output_type": "execute_result"
    },
    {
     "data": {
      "image/png": "[encoded data removed]",
      "text/plain": [
       "<Figure size 432x288 with 2 Axes>"
      ]
     },
     "metadata": {
      "needs_background": "light"
     },
     "output_type": "display_data"
    }
   ],
   "source": [
    "import seaborn as sns\n",
    "\n",
    "sns.heatmap(roc_auc_cv, annot=True)"
   ]
  },
  {
   "cell_type": "code",
   "execution_count": 15,
   "metadata": {},
   "outputs": [
    {
     "data": {
      "text/plain": [
       "<AxesSubplot:>"
      ]
     },
     "execution_count": 15,
     "metadata": {},
     "output_type": "execute_result"
    },
    {
     "data": {
      "image/png": "[encoded data removed]",
      "text/plain": [
       "<Figure size 432x288 with 2 Axes>"
      ]
     },
     "metadata": {
      "needs_background": "light"
     },
     "output_type": "display_data"
    }
   ],
   "source": [
    "sns.heatmap(f1_cv, annot=True)"
   ]
  },
  {
   "cell_type": "code",
   "execution_count": 29,
   "metadata": {},
   "outputs": [],
   "source": [
    "classifiers = ['Log Reg',\n",
    "               'KNN', \n",
    "               'Random Forest', \n",
    "               'Gradient Boost',\n",
    "              ] # 'ComplementNB'\n",
    "\n",
    "### AREA UNDER PRECISION RECALL CURVE\n",
    "scores_auc = []\n",
    "\n",
    "### PRECISION W DEFAULT THRESHOLD\n",
    "scores_p = []\n",
    "\n",
    "### AVERAGE PRECISION\n",
    "scores_avgp = []\n",
    "\n",
    "lr = LogisticRegression(random_state=2)\n",
    "knn = KNeighborsClassifier()\n",
    "rf = RandomForestClassifier(random_state=2)\n",
    "gb = GradientBoostingClassifier(random_state=2)\n",
    "\n",
    "\n",
    "models = [lr, knn, rf, gb]\n",
    "\n",
    "for m in models:\n",
    "    steps= [('model', m)]\n",
    "    pl = Pipeline(steps=steps)\n",
    "    p, avg_p, pr_auc = p3_cv(pl, cv=xcv)\n",
    "    scores_p.append(round(p,3))\n",
    "    scores_avgp.append(round(avg_p,3))\n",
    "    scores_auc.append(round(pr_auc,3))\n",
    "    \n",
    "\n",
    "precision_scores = pd.DataFrame(list(zip(scores_p, scores_avgp, scores_auc)),\n",
    "                          index=classifiers,\n",
    "                         columns=['Precision','Avg Precision','P/R AUC'])\n"
   ]
  },
  {
   "cell_type": "code",
   "execution_count": 30,
   "metadata": {},
   "outputs": [
    {
     "data": {
      "text/plain": [
       "<AxesSubplot:>"
      ]
     },
     "execution_count": 30,
     "metadata": {},
     "output_type": "execute_result"
    },
    {
     "data": {
      "image/png": "[encoded data removed]",
      "text/plain": [
       "<Figure size 432x288 with 2 Axes>"
      ]
     },
     "metadata": {
      "needs_background": "light"
     },
     "output_type": "display_data"
    }
   ],
   "source": [
    "import seaborn as sns\n",
    "\n",
    "sns.heatmap(precision_scores, annot=True)"
   ]
  },
  {
   "cell_type": "markdown",
   "metadata": {},
   "source": [
    "# Hyperparameter Tuning"
   ]
  },
  {
   "cell_type": "code",
   "execution_count": 34,
   "metadata": {},
   "outputs": [],
   "source": [
    "def gs_tuning(model, params, X=X_train, y=y_train, scoring=pre_scorer, n_jobs=-1, cv=cv):\n",
    "    \n",
    "    gs = GridSearchCV(estimator=model,\n",
    "                    param_grid=params,\n",
    "                    scoring=scoring,\n",
    "                    n_jobs=n_jobs,\n",
    "                    cv=cv,\n",
    "                    refit=True)\n",
    "    \n",
    "    m = gs.fit(X, y)\n",
    "    #pred = m.predict_proba(X_test)[:,1]\n",
    "    \n",
    "    print(m.best_params_,)\n",
    "    print('Train score:', m.best_score_)\n",
    "    print('Test score:', m.score(X_test, y_test))#roc_auc_score(y_test, pred)\n",
    "    print(m.best_estimator_)\n",
    "    \n",
    "    return m.best_estimator_"
   ]
  },
  {
   "cell_type": "markdown",
   "metadata": {},
   "source": [
    "### LOGISTIC REGRESSION"
   ]
  },
  {
   "cell_type": "code",
   "execution_count": 46,
   "metadata": {},
   "outputs": [
    {
     "name": "stdout",
     "output_type": "stream",
     "text": [
      "{'C': 0.1, 'class_weight': None, 'l1_ratio': 0.1, 'penalty': 'l1', 'solver': 'saga'}\n",
      "Train score: 0.7316666666666667\n",
      "Test score: 0.5\n",
      "LogisticRegression(C=0.1, l1_ratio=0.1, n_jobs=-1, penalty='l1', random_state=2,\n",
      "                   solver='saga')\n"
     ]
    },
    {
     "name": "stderr",
     "output_type": "stream",
     "text": [
      "C:\\Users\\2bogu\\anaconda3\\lib\\site-packages\\sklearn\\linear_model\\_logistic.py:1317: UserWarning: l1_ratio parameter is only used when penalty is 'elasticnet'. Got (penalty=l1)\n",
      "  \"(penalty={})\".format(self.penalty))\n",
      "C:\\Users\\2bogu\\anaconda3\\lib\\site-packages\\sklearn\\linear_model\\_sag.py:330: ConvergenceWarning: The max_iter was reached which means the coef_ did not converge\n",
      "  \"the coef_ did not converge\", ConvergenceWarning)\n"
     ]
    }
   ],
   "source": [
    "lr_ = LogisticRegression(random_state=2, n_jobs=-1)\n",
    "\n",
    "params = {'penalty':['l1', 'l2', 'elasticnet', 'none'], \n",
    "          'C':[0.01,0.1,1,10], \n",
    "          'class_weight':['balanced', None], \n",
    "          'solver':['newton-cg', 'lbfgs', 'liblinear', 'sag', 'saga'],\n",
    "          'l1_ratio':[.1, .3, .5, .7, .9]} \n",
    "          \n",
    "\n",
    "lr_pre = gs_tuning(lr_, params)"
   ]
  },
  {
   "cell_type": "code",
   "execution_count": 43,
   "metadata": {},
   "outputs": [
    {
     "name": "stderr",
     "output_type": "stream",
     "text": [
      "C:\\Users\\2bogu\\anaconda3\\lib\\site-packages\\sklearn\\linear_model\\_logistic.py:1317: UserWarning: l1_ratio parameter is only used when penalty is 'elasticnet'. Got (penalty=l2)\n",
      "  \"(penalty={})\".format(self.penalty))\n",
      "C:\\Users\\2bogu\\anaconda3\\lib\\site-packages\\sklearn\\linear_model\\_sag.py:330: ConvergenceWarning: The max_iter was reached which means the coef_ did not converge\n",
      "  \"the coef_ did not converge\", ConvergenceWarning)\n"
     ]
    },
    {
     "name": "stdout",
     "output_type": "stream",
     "text": [
      "{'C': 10, 'class_weight': 'balanced', 'l1_ratio': 0.1, 'penalty': 'l2', 'solver': 'sag'}\n",
      "Train score: 0.12819007454587306\n",
      "Test score: 0.15361618456366055\n",
      "LogisticRegression(C=10, class_weight='balanced', l1_ratio=0.1, n_jobs=-1,\n",
      "                   random_state=2, solver='sag')\n"
     ]
    }
   ],
   "source": [
    "lr_ = LogisticRegression(random_state=2, n_jobs=-1)\n",
    "\n",
    "params = {'penalty':['l1', 'l2', 'elasticnet', 'none'], \n",
    "          'C':[0.01,0.1,1,10], \n",
    "          'class_weight':['balanced', None], \n",
    "          'solver':['newton-cg', 'lbfgs', 'liblinear', 'sag', 'saga'],\n",
    "          'l1_ratio':[.1, .3, .5, .7, .9]} \n",
    "          \n",
    "\n",
    "lr_avg_pre = gs_tuning(lr_, params, scoring=avg_pre_scorer)"
   ]
  },
  {
   "cell_type": "code",
   "execution_count": 44,
   "metadata": {},
   "outputs": [
    {
     "name": "stdout",
     "output_type": "stream",
     "text": [
      "{'C': 0.01, 'class_weight': None, 'l1_ratio': 0.1, 'penalty': 'l1', 'solver': 'liblinear'}\n",
      "Train score: 0.5251807951987997\n",
      "Test score: 0.02517428350116189\n",
      "LogisticRegression(C=0.01, l1_ratio=0.1, n_jobs=-1, penalty='l1',\n",
      "                   random_state=2, solver='liblinear')\n"
     ]
    },
    {
     "name": "stderr",
     "output_type": "stream",
     "text": [
      "C:\\Users\\2bogu\\anaconda3\\lib\\site-packages\\sklearn\\linear_model\\_logistic.py:1317: UserWarning: l1_ratio parameter is only used when penalty is 'elasticnet'. Got (penalty=l1)\n",
      "  \"(penalty={})\".format(self.penalty))\n",
      "C:\\Users\\2bogu\\anaconda3\\lib\\site-packages\\sklearn\\linear_model\\_logistic.py:1355: UserWarning: 'n_jobs' > 1 does not have any effect when 'solver' is set to 'liblinear'. Got 'n_jobs' = 8.\n",
      "  \" = {}.\".format(effective_n_jobs(self.n_jobs)))\n"
     ]
    }
   ],
   "source": [
    "lr_ = LogisticRegression(random_state=2, n_jobs=-1)\n",
    "\n",
    "params = {'penalty':['l1', 'l2', 'elasticnet', 'none'], \n",
    "          'C':[0.01,0.1,1,10], \n",
    "          'class_weight':['balanced', None], \n",
    "          'solver':['newton-cg', 'lbfgs', 'liblinear', 'sag', 'saga'],\n",
    "          'l1_ratio':[.1, .3, .5, .7, .9]} \n",
    "          \n",
    "\n",
    "lr_pr_auc = gs_tuning(lr_, params, scoring=pr_auc_scorer)"
   ]
  },
  {
   "cell_type": "code",
   "execution_count": 51,
   "metadata": {},
   "outputs": [],
   "source": [
    "lr_pre_pred = lr_pre.predict(X_test)\n",
    "lr_pre_proba = lr_pre.predict_proba(X_test)[:,1]\n",
    "\n",
    "lr_avg_pre_pred = lr_avg_pre.predict(X_test)\n",
    "lr_avg_pre_proba = lr_avg_pre.predict_proba(X_test)[:,1]\n",
    "\n",
    "lr_pr_auc_pred = lr_pr_auc.predict(X_test)\n",
    "lr_pr_auc_proba = lr_pr_auc.predict_proba(X_test)[:,1]"
   ]
  },
  {
   "cell_type": "code",
   "execution_count": 57,
   "metadata": {},
   "outputs": [
    {
     "data": {
      "text/plain": [
       "array([0.01297676, 0.13331579, 0.02398572, ..., 0.15140317, 0.01889406,\n",
       "       0.03967114])"
      ]
     },
     "execution_count": 57,
     "metadata": {},
     "output_type": "execute_result"
    }
   ],
   "source": [
    "lr_pre_proba\n"
   ]
  },
  {
   "cell_type": "code",
   "execution_count": 54,
   "metadata": {},
   "outputs": [
    {
     "data": {
      "text/plain": [
       "Text(0.5, 1.0, 'Logestic Regression, precision/recall auc tuned')"
      ]
     },
     "execution_count": 54,
     "metadata": {},
     "output_type": "execute_result"
    },
    {
     "data": {
      "image/png": "[encoded data removed]",
      "text/plain": [
       "<Figure size 1440x360 with 6 Axes>"
      ]
     },
     "metadata": {
      "needs_background": "light"
     },
     "output_type": "display_data"
    }
   ],
   "source": [
    "fig, (ax1, ax2, ax3) = plt.subplots(1, 3, figsize=(20,5))\n",
    "\n",
    "### FOR NORMALIZED MATRIXES\n",
    "#cm1 = confusion_matrix(y_test, lr_pre_pred, normalize='true')\n",
    "#cm2 = confusion_matrix(y_test, lr_avg_pre_pred, normalize='true')\n",
    "#cm3 = confusion_matrix(y_test, lr_pr_auc_pred, normalize='true')\n",
    "\n",
    "cm1 = confusion_matrix(y_test, lr_pre_pred)\n",
    "cm2 = confusion_matrix(y_test, lr_avg_pre_pred)\n",
    "cm3 = confusion_matrix(y_test, lr_pr_auc_pred)\n",
    "\n",
    "cm1_dis = ConfusionMatrixDisplay(cm1).plot(ax=ax1, cmap=plt.cm.Blues)\n",
    "cm2_dis = ConfusionMatrixDisplay(cm2).plot(ax=ax2, cmap=plt.cm.Blues)\n",
    "cm3_dis = ConfusionMatrixDisplay(cm3).plot(ax=ax3, cmap=plt.cm.Blues)\n",
    "\n",
    "ax1.set_title('Logistic Regression, precision tuned')\n",
    "ax2.set_title('Logestic Regression, avg precision tuned')\n",
    "ax3.set_title('Logestic Regression, precision/recall auc tuned')"
   ]
  },
  {
   "cell_type": "code",
   "execution_count": 67,
   "metadata": {},
   "outputs": [
    {
     "data": {
      "image/png": "[encoded data removed]",
      "text/plain": [
       "<Figure size 504x504 with 1 Axes>"
      ]
     },
     "metadata": {
      "needs_background": "light"
     },
     "output_type": "display_data"
    }
   ],
   "source": [
    "fig = plt.figure(figsize=(7,7))\n",
    "lw = 2\n",
    "no_skill = len(y_test[y_test==1]) / len(y_test)\n",
    "plt.plot([0, 1], [no_skill,no_skill], color='black', lw=lw, linestyle='--')\n",
    "\n",
    "precision, recall, _ = precision_recall_curve(y_test, lr_pre_proba)\n",
    "auc_ = auc(recall, precision)\n",
    "plt.plot(recall, precision, color='darkgreen', lw=lw, label='LR, precision tuned(area = %0.2f)' % auc_)\n",
    "\n",
    "precision, recall, _ = precision_recall_curve(y_test, lr_avg_pre_proba)\n",
    "auc_ = auc(recall, precision)\n",
    "plt.plot(recall, precision, color='darkred', lw=lw, label='LR, avg precision tuned(area = %0.2f)' % auc_)\n",
    "\n",
    "precision, recall, _ = precision_recall_curve(y_test, lr_pr_auc_proba)\n",
    "auc_ = auc(recall, precision)\n",
    "plt.plot(recall, precision, color='darkblue', lw=lw, label='LR, p/r auc tuned(area = %0.2f)' % auc_)\n",
    "\n",
    "plt.xlim([0.0, 1.0])\n",
    "plt.ylim([0.0, 1.0])\n",
    "plt.xlabel('Recall')\n",
    "plt.ylabel('Precision')\n",
    "plt.title('Precision Recall Curve')\n",
    "plt.legend(loc=\"upper right\")\n",
    "plt.show()"
   ]
  },
  {
   "cell_type": "markdown",
   "metadata": {},
   "source": [
    "### RANDOM FOREST"
   ]
  },
  {
   "cell_type": "code",
   "execution_count": 45,
   "metadata": {},
   "outputs": [],
   "source": [
    "def gs_rand(model, params, X=X_train, y=y_train, scoring=pre_scorer, n_jobs=-1, cv=cv):\n",
    "    \n",
    "    gs = RandomizedSearchCV(model,\n",
    "                           params,\n",
    "                           scoring=scoring,\n",
    "                           n_jobs=n_jobs,\n",
    "                           cv=cv,\n",
    "                           n_iter=50,\n",
    "                           refit=True)\n",
    "    \n",
    "    m = gs.fit(X_train,y_train)\n",
    "    \n",
    "    #pred = m.predict_proba(X_test)[:,1]\n",
    "    \n",
    "    print(m.best_params_,)\n",
    "    print('Train score:', m.best_score_)\n",
    "    print('Test score:', m.score(X_test, y_test))#roc_auc_score(y_test, pred)\n",
    "    print(m.best_estimator_)\n",
    "    \n",
    "    return m.best_estimator_"
   ]
  },
  {
   "cell_type": "code",
   "execution_count": null,
   "metadata": {},
   "outputs": [],
   "source": [
    "rf.get_params().keys()"
   ]
  },
  {
   "cell_type": "code",
   "execution_count": 47,
   "metadata": {},
   "outputs": [
    {
     "name": "stdout",
     "output_type": "stream",
     "text": [
      "{'n_estimators': 1800, 'min_samples_split': 10, 'min_samples_leaf': 2, 'max_features': 'auto', 'max_depth': 30, 'criterion': 'gini', 'bootstrap': True}\n",
      "Train score: 0.8\n",
      "Test score: 1.0\n",
      "RandomForestClassifier(max_depth=30, min_samples_leaf=2, min_samples_split=10,\n",
      "                       n_estimators=1800, random_state=2)\n"
     ]
    }
   ],
   "source": [
    "# RANDOM GRID SEARCH WIDE RANGE OF PARAMS\n",
    "rf_ = RandomForestClassifier(random_state=2)\n",
    "\n",
    "params = {'criterion': ['gini', 'entropy'],\n",
    "         'bootstrap': [True, False],\n",
    "         'max_depth': [10, 30, 50, 70, 90, None],\n",
    "         'max_features': ['auto', 'sqrt'],\n",
    "         'min_samples_leaf': [1, 2, 4],\n",
    "         'min_samples_split': [2, 5, 10],\n",
    "         'n_estimators': [600, 1200, 1800]}\n",
    "          \n",
    "rf_pre = gs_rand(rf_, params) "
   ]
  },
  {
   "cell_type": "code",
   "execution_count": 73,
   "metadata": {},
   "outputs": [
    {
     "name": "stdout",
     "output_type": "stream",
     "text": [
      "              precision    recall  f1-score   support\n",
      "\n",
      "           0       0.95      1.00      0.97      1226\n",
      "           1       1.00      0.02      0.03        65\n",
      "\n",
      "    accuracy                           0.95      1291\n",
      "   macro avg       0.98      0.51      0.50      1291\n",
      "weighted avg       0.95      0.95      0.93      1291\n",
      "\n"
     ]
    }
   ],
   "source": [
    "print(classification_report(y_test, rf_pre_pred))"
   ]
  },
  {
   "cell_type": "code",
   "execution_count": 48,
   "metadata": {},
   "outputs": [
    {
     "name": "stdout",
     "output_type": "stream",
     "text": [
      "{'n_estimators': 1200, 'min_samples_split': 5, 'min_samples_leaf': 2, 'max_features': 'sqrt', 'max_depth': 90, 'criterion': 'entropy', 'bootstrap': False}\n",
      "Train score: 0.13675857252340845\n",
      "Test score: 0.08262408389441697\n",
      "RandomForestClassifier(bootstrap=False, criterion='entropy', max_depth=90,\n",
      "                       max_features='sqrt', min_samples_leaf=2,\n",
      "                       min_samples_split=5, n_estimators=1200, random_state=2)\n"
     ]
    }
   ],
   "source": [
    "# RANDOM GRID SEARCH WIDE RANGE OF PARAMS\n",
    "rf_ = RandomForestClassifier(random_state=2)\n",
    "\n",
    "params = {'criterion': ['gini', 'entropy'],\n",
    "         'bootstrap': [True, False],\n",
    "         'max_depth': [10, 30, 50, 70, 90, None],\n",
    "         'max_features': ['auto', 'sqrt'],\n",
    "         'min_samples_leaf': [1, 2, 4],\n",
    "         'min_samples_split': [2, 5, 10],\n",
    "         'n_estimators': [600, 1200, 1800]}\n",
    "          \n",
    "rf_avg_pre = gs_rand(rf_, params,scoring=avg_pre_scorer) "
   ]
  },
  {
   "cell_type": "code",
   "execution_count": 49,
   "metadata": {},
   "outputs": [
    {
     "name": "stdout",
     "output_type": "stream",
     "text": [
      "{'n_estimators': 1800, 'min_samples_split': 10, 'min_samples_leaf': 2, 'max_features': 'auto', 'max_depth': 90, 'criterion': 'gini', 'bootstrap': True}\n",
      "Train score: 0.5397905502016529\n",
      "Test score: 0.5324792945242209\n",
      "RandomForestClassifier(max_depth=90, min_samples_leaf=2, min_samples_split=10,\n",
      "                       n_estimators=1800, random_state=2)\n"
     ]
    }
   ],
   "source": [
    "# RANDOM GRID SEARCH WIDE RANGE OF PARAMS\n",
    "rf_ = RandomForestClassifier(random_state=2)\n",
    "\n",
    "params = {'criterion': ['gini', 'entropy'],\n",
    "         'bootstrap': [True, False],\n",
    "         'max_depth': [10, 30, 50, 70, 90, None],\n",
    "         'max_features': ['auto', 'sqrt'],\n",
    "         'min_samples_leaf': [1, 2, 4],\n",
    "         'min_samples_split': [2, 5, 10],\n",
    "         'n_estimators': [600, 1200, 1800]}\n",
    "          \n",
    "rf_pr_auc = gs_rand(rf_, params,scoring=pr_auc_scorer) "
   ]
  },
  {
   "cell_type": "code",
   "execution_count": 61,
   "metadata": {},
   "outputs": [],
   "source": [
    "rf_pre_pred = rf_pre.predict(X_test)\n",
    "rf_pre_proba = rf_pre.predict_proba(X_test)[:,1]\n",
    "\n",
    "rf_avg_pre_pred = rf_avg_pre.predict(X_test)\n",
    "rf_avg_pre_proba = rf_avg_pre.predict_proba(X_test)[:,1]\n",
    "\n",
    "rf_pr_auc_pred = rf_pr_auc.predict(X_test)\n",
    "rf_pr_auc_proba = rf_pr_auc.predict_proba(X_test)[:,1]"
   ]
  },
  {
   "cell_type": "code",
   "execution_count": 62,
   "metadata": {},
   "outputs": [
    {
     "data": {
      "text/plain": [
       "Text(0.5, 1.0, 'Random Forest, precision/recall auc tuned')"
      ]
     },
     "execution_count": 62,
     "metadata": {},
     "output_type": "execute_result"
    },
    {
     "data": {
      "image/png": "[encoded data removed]",
      "text/plain": [
       "<Figure size 1440x360 with 6 Axes>"
      ]
     },
     "metadata": {
      "needs_background": "light"
     },
     "output_type": "display_data"
    }
   ],
   "source": [
    "fig, (ax1, ax2, ax3) = plt.subplots(1, 3, figsize=(20,5))\n",
    "\n",
    "### FOR NORMALIZED MATRIXES\n",
    "#cm1 = confusion_matrix(y_test, lr_pre_pred, normalize='true')\n",
    "#cm2 = confusion_matrix(y_test, lr_avg_pre_pred, normalize='true')\n",
    "#cm3 = confusion_matrix(y_test, lr_pr_auc_pred, normalize='true')\n",
    "\n",
    "cm1 = confusion_matrix(y_test, rf_pre_pred)\n",
    "cm2 = confusion_matrix(y_test, rf_avg_pre_pred)\n",
    "cm3 = confusion_matrix(y_test, rf_pr_auc_pred)\n",
    "\n",
    "cm1_dis = ConfusionMatrixDisplay(cm1).plot(ax=ax1, cmap=plt.cm.Blues)\n",
    "cm2_dis = ConfusionMatrixDisplay(cm2).plot(ax=ax2, cmap=plt.cm.Blues)\n",
    "cm3_dis = ConfusionMatrixDisplay(cm3).plot(ax=ax3, cmap=plt.cm.Blues)\n",
    "\n",
    "ax1.set_title('Random Forest, precision tuned')\n",
    "ax2.set_title('Random Forest, avg precision tuned')\n",
    "ax3.set_title('Random Forest, precision/recall auc tuned')"
   ]
  },
  {
   "cell_type": "code",
   "execution_count": 66,
   "metadata": {},
   "outputs": [
    {
     "data": {
      "image/png": "[encoded data removed]",
      "text/plain": [
       "<Figure size 504x504 with 1 Axes>"
      ]
     },
     "metadata": {
      "needs_background": "light"
     },
     "output_type": "display_data"
    }
   ],
   "source": [
    "fig = plt.figure(figsize=(7,7))\n",
    "lw = 2\n",
    "no_skill = len(y_test[y_test==1]) / len(y_test)\n",
    "plt.plot([0, 1], [no_skill,no_skill], color='black', lw=lw, linestyle='--')\n",
    "\n",
    "precision, recall, _ = precision_recall_curve(y_test, rf_pre_proba)\n",
    "auc_ = auc(recall, precision)\n",
    "plt.plot(recall, precision, color='darkgreen', lw=lw, label='RF, precision tuned(area = %0.2f)' % auc_)\n",
    "\n",
    "precision, recall, _ = precision_recall_curve(y_test, rf_avg_pre_proba)\n",
    "auc_ = auc(recall, precision)\n",
    "plt.plot(recall, precision, color='darkred', lw=lw, label='RF, avg precision tuned(area = %0.2f)' % auc_)\n",
    "\n",
    "precision, recall, _ = precision_recall_curve(y_test, rf_pr_auc_proba)\n",
    "auc_ = auc(recall, precision)\n",
    "plt.plot(recall, precision, color='darkblue', lw=lw, label='RF, p/r auc tuned(area = %0.2f)' % auc_)\n",
    "\n",
    "plt.xlim([0.0, 1.0])\n",
    "plt.ylim([0.0, 1.1])\n",
    "plt.xlabel('Recall')\n",
    "plt.ylabel('Precision')\n",
    "plt.title('Precision Recall Curve')\n",
    "plt.legend(loc=\"upper right\")\n",
    "plt.show()"
   ]
  },
  {
   "cell_type": "markdown",
   "metadata": {},
   "source": [
    "## Goal is see if there is a group that is getting loans that should not be, precision is the proper measure"
   ]
  },
  {
   "cell_type": "code",
   "execution_count": null,
   "metadata": {},
   "outputs": [],
   "source": []
  }
 ],
 "metadata": {
  "kernelspec": {
   "display_name": "Python 3",
   "language": "python",
   "name": "python3"
  },
  "language_info": {
   "codemirror_mode": {
    "name": "ipython",
    "version": 3
   },
   "file_extension": ".py",
   "mimetype": "text/x-python",
   "name": "python",
   "nbconvert_exporter": "python",
   "pygments_lexer": "ipython3",
   "version": "3.7.6"
  }
 },
 "nbformat": 4,
 "nbformat_minor": 4
}
