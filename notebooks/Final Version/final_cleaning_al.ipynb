{
 "cells": [
  {
   "cell_type": "code",
   "execution_count": 1,
   "metadata": {
    "ExecuteTime": {
     "end_time": "2021-03-17T20:05:37.942759Z",
     "start_time": "2021-03-17T20:05:32.072876Z"
    }
   },
   "outputs": [],
   "source": [
    "import requests\n",
    "import numpy as np\n",
    "import pandas as pd\n",
    "import pandas_profiling\n",
    "import json\n",
    "import os\n",
    "import matplotlib\n",
    "#matplotlib.use('TkAgg')\n",
    "import matplotlib.pyplot as plt\n",
    "import seaborn as sns\n",
    "import scipy.stats\n",
    "from scipy.stats import norm\n",
    "from datetime import datetime\n",
    "\n",
    "%matplotlib inline\n",
    "\n",
    "pd.options.display.max_columns = None\n",
    "\n",
    "import statsmodels.api as sm # Provides cross-sectional models and methods\n",
    "from statsmodels.graphics.api import abline_plot # Plots line given intercept and slope\n",
    "from sklearn.metrics import mean_squared_error, r2_score # Rates how close regression line is to data\n",
    "from sklearn.model_selection import train_test_split #  Splits data into training and test groups\n",
    "from sklearn import linear_model, preprocessing # Ordinary least square regression and standardizes the data\n",
    "import warnings # For handling error messages."
   ]
  },
  {
   "cell_type": "code",
   "execution_count": 2,
   "metadata": {
    "ExecuteTime": {
     "end_time": "2021-03-17T20:05:38.143436Z",
     "start_time": "2021-03-17T20:05:37.942759Z"
    }
   },
   "outputs": [],
   "source": [
    "os.chdir(r'C:\\Users\\2bogu\\OneDrive\\Desktop\\Sringboard_Materials\\capstone2\\data\\external')\n",
    "\n",
    "df = pd.read_csv('Green_Jobs_-_Green_New_York__GJGNY__Residential_Loan_Portfolio___Beginning_November_2010.csv')"
   ]
  },
  {
   "cell_type": "markdown",
   "metadata": {},
   "source": [
    "# Initial Cleaning"
   ]
  },
  {
   "cell_type": "code",
   "execution_count": 3,
   "metadata": {
    "ExecuteTime": {
     "end_time": "2021-03-17T20:05:38.162934Z",
     "start_time": "2021-03-17T20:05:38.143436Z"
    }
   },
   "outputs": [
    {
     "data": {
      "text/plain": [
       "Index(['Reporting Period', 'CONTRACT DATE', 'SETUP DATE',\n",
       "       'ORIGINAL LOAN AMOUNT', 'ORIGINAL TERM', 'ORIGINAL MATURITY DATE',\n",
       "       'CURRENT MATURITY DATE', 'INTEREST RATE', 'CREDIT SCORE CURRENT HIGH',\n",
       "       'CREDIT SCORE', 'CREDIT SCORE NAME 2', 'DEBT TO INCOME',\n",
       "       'FIRST PAYMENT DATE', 'LAST PAYMENT DATE', 'LAST PAYMENT AMOUNT',\n",
       "       'NEXT PAYMENT DUE DATE', 'PAYMENT AMOUNT', 'CURRENT BALANCE',\n",
       "       'UNAPPLIED CASH', 'DELINQUENT AMOUNT', 'TOTAL INTEREST PAID',\n",
       "       'TOTAL LATE CHARGE PAID', 'PAYMENTS REMAINING', 'DAYS DELINQUENT',\n",
       "       'PROPERTY COUNTY', 'UTILITY', 'INSTALLATION CITY', 'INSTALLATION ZIP',\n",
       "       'Contractor Name', 'SUCCESSOR NUMBER', 'ACCOUNT CODE',\n",
       "       'ACCOUNT CODE DATE', 'CANCEL REASON', 'TYPE OF BANKRUPTCY',\n",
       "       'Months Since Origination', 'Payments Made', 'Purpose', 'Loan Type',\n",
       "       'Underwriting', 'Pledged', 'Georeference'],\n",
       "      dtype='object')"
      ]
     },
     "execution_count": 3,
     "metadata": {},
     "output_type": "execute_result"
    }
   ],
   "source": [
    "df.columns"
   ]
  },
  {
   "cell_type": "code",
   "execution_count": 4,
   "metadata": {
    "ExecuteTime": {
     "end_time": "2021-03-17T20:05:38.182689Z",
     "start_time": "2021-03-17T20:05:38.162934Z"
    }
   },
   "outputs": [],
   "source": [
    "df = df.drop(['LAST PAYMENT AMOUNT', 'LAST PAYMENT DATE', 'FIRST PAYMENT DATE', \n",
    "              'DELINQUENT AMOUNT', 'DAYS DELINQUENT', 'Reporting Period', \n",
    "              'CREDIT SCORE CURRENT HIGH', 'NEXT PAYMENT DUE DATE', 'PAYMENTS REMAINING', \n",
    "              'PROPERTY COUNTY', 'UTILITY', 'INSTALLATION CITY', 'INSTALLATION ZIP', \n",
    "              'Contractor Name', 'Georeference', 'UNAPPLIED CASH', 'TOTAL LATE CHARGE PAID', \n",
    "              'CURRENT BALANCE', 'TOTAL INTEREST PAID', 'Payments Made'], axis=1)"
   ]
  },
  {
   "cell_type": "code",
   "execution_count": 5,
   "metadata": {
    "ExecuteTime": {
     "end_time": "2021-03-17T20:05:38.222872Z",
     "start_time": "2021-03-17T20:05:38.182689Z"
    }
   },
   "outputs": [
    {
     "name": "stdout",
     "output_type": "stream",
     "text": [
      "<class 'pandas.core.frame.DataFrame'>\n",
      "RangeIndex: 27385 entries, 0 to 27384\n",
      "Data columns (total 21 columns):\n",
      " #   Column                    Non-Null Count  Dtype  \n",
      "---  ------                    --------------  -----  \n",
      " 0   CONTRACT DATE             27385 non-null  object \n",
      " 1   SETUP DATE                27385 non-null  object \n",
      " 2   ORIGINAL LOAN AMOUNT      27385 non-null  float64\n",
      " 3   ORIGINAL TERM             27385 non-null  int64  \n",
      " 4   ORIGINAL MATURITY DATE    27385 non-null  object \n",
      " 5   CURRENT MATURITY DATE     27385 non-null  object \n",
      " 6   INTEREST RATE             27385 non-null  float64\n",
      " 7   CREDIT SCORE              26863 non-null  float64\n",
      " 8   CREDIT SCORE NAME 2       12149 non-null  float64\n",
      " 9   DEBT TO INCOME            26938 non-null  float64\n",
      " 10  PAYMENT AMOUNT            27385 non-null  float64\n",
      " 11  SUCCESSOR NUMBER          770 non-null    object \n",
      " 12  ACCOUNT CODE              27385 non-null  object \n",
      " 13  ACCOUNT CODE DATE         27385 non-null  object \n",
      " 14  CANCEL REASON             160 non-null    object \n",
      " 15  TYPE OF BANKRUPTCY        234 non-null    object \n",
      " 16  Months Since Origination  27385 non-null  float64\n",
      " 17  Purpose                   27385 non-null  object \n",
      " 18  Loan Type                 27385 non-null  object \n",
      " 19  Underwriting              27385 non-null  object \n",
      " 20  Pledged                   27385 non-null  object \n",
      "dtypes: float64(7), int64(1), object(13)\n",
      "memory usage: 4.4+ MB\n"
     ]
    }
   ],
   "source": [
    "df.info()"
   ]
  },
  {
   "cell_type": "code",
   "execution_count": 6,
   "metadata": {
    "ExecuteTime": {
     "end_time": "2021-03-17T20:05:38.242822Z",
     "start_time": "2021-03-17T20:05:38.222872Z"
    }
   },
   "outputs": [],
   "source": [
    "df['CANCEL REASON'].fillna('NONE', inplace = True)\n",
    "\n",
    "df['TYPE OF BANKRUPTCY'].fillna('NONE', inplace = True)\n",
    "\n",
    "df['SUCCESSOR NUMBER'].fillna('NONE', inplace = True)\n"
   ]
  },
  {
   "cell_type": "code",
   "execution_count": 7,
   "metadata": {
    "ExecuteTime": {
     "end_time": "2021-03-17T20:05:38.282664Z",
     "start_time": "2021-03-17T20:05:38.242822Z"
    }
   },
   "outputs": [],
   "source": [
    "# indicates if loan has a cosigner\n",
    "df['co-signed'] = np.where(pd.notnull(df['CREDIT SCORE NAME 2']), 1, 0)\n",
    "\n",
    "# averages credit score feature to get rid of nans in credit score 2\n",
    "df['avg_credit_score'] = df[['CREDIT SCORE', 'CREDIT SCORE NAME 2']].mean(axis=1)\n",
    "\n",
    "# fills remaining na values with average of averages\n",
    "df['avg_credit_score'].fillna(df['avg_credit_score'].mean(), inplace=True)\n",
    "\n",
    "df.drop(['CREDIT SCORE','CREDIT SCORE NAME 2'], axis=1, inplace=True)"
   ]
  },
  {
   "cell_type": "code",
   "execution_count": 8,
   "metadata": {
    "ExecuteTime": {
     "end_time": "2021-03-17T20:05:38.302923Z",
     "start_time": "2021-03-17T20:05:38.282664Z"
    }
   },
   "outputs": [
    {
     "data": {
      "text/plain": [
       "SurePay/Automatic Debit Payment              12061\n",
       "Check/Money Order Payment (with coupon)       9612\n",
       "Paid in Full                                  4903\n",
       "Legal Category                                 368\n",
       "Notice of Bankruptcy (written)                 186\n",
       "Canceled                                       160\n",
       "Soft Hold                                       66\n",
       "On Hold                                         16\n",
       "Management Hold                                  5\n",
       "Notice of Bankruptcy (verbal)                    4\n",
       "Collections Terminated (by customer)             2\n",
       "Dispute of Debt                                  1\n",
       "SurePay/Automatic Debit Payment (on hold)        1\n",
       "Name: ACCOUNT CODE, dtype: int64"
      ]
     },
     "execution_count": 8,
     "metadata": {},
     "output_type": "execute_result"
    }
   ],
   "source": [
    "df['ACCOUNT CODE'].value_counts()"
   ]
  },
  {
   "cell_type": "code",
   "execution_count": 9,
   "metadata": {
    "ExecuteTime": {
     "end_time": "2021-03-17T20:05:38.342635Z",
     "start_time": "2021-03-17T20:05:38.302923Z"
    }
   },
   "outputs": [],
   "source": [
    "# creates dependent var\n",
    "#df['bad'] = df['CANCEL REASON'].str.contains('NONE')\n",
    "df['bad'] = df['ACCOUNT CODE'].str.contains('Hold|Canceled|Terminated|Bankruptcy', regex=True)\n",
    "df['bad'] = df['bad'].apply(lambda x: 1 if x==True else 0)"
   ]
  },
  {
   "cell_type": "code",
   "execution_count": 11,
   "metadata": {
    "ExecuteTime": {
     "end_time": "2021-03-17T20:06:18.322776Z",
     "start_time": "2021-03-17T20:06:18.277828Z"
    }
   },
   "outputs": [
    {
     "data": {
      "text/html": [
       "<div>\n",
       "<style scoped>\n",
       "    .dataframe tbody tr th:only-of-type {\n",
       "        vertical-align: middle;\n",
       "    }\n",
       "\n",
       "    .dataframe tbody tr th {\n",
       "        vertical-align: top;\n",
       "    }\n",
       "\n",
       "    .dataframe thead th {\n",
       "        text-align: right;\n",
       "    }\n",
       "</style>\n",
       "<table border=\"1\" class=\"dataframe\">\n",
       "  <thead>\n",
       "    <tr style=\"text-align: right;\">\n",
       "      <th></th>\n",
       "      <th>ORIGINAL LOAN AMOUNT</th>\n",
       "      <th>ORIGINAL TERM</th>\n",
       "      <th>INTEREST RATE</th>\n",
       "      <th>DEBT TO INCOME</th>\n",
       "      <th>PAYMENT AMOUNT</th>\n",
       "      <th>Months Since Origination</th>\n",
       "      <th>co-signed</th>\n",
       "      <th>avg_credit_score</th>\n",
       "      <th>bad</th>\n",
       "    </tr>\n",
       "  </thead>\n",
       "  <tbody>\n",
       "    <tr>\n",
       "      <th>count</th>\n",
       "      <td>27385.000000</td>\n",
       "      <td>27385.000000</td>\n",
       "      <td>27385.000000</td>\n",
       "      <td>26938.000000</td>\n",
       "      <td>27385.000000</td>\n",
       "      <td>27385.000000</td>\n",
       "      <td>27385.000000</td>\n",
       "      <td>27385.000000</td>\n",
       "      <td>27385.000000</td>\n",
       "    </tr>\n",
       "    <tr>\n",
       "      <th>mean</th>\n",
       "      <td>11651.190126</td>\n",
       "      <td>168.875991</td>\n",
       "      <td>3.872746</td>\n",
       "      <td>0.335567</td>\n",
       "      <td>91.993460</td>\n",
       "      <td>51.724495</td>\n",
       "      <td>0.443637</td>\n",
       "      <td>734.659116</td>\n",
       "      <td>0.016031</td>\n",
       "    </tr>\n",
       "    <tr>\n",
       "      <th>std</th>\n",
       "      <td>6688.314789</td>\n",
       "      <td>30.736999</td>\n",
       "      <td>1.049811</td>\n",
       "      <td>2.678848</td>\n",
       "      <td>53.368043</td>\n",
       "      <td>25.555436</td>\n",
       "      <td>0.496822</td>\n",
       "      <td>53.601481</td>\n",
       "      <td>0.125596</td>\n",
       "    </tr>\n",
       "    <tr>\n",
       "      <th>min</th>\n",
       "      <td>61.000000</td>\n",
       "      <td>1.000000</td>\n",
       "      <td>2.990000</td>\n",
       "      <td>0.000000</td>\n",
       "      <td>0.000000</td>\n",
       "      <td>0.000000</td>\n",
       "      <td>0.000000</td>\n",
       "      <td>512.000000</td>\n",
       "      <td>0.000000</td>\n",
       "    </tr>\n",
       "    <tr>\n",
       "      <th>25%</th>\n",
       "      <td>6095.000000</td>\n",
       "      <td>180.000000</td>\n",
       "      <td>3.490000</td>\n",
       "      <td>0.190000</td>\n",
       "      <td>49.000000</td>\n",
       "      <td>36.000000</td>\n",
       "      <td>0.000000</td>\n",
       "      <td>700.000000</td>\n",
       "      <td>0.000000</td>\n",
       "    </tr>\n",
       "    <tr>\n",
       "      <th>50%</th>\n",
       "      <td>10473.000000</td>\n",
       "      <td>180.000000</td>\n",
       "      <td>3.490000</td>\n",
       "      <td>0.310000</td>\n",
       "      <td>83.000000</td>\n",
       "      <td>51.000000</td>\n",
       "      <td>0.000000</td>\n",
       "      <td>744.500000</td>\n",
       "      <td>0.000000</td>\n",
       "    </tr>\n",
       "    <tr>\n",
       "      <th>75%</th>\n",
       "      <td>16167.000000</td>\n",
       "      <td>180.000000</td>\n",
       "      <td>3.490000</td>\n",
       "      <td>0.430000</td>\n",
       "      <td>127.000000</td>\n",
       "      <td>66.000000</td>\n",
       "      <td>1.000000</td>\n",
       "      <td>779.000000</td>\n",
       "      <td>0.000000</td>\n",
       "    </tr>\n",
       "    <tr>\n",
       "      <th>max</th>\n",
       "      <td>25000.000000</td>\n",
       "      <td>180.000000</td>\n",
       "      <td>8.490000</td>\n",
       "      <td>437.500000</td>\n",
       "      <td>455.000000</td>\n",
       "      <td>114.000000</td>\n",
       "      <td>1.000000</td>\n",
       "      <td>833.000000</td>\n",
       "      <td>1.000000</td>\n",
       "    </tr>\n",
       "  </tbody>\n",
       "</table>\n",
       "</div>"
      ],
      "text/plain": [
       "       ORIGINAL LOAN AMOUNT  ORIGINAL TERM  INTEREST RATE  DEBT TO INCOME  \\\n",
       "count          27385.000000   27385.000000   27385.000000    26938.000000   \n",
       "mean           11651.190126     168.875991       3.872746        0.335567   \n",
       "std             6688.314789      30.736999       1.049811        2.678848   \n",
       "min               61.000000       1.000000       2.990000        0.000000   \n",
       "25%             6095.000000     180.000000       3.490000        0.190000   \n",
       "50%            10473.000000     180.000000       3.490000        0.310000   \n",
       "75%            16167.000000     180.000000       3.490000        0.430000   \n",
       "max            25000.000000     180.000000       8.490000      437.500000   \n",
       "\n",
       "       PAYMENT AMOUNT  Months Since Origination     co-signed  \\\n",
       "count    27385.000000              27385.000000  27385.000000   \n",
       "mean        91.993460                 51.724495      0.443637   \n",
       "std         53.368043                 25.555436      0.496822   \n",
       "min          0.000000                  0.000000      0.000000   \n",
       "25%         49.000000                 36.000000      0.000000   \n",
       "50%         83.000000                 51.000000      0.000000   \n",
       "75%        127.000000                 66.000000      1.000000   \n",
       "max        455.000000                114.000000      1.000000   \n",
       "\n",
       "       avg_credit_score           bad  \n",
       "count      27385.000000  27385.000000  \n",
       "mean         734.659116      0.016031  \n",
       "std           53.601481      0.125596  \n",
       "min          512.000000      0.000000  \n",
       "25%          700.000000      0.000000  \n",
       "50%          744.500000      0.000000  \n",
       "75%          779.000000      0.000000  \n",
       "max          833.000000      1.000000  "
      ]
     },
     "execution_count": 11,
     "metadata": {},
     "output_type": "execute_result"
    }
   ],
   "source": [
    "df.describe()"
   ]
  },
  {
   "cell_type": "code",
   "execution_count": 12,
   "metadata": {
    "ExecuteTime": {
     "end_time": "2021-03-17T20:06:18.502892Z",
     "start_time": "2021-03-17T20:06:18.482969Z"
    }
   },
   "outputs": [
    {
     "data": {
      "text/plain": [
       "439"
      ]
     },
     "execution_count": 12,
     "metadata": {},
     "output_type": "execute_result"
    }
   ],
   "source": [
    "df['bad'].sum()"
   ]
  },
  {
   "cell_type": "code",
   "execution_count": 13,
   "metadata": {
    "ExecuteTime": {
     "end_time": "2021-03-17T20:06:18.702619Z",
     "start_time": "2021-03-17T20:06:18.682980Z"
    }
   },
   "outputs": [
    {
     "data": {
      "text/plain": [
       "NONE                          27225\n",
       "DEATH                            91\n",
       "CUSTOMER DEFAULTED               25\n",
       "SETTLEMENT                       16\n",
       "CANCEL DUE TO BANKRUPTCY         13\n",
       "INVOLUNTARY REPOSESSION          12\n",
       "VOLUNTARY CANCEL                  1\n",
       "VOLUNTARY REPOSESSION             1\n",
       "DEVELOPER RELEASED ACCOUNT        1\n",
       "Name: CANCEL REASON, dtype: int64"
      ]
     },
     "execution_count": 13,
     "metadata": {},
     "output_type": "execute_result"
    }
   ],
   "source": [
    "df['CANCEL REASON'].value_counts()"
   ]
  },
  {
   "cell_type": "code",
   "execution_count": 14,
   "metadata": {
    "ExecuteTime": {
     "end_time": "2021-03-17T20:06:18.922871Z",
     "start_time": "2021-03-17T20:06:18.912602Z"
    }
   },
   "outputs": [
    {
     "data": {
      "text/plain": [
       "0.2072892938496583"
      ]
     },
     "execution_count": 14,
     "metadata": {},
     "output_type": "execute_result"
    }
   ],
   "source": [
    "# cancelations due to death\n",
    "91 / 439"
   ]
  },
  {
   "cell_type": "code",
   "execution_count": 15,
   "metadata": {
    "ExecuteTime": {
     "end_time": "2021-03-17T20:06:19.102749Z",
     "start_time": "2021-03-17T20:06:19.082684Z"
    }
   },
   "outputs": [],
   "source": [
    "# no data collected on health\n",
    "df = df[df['CANCEL REASON'] != 'DEATH']"
   ]
  },
  {
   "cell_type": "code",
   "execution_count": 16,
   "metadata": {
    "ExecuteTime": {
     "end_time": "2021-03-17T20:06:19.262876Z",
     "start_time": "2021-03-17T20:06:19.252744Z"
    }
   },
   "outputs": [
    {
     "data": {
      "text/plain": [
       "348"
      ]
     },
     "execution_count": 16,
     "metadata": {},
     "output_type": "execute_result"
    }
   ],
   "source": [
    "df['bad'].sum()"
   ]
  },
  {
   "cell_type": "code",
   "execution_count": 17,
   "metadata": {
    "ExecuteTime": {
     "end_time": "2021-03-17T20:06:19.482785Z",
     "start_time": "2021-03-17T20:06:19.463449Z"
    }
   },
   "outputs": [
    {
     "data": {
      "text/plain": [
       "NONE    26527\n",
       "S-1       334\n",
       "S-0       319\n",
       "S-2        53\n",
       "s-1        29\n",
       "S-3        19\n",
       "S-4         4\n",
       "s-2         2\n",
       "S-6         2\n",
       "S-5         2\n",
       "s-3         2\n",
       "s-0         1\n",
       "Name: SUCCESSOR NUMBER, dtype: int64"
      ]
     },
     "execution_count": 17,
     "metadata": {},
     "output_type": "execute_result"
    }
   ],
   "source": [
    "df['SUCCESSOR NUMBER'].value_counts()"
   ]
  },
  {
   "cell_type": "code",
   "execution_count": 18,
   "metadata": {
    "ExecuteTime": {
     "end_time": "2021-03-17T20:06:19.662799Z",
     "start_time": "2021-03-17T20:06:19.633144Z"
    }
   },
   "outputs": [],
   "source": [
    "dfb = df[df['bad']==1]"
   ]
  },
  {
   "cell_type": "code",
   "execution_count": 19,
   "metadata": {
    "ExecuteTime": {
     "end_time": "2021-03-17T20:06:19.852719Z",
     "start_time": "2021-03-17T20:06:19.832590Z"
    }
   },
   "outputs": [
    {
     "data": {
      "text/plain": [
       "NONE    314\n",
       "S-1      17\n",
       "S-0      10\n",
       "S-2       4\n",
       "S-3       1\n",
       "S-4       1\n",
       "s-0       1\n",
       "Name: SUCCESSOR NUMBER, dtype: int64"
      ]
     },
     "execution_count": 19,
     "metadata": {},
     "output_type": "execute_result"
    }
   ],
   "source": [
    "dfb['SUCCESSOR NUMBER'].value_counts()"
   ]
  },
  {
   "cell_type": "code",
   "execution_count": 20,
   "metadata": {
    "ExecuteTime": {
     "end_time": "2021-03-17T20:06:20.072835Z",
     "start_time": "2021-03-17T20:06:20.052673Z"
    }
   },
   "outputs": [
    {
     "data": {
      "text/plain": [
       "CONTRACT DATE               34\n",
       "SETUP DATE                  34\n",
       "ORIGINAL LOAN AMOUNT        34\n",
       "ORIGINAL TERM               34\n",
       "ORIGINAL MATURITY DATE      34\n",
       "CURRENT MATURITY DATE       34\n",
       "INTEREST RATE               34\n",
       "DEBT TO INCOME              11\n",
       "PAYMENT AMOUNT              34\n",
       "SUCCESSOR NUMBER            34\n",
       "ACCOUNT CODE                34\n",
       "ACCOUNT CODE DATE           34\n",
       "CANCEL REASON               34\n",
       "TYPE OF BANKRUPTCY          34\n",
       "Months Since Origination    34\n",
       "Purpose                     34\n",
       "Loan Type                   34\n",
       "Underwriting                34\n",
       "Pledged                     34\n",
       "co-signed                   34\n",
       "avg_credit_score            34\n",
       "bad                         34\n",
       "dtype: int64"
      ]
     },
     "execution_count": 20,
     "metadata": {},
     "output_type": "execute_result"
    }
   ],
   "source": [
    "dfb[dfb['SUCCESSOR NUMBER']!='NONE'].count()"
   ]
  },
  {
   "cell_type": "code",
   "execution_count": 21,
   "metadata": {
    "ExecuteTime": {
     "end_time": "2021-03-17T20:06:20.272817Z",
     "start_time": "2021-03-17T20:06:20.242877Z"
    }
   },
   "outputs": [
    {
     "data": {
      "text/plain": [
       "0.0774487471526196"
      ]
     },
     "execution_count": 21,
     "metadata": {},
     "output_type": "execute_result"
    }
   ],
   "source": [
    "# proportion of original bad loans that are from successors\n",
    "34/439"
   ]
  },
  {
   "cell_type": "code",
   "execution_count": 22,
   "metadata": {
    "ExecuteTime": {
     "end_time": "2021-03-17T20:06:20.462962Z",
     "start_time": "2021-03-17T20:06:20.442708Z"
    }
   },
   "outputs": [],
   "source": [
    "# ony dealing with people who went through the application process\n",
    "df = df[df['SUCCESSOR NUMBER']=='NONE']\n",
    "\n",
    "df.drop('SUCCESSOR NUMBER',axis=1,inplace=True)"
   ]
  },
  {
   "cell_type": "code",
   "execution_count": 23,
   "metadata": {
    "ExecuteTime": {
     "end_time": "2021-03-17T20:06:20.652843Z",
     "start_time": "2021-03-17T20:06:20.642497Z"
    }
   },
   "outputs": [
    {
     "data": {
      "text/plain": [
       "NONE                        26491\n",
       "SETTLEMENT                     13\n",
       "CANCEL DUE TO BANKRUPTCY       13\n",
       "INVOLUNTARY REPOSESSION         7\n",
       "CUSTOMER DEFAULTED              2\n",
       "VOLUNTARY REPOSESSION           1\n",
       "Name: CANCEL REASON, dtype: int64"
      ]
     },
     "execution_count": 23,
     "metadata": {},
     "output_type": "execute_result"
    }
   ],
   "source": [
    "#all 'customer defaulted' loans were successors\n",
    "df['CANCEL REASON'].value_counts()"
   ]
  },
  {
   "cell_type": "code",
   "execution_count": 24,
   "metadata": {
    "ExecuteTime": {
     "end_time": "2021-03-17T20:06:21.133195Z",
     "start_time": "2021-03-17T20:06:20.842819Z"
    }
   },
   "outputs": [],
   "source": [
    "# maybe needed\n",
    "df['CONTRACT DATE'] = pd.to_datetime(df['CONTRACT DATE'], format=\"%m/%d/%Y\")\n",
    "df['SETUP DATE'] = pd.to_datetime(df['SETUP DATE'], format=\"%m/%d/%Y\")\n",
    "df['ORIGINAL MATURITY DATE'] = pd.to_datetime(df['ORIGINAL MATURITY DATE'], format=\"%m/%d/%Y\")\n",
    "df['CURRENT MATURITY DATE'] = pd.to_datetime(df['CURRENT MATURITY DATE'], format=\"%m/%d/%Y\")\n",
    "df['ACCOUNT CODE DATE'] = pd.to_datetime(df['ACCOUNT CODE DATE'], format=\"%m/%d/%Y\")"
   ]
  },
  {
   "cell_type": "code",
   "execution_count": 25,
   "metadata": {
    "ExecuteTime": {
     "end_time": "2021-03-17T20:06:21.193085Z",
     "start_time": "2021-03-17T20:06:21.172715Z"
    }
   },
   "outputs": [],
   "source": [
    "#df['s_y'] = df['SETUP DATE'].apply(lambda x: x.year)"
   ]
  },
  {
   "cell_type": "code",
   "execution_count": 26,
   "metadata": {
    "ExecuteTime": {
     "end_time": "2021-03-17T20:06:21.273040Z",
     "start_time": "2021-03-17T20:06:21.252678Z"
    }
   },
   "outputs": [],
   "source": [
    "#df[df['s_y']==2020]"
   ]
  },
  {
   "cell_type": "code",
   "execution_count": 27,
   "metadata": {
    "ExecuteTime": {
     "end_time": "2021-03-17T20:06:21.452934Z",
     "start_time": "2021-03-17T20:06:21.415326Z"
    }
   },
   "outputs": [
    {
     "name": "stdout",
     "output_type": "stream",
     "text": [
      "<class 'pandas.core.frame.DataFrame'>\n",
      "Int64Index: 26527 entries, 0 to 27384\n",
      "Data columns (total 22 columns):\n",
      " #   Column                    Non-Null Count  Dtype         \n",
      "---  ------                    --------------  -----         \n",
      " 0   CONTRACT DATE             26527 non-null  datetime64[ns]\n",
      " 1   SETUP DATE                26527 non-null  datetime64[ns]\n",
      " 2   ORIGINAL LOAN AMOUNT      26527 non-null  float64       \n",
      " 3   ORIGINAL TERM             26527 non-null  int64         \n",
      " 4   ORIGINAL MATURITY DATE    26527 non-null  datetime64[ns]\n",
      " 5   CURRENT MATURITY DATE     26527 non-null  datetime64[ns]\n",
      " 6   INTEREST RATE             26527 non-null  float64       \n",
      " 7   DEBT TO INCOME            26527 non-null  float64       \n",
      " 8   PAYMENT AMOUNT            26527 non-null  float64       \n",
      " 9   SUCCESSOR NUMBER          26527 non-null  object        \n",
      " 10  ACCOUNT CODE              26527 non-null  object        \n",
      " 11  ACCOUNT CODE DATE         26527 non-null  datetime64[ns]\n",
      " 12  CANCEL REASON             26527 non-null  object        \n",
      " 13  TYPE OF BANKRUPTCY        26527 non-null  object        \n",
      " 14  Months Since Origination  26527 non-null  float64       \n",
      " 15  Purpose                   26527 non-null  object        \n",
      " 16  Loan Type                 26527 non-null  object        \n",
      " 17  Underwriting              26527 non-null  object        \n",
      " 18  Pledged                   26527 non-null  object        \n",
      " 19  co-signed                 26527 non-null  int32         \n",
      " 20  avg_credit_score          26527 non-null  float64       \n",
      " 21  bad                       26527 non-null  int64         \n",
      "dtypes: datetime64[ns](5), float64(6), int32(1), int64(2), object(8)\n",
      "memory usage: 4.6+ MB\n"
     ]
    }
   ],
   "source": [
    "df.info()"
   ]
  },
  {
   "cell_type": "code",
   "execution_count": 28,
   "metadata": {
    "ExecuteTime": {
     "end_time": "2021-03-17T20:06:22.052683Z",
     "start_time": "2021-03-17T20:06:22.023004Z"
    }
   },
   "outputs": [
    {
     "data": {
      "text/plain": [
       "314"
      ]
     },
     "execution_count": 28,
     "metadata": {},
     "output_type": "execute_result"
    }
   ],
   "source": [
    "df.bad.sum()"
   ]
  },
  {
   "cell_type": "code",
   "execution_count": 29,
   "metadata": {
    "ExecuteTime": {
     "end_time": "2021-03-17T20:06:23.643130Z",
     "start_time": "2021-03-17T20:06:22.322765Z"
    }
   },
   "outputs": [],
   "source": [
    "df.to_csv(r'C:\\Users\\2bogu\\OneDrive\\Desktop\\Sringboard_Materials\\capstone2\\data\\interim\\clean_al', index = False)"
   ]
  },
  {
   "cell_type": "code",
   "execution_count": null,
   "metadata": {},
   "outputs": [],
   "source": []
  },
  {
   "cell_type": "code",
   "execution_count": null,
   "metadata": {},
   "outputs": [],
   "source": []
  }
 ],
 "metadata": {
  "kernelspec": {
   "display_name": "Python 3",
   "language": "python",
   "name": "python3"
  },
  "language_info": {
   "codemirror_mode": {
    "name": "ipython",
    "version": 3
   },
   "file_extension": ".py",
   "mimetype": "text/x-python",
   "name": "python",
   "nbconvert_exporter": "python",
   "pygments_lexer": "ipython3",
   "version": "3.7.9"
  },
  "toc": {
   "base_numbering": 1,
   "nav_menu": {},
   "number_sections": true,
   "sideBar": true,
   "skip_h1_title": false,
   "title_cell": "Table of Contents",
   "title_sidebar": "Contents",
   "toc_cell": false,
   "toc_position": {},
   "toc_section_display": true,
   "toc_window_display": false
  },
  "varInspector": {
   "cols": {
    "lenName": 16,
    "lenType": 16,
    "lenVar": 40
   },
   "kernels_config": {
    "python": {
     "delete_cmd_postfix": "",
     "delete_cmd_prefix": "del ",
     "library": "var_list.py",
     "varRefreshCmd": "print(var_dic_list())"
    },
    "r": {
     "delete_cmd_postfix": ") ",
     "delete_cmd_prefix": "rm(",
     "library": "var_list.r",
     "varRefreshCmd": "cat(var_dic_list()) "
    }
   },
   "types_to_exclude": [
    "module",
    "function",
    "builtin_function_or_method",
    "instance",
    "_Feature"
   ],
   "window_display": false
  }
 },
 "nbformat": 4,
 "nbformat_minor": 4
}
