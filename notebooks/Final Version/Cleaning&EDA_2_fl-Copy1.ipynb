{
 "cells": [
  {
   "cell_type": "code",
   "execution_count": 15,
   "metadata": {
    "ExecuteTime": {
     "end_time": "2021-03-17T16:02:12.540230Z",
     "start_time": "2021-03-17T16:02:12.502847Z"
    }
   },
   "outputs": [],
   "source": [
    "import requests\n",
    "import numpy as np\n",
    "import pandas as pd\n",
    "import pandas_profiling\n",
    "import json\n",
    "import os\n",
    "import matplotlib\n",
    "#matplotlib.use('TkAgg')\n",
    "import matplotlib.pyplot as plt\n",
    "import seaborn as sns\n",
    "import scipy.stats\n",
    "from scipy.stats import norm\n",
    "from datetime import datetime\n",
    "\n",
    "%matplotlib inline\n",
    "\n",
    "pd.options.display.max_columns = None\n",
    "\n",
    "import statsmodels.api as sm # Provides cross-sectional models and methods\n",
    "from statsmodels.graphics.api import abline_plot # Plots line given intercept and slope\n",
    "from sklearn.metrics import mean_squared_error, r2_score # Rates how close regression line is to data\n",
    "from sklearn.model_selection import train_test_split #  Splits data into training and test groups\n",
    "from sklearn import linear_model, preprocessing # Ordinary least square regression and standardizes the data\n",
    "import warnings # For handling error messages."
   ]
  },
  {
   "cell_type": "code",
   "execution_count": 16,
   "metadata": {
    "ExecuteTime": {
     "end_time": "2021-03-17T16:02:12.772357Z",
     "start_time": "2021-03-17T16:02:12.540230Z"
    }
   },
   "outputs": [],
   "source": [
    "os.chdir(r'C:\\Users\\2bogu\\OneDrive\\Desktop\\Sringboard_Materials\\capstone2\\data\\external')\n",
    "\n",
    "df = pd.read_csv('Green_Jobs_-_Green_New_York__GJGNY__Residential_Loan_Portfolio___Beginning_November_2010.csv')"
   ]
  },
  {
   "cell_type": "markdown",
   "metadata": {},
   "source": [
    "# Initial Cleaning"
   ]
  },
  {
   "cell_type": "code",
   "execution_count": 17,
   "metadata": {
    "ExecuteTime": {
     "end_time": "2021-03-17T16:02:12.794080Z",
     "start_time": "2021-03-17T16:02:12.772357Z"
    }
   },
   "outputs": [
    {
     "data": {
      "text/plain": [
       "Index(['Reporting Period', 'CONTRACT DATE', 'SETUP DATE',\n",
       "       'ORIGINAL LOAN AMOUNT', 'ORIGINAL TERM', 'ORIGINAL MATURITY DATE',\n",
       "       'CURRENT MATURITY DATE', 'INTEREST RATE', 'CREDIT SCORE CURRENT HIGH',\n",
       "       'CREDIT SCORE', 'CREDIT SCORE NAME 2', 'DEBT TO INCOME',\n",
       "       'FIRST PAYMENT DATE', 'LAST PAYMENT DATE', 'LAST PAYMENT AMOUNT',\n",
       "       'NEXT PAYMENT DUE DATE', 'PAYMENT AMOUNT', 'CURRENT BALANCE',\n",
       "       'UNAPPLIED CASH', 'DELINQUENT AMOUNT', 'TOTAL INTEREST PAID',\n",
       "       'TOTAL LATE CHARGE PAID', 'PAYMENTS REMAINING', 'DAYS DELINQUENT',\n",
       "       'PROPERTY COUNTY', 'UTILITY', 'INSTALLATION CITY', 'INSTALLATION ZIP',\n",
       "       'Contractor Name', 'SUCCESSOR NUMBER', 'ACCOUNT CODE',\n",
       "       'ACCOUNT CODE DATE', 'CANCEL REASON', 'TYPE OF BANKRUPTCY',\n",
       "       'Months Since Origination', 'Payments Made', 'Purpose', 'Loan Type',\n",
       "       'Underwriting', 'Pledged', 'Georeference'],\n",
       "      dtype='object')"
      ]
     },
     "execution_count": 17,
     "metadata": {},
     "output_type": "execute_result"
    }
   ],
   "source": [
    "df.columns"
   ]
  },
  {
   "cell_type": "code",
   "execution_count": 18,
   "metadata": {
    "ExecuteTime": {
     "end_time": "2021-03-17T16:02:12.825523Z",
     "start_time": "2021-03-17T16:02:12.794080Z"
    }
   },
   "outputs": [],
   "source": [
    "df = df.drop(['LAST PAYMENT AMOUNT', 'LAST PAYMENT DATE', 'FIRST PAYMENT DATE', \n",
    "              'DELINQUENT AMOUNT', 'DAYS DELINQUENT', 'Reporting Period', \n",
    "              'CREDIT SCORE CURRENT HIGH', 'NEXT PAYMENT DUE DATE', 'PAYMENTS REMAINING', \n",
    "              'PROPERTY COUNTY', 'UTILITY', 'INSTALLATION CITY', 'INSTALLATION ZIP', \n",
    "              'Contractor Name', 'Georeference', 'UNAPPLIED CASH', 'TOTAL LATE CHARGE PAID', \n",
    "              'CURRENT BALANCE', 'TOTAL INTEREST PAID', 'Payments Made'], axis=1)"
   ]
  },
  {
   "cell_type": "code",
   "execution_count": 19,
   "metadata": {
    "ExecuteTime": {
     "end_time": "2021-03-17T16:02:12.856461Z",
     "start_time": "2021-03-17T16:02:12.825523Z"
    }
   },
   "outputs": [
    {
     "name": "stdout",
     "output_type": "stream",
     "text": [
      "<class 'pandas.core.frame.DataFrame'>\n",
      "RangeIndex: 27385 entries, 0 to 27384\n",
      "Data columns (total 21 columns):\n",
      " #   Column                    Non-Null Count  Dtype  \n",
      "---  ------                    --------------  -----  \n",
      " 0   CONTRACT DATE             27385 non-null  object \n",
      " 1   SETUP DATE                27385 non-null  object \n",
      " 2   ORIGINAL LOAN AMOUNT      27385 non-null  float64\n",
      " 3   ORIGINAL TERM             27385 non-null  int64  \n",
      " 4   ORIGINAL MATURITY DATE    27385 non-null  object \n",
      " 5   CURRENT MATURITY DATE     27385 non-null  object \n",
      " 6   INTEREST RATE             27385 non-null  float64\n",
      " 7   CREDIT SCORE              26863 non-null  float64\n",
      " 8   CREDIT SCORE NAME 2       12149 non-null  float64\n",
      " 9   DEBT TO INCOME            26938 non-null  float64\n",
      " 10  PAYMENT AMOUNT            27385 non-null  float64\n",
      " 11  SUCCESSOR NUMBER          770 non-null    object \n",
      " 12  ACCOUNT CODE              27385 non-null  object \n",
      " 13  ACCOUNT CODE DATE         27385 non-null  object \n",
      " 14  CANCEL REASON             160 non-null    object \n",
      " 15  TYPE OF BANKRUPTCY        234 non-null    object \n",
      " 16  Months Since Origination  27385 non-null  float64\n",
      " 17  Purpose                   27385 non-null  object \n",
      " 18  Loan Type                 27385 non-null  object \n",
      " 19  Underwriting              27385 non-null  object \n",
      " 20  Pledged                   27385 non-null  object \n",
      "dtypes: float64(7), int64(1), object(13)\n",
      "memory usage: 4.4+ MB\n"
     ]
    }
   ],
   "source": [
    "df.info()"
   ]
  },
  {
   "cell_type": "code",
   "execution_count": 20,
   "metadata": {
    "ExecuteTime": {
     "end_time": "2021-03-17T16:02:12.872050Z",
     "start_time": "2021-03-17T16:02:12.856461Z"
    }
   },
   "outputs": [],
   "source": [
    "df['CANCEL REASON'].fillna('NONE', inplace = True)\n",
    "\n",
    "df['TYPE OF BANKRUPTCY'].fillna('NONE', inplace = True)\n",
    "\n",
    "df['SUCCESSOR NUMBER'].fillna('NONE', inplace = True)\n"
   ]
  },
  {
   "cell_type": "code",
   "execution_count": 21,
   "metadata": {
    "ExecuteTime": {
     "end_time": "2021-03-17T16:02:12.903294Z",
     "start_time": "2021-03-17T16:02:12.872050Z"
    }
   },
   "outputs": [],
   "source": [
    "# indicates if loan has a cosigner\n",
    "df['co-signed'] = np.where(pd.notnull(df['CREDIT SCORE NAME 2']), 1, 0)\n",
    "\n",
    "# averages credit score feature to get rid of nans in credit score 2\n",
    "df['avg_credit_score'] = df[['CREDIT SCORE', 'CREDIT SCORE NAME 2']].mean(axis=1)\n",
    "\n",
    "# fills remaining na values with average of averages\n",
    "df['avg_credit_score'].fillna(df['avg_credit_score'].mean(), inplace=True)\n",
    "\n",
    "df.drop(['CREDIT SCORE','CREDIT SCORE NAME 2'], axis=1, inplace=True)"
   ]
  },
  {
   "cell_type": "code",
   "execution_count": 22,
   "metadata": {
    "ExecuteTime": {
     "end_time": "2021-03-17T16:02:12.918914Z",
     "start_time": "2021-03-17T16:02:12.903294Z"
    }
   },
   "outputs": [
    {
     "data": {
      "text/plain": [
       "SurePay/Automatic Debit Payment              12061\n",
       "Check/Money Order Payment (with coupon)       9612\n",
       "Paid in Full                                  4903\n",
       "Legal Category                                 368\n",
       "Notice of Bankruptcy (written)                 186\n",
       "Canceled                                       160\n",
       "Soft Hold                                       66\n",
       "On Hold                                         16\n",
       "Management Hold                                  5\n",
       "Notice of Bankruptcy (verbal)                    4\n",
       "Collections Terminated (by customer)             2\n",
       "Dispute of Debt                                  1\n",
       "SurePay/Automatic Debit Payment (on hold)        1\n",
       "Name: ACCOUNT CODE, dtype: int64"
      ]
     },
     "execution_count": 22,
     "metadata": {},
     "output_type": "execute_result"
    }
   ],
   "source": [
    "df['ACCOUNT CODE'].value_counts()"
   ]
  },
  {
   "cell_type": "code",
   "execution_count": 23,
   "metadata": {
    "ExecuteTime": {
     "end_time": "2021-03-17T16:02:12.950160Z",
     "start_time": "2021-03-17T16:02:12.918914Z"
    }
   },
   "outputs": [],
   "source": [
    "# FILTERING FOR FINISHED LOANS\n",
    "df = df.loc[df['ACCOUNT CODE'].str.contains('Hold|Canceled|Terminated|Bankruptcy|Full', regex=True)]"
   ]
  },
  {
   "cell_type": "code",
   "execution_count": 24,
   "metadata": {
    "ExecuteTime": {
     "end_time": "2021-03-17T16:02:12.972327Z",
     "start_time": "2021-03-17T16:02:12.950160Z"
    }
   },
   "outputs": [],
   "source": [
    "# creates dependent var\n",
    "#df['bad'] = df['CANCEL REASON'].str.contains('NONE')\n",
    "df['bad'] = df['ACCOUNT CODE'].str.contains('Hold|Canceled|Terminated|Bankruptcy', regex=True)\n",
    "df['bad'] = df['bad'].apply(lambda x: 1 if x==True else 0)"
   ]
  },
  {
   "cell_type": "code",
   "execution_count": 25,
   "metadata": {
    "ExecuteTime": {
     "end_time": "2021-03-17T16:02:13.019196Z",
     "start_time": "2021-03-17T16:02:12.972327Z"
    }
   },
   "outputs": [
    {
     "data": {
      "text/html": [
       "<div>\n",
       "<style scoped>\n",
       "    .dataframe tbody tr th:only-of-type {\n",
       "        vertical-align: middle;\n",
       "    }\n",
       "\n",
       "    .dataframe tbody tr th {\n",
       "        vertical-align: top;\n",
       "    }\n",
       "\n",
       "    .dataframe thead th {\n",
       "        text-align: right;\n",
       "    }\n",
       "</style>\n",
       "<table border=\"1\" class=\"dataframe\">\n",
       "  <thead>\n",
       "    <tr style=\"text-align: right;\">\n",
       "      <th></th>\n",
       "      <th>ORIGINAL LOAN AMOUNT</th>\n",
       "      <th>ORIGINAL TERM</th>\n",
       "      <th>INTEREST RATE</th>\n",
       "      <th>DEBT TO INCOME</th>\n",
       "      <th>PAYMENT AMOUNT</th>\n",
       "      <th>Months Since Origination</th>\n",
       "      <th>co-signed</th>\n",
       "      <th>avg_credit_score</th>\n",
       "      <th>bad</th>\n",
       "    </tr>\n",
       "  </thead>\n",
       "  <tbody>\n",
       "    <tr>\n",
       "      <th>count</th>\n",
       "      <td>5342.000000</td>\n",
       "      <td>5342.000000</td>\n",
       "      <td>5342.000000</td>\n",
       "      <td>5216.000000</td>\n",
       "      <td>5342.000000</td>\n",
       "      <td>5342.000000</td>\n",
       "      <td>5342.000000</td>\n",
       "      <td>5342.000000</td>\n",
       "      <td>5342.000000</td>\n",
       "    </tr>\n",
       "    <tr>\n",
       "      <th>mean</th>\n",
       "      <td>10076.636887</td>\n",
       "      <td>150.875515</td>\n",
       "      <td>3.769296</td>\n",
       "      <td>0.297223</td>\n",
       "      <td>91.328793</td>\n",
       "      <td>65.619993</td>\n",
       "      <td>0.415013</td>\n",
       "      <td>750.423501</td>\n",
       "      <td>0.082179</td>\n",
       "    </tr>\n",
       "    <tr>\n",
       "      <th>std</th>\n",
       "      <td>6337.052334</td>\n",
       "      <td>47.812924</td>\n",
       "      <td>0.902968</td>\n",
       "      <td>0.525935</td>\n",
       "      <td>59.209793</td>\n",
       "      <td>23.999321</td>\n",
       "      <td>0.492770</td>\n",
       "      <td>48.068659</td>\n",
       "      <td>0.274663</td>\n",
       "    </tr>\n",
       "    <tr>\n",
       "      <th>min</th>\n",
       "      <td>61.000000</td>\n",
       "      <td>26.000000</td>\n",
       "      <td>2.990000</td>\n",
       "      <td>0.000000</td>\n",
       "      <td>11.000000</td>\n",
       "      <td>2.000000</td>\n",
       "      <td>0.000000</td>\n",
       "      <td>527.000000</td>\n",
       "      <td>0.000000</td>\n",
       "    </tr>\n",
       "    <tr>\n",
       "      <th>25%</th>\n",
       "      <td>5020.250000</td>\n",
       "      <td>120.000000</td>\n",
       "      <td>3.490000</td>\n",
       "      <td>0.160000</td>\n",
       "      <td>48.000000</td>\n",
       "      <td>49.000000</td>\n",
       "      <td>0.000000</td>\n",
       "      <td>724.000000</td>\n",
       "      <td>0.000000</td>\n",
       "    </tr>\n",
       "    <tr>\n",
       "      <th>50%</th>\n",
       "      <td>8386.000000</td>\n",
       "      <td>180.000000</td>\n",
       "      <td>3.490000</td>\n",
       "      <td>0.280000</td>\n",
       "      <td>78.000000</td>\n",
       "      <td>63.000000</td>\n",
       "      <td>0.000000</td>\n",
       "      <td>763.500000</td>\n",
       "      <td>0.000000</td>\n",
       "    </tr>\n",
       "    <tr>\n",
       "      <th>75%</th>\n",
       "      <td>13431.500000</td>\n",
       "      <td>180.000000</td>\n",
       "      <td>3.490000</td>\n",
       "      <td>0.400000</td>\n",
       "      <td>123.000000</td>\n",
       "      <td>85.000000</td>\n",
       "      <td>1.000000</td>\n",
       "      <td>788.000000</td>\n",
       "      <td>0.000000</td>\n",
       "    </tr>\n",
       "    <tr>\n",
       "      <th>max</th>\n",
       "      <td>25000.000000</td>\n",
       "      <td>180.000000</td>\n",
       "      <td>8.490000</td>\n",
       "      <td>36.090000</td>\n",
       "      <td>455.000000</td>\n",
       "      <td>114.000000</td>\n",
       "      <td>1.000000</td>\n",
       "      <td>833.000000</td>\n",
       "      <td>1.000000</td>\n",
       "    </tr>\n",
       "  </tbody>\n",
       "</table>\n",
       "</div>"
      ],
      "text/plain": [
       "       ORIGINAL LOAN AMOUNT  ORIGINAL TERM  INTEREST RATE  DEBT TO INCOME  \\\n",
       "count           5342.000000    5342.000000    5342.000000     5216.000000   \n",
       "mean           10076.636887     150.875515       3.769296        0.297223   \n",
       "std             6337.052334      47.812924       0.902968        0.525935   \n",
       "min               61.000000      26.000000       2.990000        0.000000   \n",
       "25%             5020.250000     120.000000       3.490000        0.160000   \n",
       "50%             8386.000000     180.000000       3.490000        0.280000   \n",
       "75%            13431.500000     180.000000       3.490000        0.400000   \n",
       "max            25000.000000     180.000000       8.490000       36.090000   \n",
       "\n",
       "       PAYMENT AMOUNT  Months Since Origination    co-signed  \\\n",
       "count     5342.000000               5342.000000  5342.000000   \n",
       "mean        91.328793                 65.619993     0.415013   \n",
       "std         59.209793                 23.999321     0.492770   \n",
       "min         11.000000                  2.000000     0.000000   \n",
       "25%         48.000000                 49.000000     0.000000   \n",
       "50%         78.000000                 63.000000     0.000000   \n",
       "75%        123.000000                 85.000000     1.000000   \n",
       "max        455.000000                114.000000     1.000000   \n",
       "\n",
       "       avg_credit_score          bad  \n",
       "count       5342.000000  5342.000000  \n",
       "mean         750.423501     0.082179  \n",
       "std           48.068659     0.274663  \n",
       "min          527.000000     0.000000  \n",
       "25%          724.000000     0.000000  \n",
       "50%          763.500000     0.000000  \n",
       "75%          788.000000     0.000000  \n",
       "max          833.000000     1.000000  "
      ]
     },
     "execution_count": 25,
     "metadata": {},
     "output_type": "execute_result"
    }
   ],
   "source": [
    "df.describe()"
   ]
  },
  {
   "cell_type": "code",
   "execution_count": 26,
   "metadata": {
    "ExecuteTime": {
     "end_time": "2021-03-17T16:02:13.034782Z",
     "start_time": "2021-03-17T16:02:13.019196Z"
    }
   },
   "outputs": [
    {
     "data": {
      "text/plain": [
       "439"
      ]
     },
     "execution_count": 26,
     "metadata": {},
     "output_type": "execute_result"
    }
   ],
   "source": [
    "df['bad'].sum()"
   ]
  },
  {
   "cell_type": "code",
   "execution_count": 27,
   "metadata": {
    "ExecuteTime": {
     "end_time": "2021-03-17T16:02:13.050414Z",
     "start_time": "2021-03-17T16:02:13.034782Z"
    }
   },
   "outputs": [
    {
     "data": {
      "text/plain": [
       "NONE                          5182\n",
       "DEATH                           91\n",
       "CUSTOMER DEFAULTED              25\n",
       "SETTLEMENT                      16\n",
       "CANCEL DUE TO BANKRUPTCY        13\n",
       "INVOLUNTARY REPOSESSION         12\n",
       "VOLUNTARY REPOSESSION            1\n",
       "DEVELOPER RELEASED ACCOUNT       1\n",
       "VOLUNTARY CANCEL                 1\n",
       "Name: CANCEL REASON, dtype: int64"
      ]
     },
     "execution_count": 27,
     "metadata": {},
     "output_type": "execute_result"
    }
   ],
   "source": [
    "df['CANCEL REASON'].value_counts()"
   ]
  },
  {
   "cell_type": "code",
   "execution_count": 28,
   "metadata": {
    "ExecuteTime": {
     "end_time": "2021-03-17T16:02:13.072558Z",
     "start_time": "2021-03-17T16:02:13.050414Z"
    }
   },
   "outputs": [
    {
     "data": {
      "text/plain": [
       "0.2072892938496583"
      ]
     },
     "execution_count": 28,
     "metadata": {},
     "output_type": "execute_result"
    }
   ],
   "source": [
    "# cancelations due to death\n",
    "91 / 439"
   ]
  },
  {
   "cell_type": "code",
   "execution_count": 29,
   "metadata": {
    "ExecuteTime": {
     "end_time": "2021-03-17T16:02:13.088180Z",
     "start_time": "2021-03-17T16:02:13.072558Z"
    }
   },
   "outputs": [],
   "source": [
    "# no data collected on health\n",
    "df = df[df['CANCEL REASON'] != 'DEATH']"
   ]
  },
  {
   "cell_type": "code",
   "execution_count": 30,
   "metadata": {
    "ExecuteTime": {
     "end_time": "2021-03-17T16:02:13.103801Z",
     "start_time": "2021-03-17T16:02:13.088180Z"
    }
   },
   "outputs": [
    {
     "data": {
      "text/plain": [
       "348"
      ]
     },
     "execution_count": 30,
     "metadata": {},
     "output_type": "execute_result"
    }
   ],
   "source": [
    "df['bad'].sum()"
   ]
  },
  {
   "cell_type": "code",
   "execution_count": 31,
   "metadata": {
    "ExecuteTime": {
     "end_time": "2021-03-17T16:02:50.755336Z",
     "start_time": "2021-03-17T16:02:50.724397Z"
    }
   },
   "outputs": [
    {
     "data": {
      "text/plain": [
       "NONE    4814\n",
       "S-0      310\n",
       "S-1       84\n",
       "S-2       28\n",
       "S-3       10\n",
       "S-4        2\n",
       "S-5        2\n",
       "s-0        1\n",
       "Name: SUCCESSOR NUMBER, dtype: int64"
      ]
     },
     "execution_count": 31,
     "metadata": {},
     "output_type": "execute_result"
    }
   ],
   "source": [
    "df['SUCCESSOR NUMBER'].value_counts()"
   ]
  },
  {
   "cell_type": "code",
   "execution_count": 32,
   "metadata": {
    "ExecuteTime": {
     "end_time": "2021-03-17T16:03:21.422888Z",
     "start_time": "2021-03-17T16:03:21.400048Z"
    }
   },
   "outputs": [],
   "source": [
    "dfb = df[df['bad']==1]"
   ]
  },
  {
   "cell_type": "code",
   "execution_count": 33,
   "metadata": {
    "ExecuteTime": {
     "end_time": "2021-03-17T16:03:27.669794Z",
     "start_time": "2021-03-17T16:03:27.639455Z"
    }
   },
   "outputs": [
    {
     "data": {
      "text/plain": [
       "NONE    314\n",
       "S-1      17\n",
       "S-0      10\n",
       "S-2       4\n",
       "S-3       1\n",
       "S-4       1\n",
       "s-0       1\n",
       "Name: SUCCESSOR NUMBER, dtype: int64"
      ]
     },
     "execution_count": 33,
     "metadata": {},
     "output_type": "execute_result"
    }
   ],
   "source": [
    "dfb['SUCCESSOR NUMBER'].value_counts()"
   ]
  },
  {
   "cell_type": "code",
   "execution_count": 36,
   "metadata": {
    "ExecuteTime": {
     "end_time": "2021-03-17T16:05:27.696987Z",
     "start_time": "2021-03-17T16:05:27.681343Z"
    }
   },
   "outputs": [
    {
     "data": {
      "text/plain": [
       "CONTRACT DATE               34\n",
       "SETUP DATE                  34\n",
       "ORIGINAL LOAN AMOUNT        34\n",
       "ORIGINAL TERM               34\n",
       "ORIGINAL MATURITY DATE      34\n",
       "CURRENT MATURITY DATE       34\n",
       "INTEREST RATE               34\n",
       "DEBT TO INCOME              11\n",
       "PAYMENT AMOUNT              34\n",
       "SUCCESSOR NUMBER            34\n",
       "ACCOUNT CODE                34\n",
       "ACCOUNT CODE DATE           34\n",
       "CANCEL REASON               34\n",
       "TYPE OF BANKRUPTCY          34\n",
       "Months Since Origination    34\n",
       "Purpose                     34\n",
       "Loan Type                   34\n",
       "Underwriting                34\n",
       "Pledged                     34\n",
       "co-signed                   34\n",
       "avg_credit_score            34\n",
       "bad                         34\n",
       "dtype: int64"
      ]
     },
     "execution_count": 36,
     "metadata": {},
     "output_type": "execute_result"
    }
   ],
   "source": [
    "dfb[dfb['SUCCESSOR NUMBER']!='NONE'].count()"
   ]
  },
  {
   "cell_type": "code",
   "execution_count": 37,
   "metadata": {
    "ExecuteTime": {
     "end_time": "2021-03-17T16:06:05.273256Z",
     "start_time": "2021-03-17T16:06:05.250946Z"
    }
   },
   "outputs": [
    {
     "data": {
      "text/plain": [
       "0.0774487471526196"
      ]
     },
     "execution_count": 37,
     "metadata": {},
     "output_type": "execute_result"
    }
   ],
   "source": [
    "# proportion of original bad loans that are from successors\n",
    "34/439"
   ]
  },
  {
   "cell_type": "code",
   "execution_count": 40,
   "metadata": {
    "ExecuteTime": {
     "end_time": "2021-03-17T16:08:07.294972Z",
     "start_time": "2021-03-17T16:08:07.270089Z"
    }
   },
   "outputs": [],
   "source": [
    "# ony dealing with people who went through the application process\n",
    "df = df[df['SUCCESSOR NUMBER']=='NONE']"
   ]
  },
  {
   "cell_type": "code",
   "execution_count": 41,
   "metadata": {
    "ExecuteTime": {
     "end_time": "2021-03-17T16:08:07.902418Z",
     "start_time": "2021-03-17T16:08:07.886795Z"
    }
   },
   "outputs": [
    {
     "data": {
      "text/plain": [
       "NONE                        4778\n",
       "CANCEL DUE TO BANKRUPTCY      13\n",
       "SETTLEMENT                    13\n",
       "INVOLUNTARY REPOSESSION        7\n",
       "CUSTOMER DEFAULTED             2\n",
       "VOLUNTARY REPOSESSION          1\n",
       "Name: CANCEL REASON, dtype: int64"
      ]
     },
     "execution_count": 41,
     "metadata": {},
     "output_type": "execute_result"
    }
   ],
   "source": [
    "#all 'customer defaulted' loans were successors\n",
    "df['CANCEL REASON'].value_counts()"
   ]
  },
  {
   "cell_type": "code",
   "execution_count": null,
   "metadata": {},
   "outputs": [],
   "source": [
    "# maybe needed\n",
    "df['Reporting Period'] = pd.to_datetime(df['Reporting Period'], format=\"%m/%d/%Y\")\n",
    "df['CONTRACT DATE'] = pd.to_datetime(df['CONTRACT DATE'], format=\"%m/%d/%Y\")\n",
    "df['SETUP DATE'] = pd.to_datetime(df['SETUP DATE'], format=\"%m/%d/%Y\")\n",
    "df['ORIGINAL MATURITY DATE'] = pd.to_datetime(df['ORIGINAL MATURITY DATE'], format=\"%m/%d/%Y\")\n",
    "df['CURRENT MATURITY DATE'] = pd.to_datetime(df['CURRENT MATURITY DATE'], format=\"%m/%d/%Y\")\n",
    "df['ACCOUNT CODE DATE'] = pd.to_datetime(df['ACCOUNT CODE DATE'], format=\"%m/%d/%Y\")"
   ]
  },
  {
   "cell_type": "code",
   "execution_count": null,
   "metadata": {},
   "outputs": [],
   "source": [
    "#df['s_y'] = df['SETUP DATE'].apply(lambda x: x.year)"
   ]
  },
  {
   "cell_type": "code",
   "execution_count": null,
   "metadata": {},
   "outputs": [],
   "source": [
    "#df[df['s_y']==2020]"
   ]
  },
  {
   "cell_type": "markdown",
   "metadata": {},
   "source": [
    "# A little EDA"
   ]
  },
  {
   "cell_type": "code",
   "execution_count": null,
   "metadata": {},
   "outputs": [],
   "source": [
    "def diff_month(d1, d2):\n",
    "    return abs((d1.year - d2.year) * 12) + abs(d1.month - d2.month)\n",
    "\n",
    "def to_quart(d):\n",
    "    qu = math.ceil(d.month/4)"
   ]
  },
  {
   "cell_type": "code",
   "execution_count": null,
   "metadata": {},
   "outputs": [],
   "source": [
    "def time_active(df):\n",
    "    if (df['ACCOUNT CODE']=='Paid in Full') | (df['bad']==1):\n",
    "        return diff_month(df['ACCOUNT CODE DATE'], df['SETUP DATE'])\n",
    "    else:\n",
    "        return df['Months Since Origination']"
   ]
  },
  {
   "cell_type": "code",
   "execution_count": null,
   "metadata": {},
   "outputs": [],
   "source": [
    "# to find out how long it took for loans get current account code \n",
    "# can only tell when a loan was cancelled, NOT how long a good loan has been active\n",
    "# for age of good loans use Months Since Origination\n",
    "df['active_m'] = df.apply(lambda x: time_active(x), axis=1)"
   ]
  },
  {
   "cell_type": "markdown",
   "metadata": {
    "heading_collapsed": true
   },
   "source": [
    "## All"
   ]
  },
  {
   "cell_type": "code",
   "execution_count": null,
   "metadata": {
    "hidden": true
   },
   "outputs": [],
   "source": [
    "df.describe()"
   ]
  },
  {
   "cell_type": "code",
   "execution_count": null,
   "metadata": {
    "hidden": true
   },
   "outputs": [],
   "source": [
    "sns.heatmap(df.corr())"
   ]
  },
  {
   "cell_type": "code",
   "execution_count": null,
   "metadata": {
    "hidden": true
   },
   "outputs": [],
   "source": [
    "df.hist(figsize=(10,10))"
   ]
  },
  {
   "cell_type": "markdown",
   "metadata": {
    "heading_collapsed": true
   },
   "source": [
    "## Good"
   ]
  },
  {
   "cell_type": "code",
   "execution_count": null,
   "metadata": {
    "hidden": true
   },
   "outputs": [],
   "source": [
    "df_g = df[df['bad']==0]"
   ]
  },
  {
   "cell_type": "code",
   "execution_count": null,
   "metadata": {
    "hidden": true
   },
   "outputs": [],
   "source": [
    "df_g.describe()"
   ]
  },
  {
   "cell_type": "code",
   "execution_count": null,
   "metadata": {
    "hidden": true
   },
   "outputs": [],
   "source": [
    "sns.heatmap(df_g.corr())"
   ]
  },
  {
   "cell_type": "code",
   "execution_count": null,
   "metadata": {
    "hidden": true
   },
   "outputs": [],
   "source": [
    "df_g.hist(figsize=(10,10))"
   ]
  },
  {
   "cell_type": "markdown",
   "metadata": {
    "heading_collapsed": true
   },
   "source": [
    "## Bad"
   ]
  },
  {
   "cell_type": "code",
   "execution_count": null,
   "metadata": {
    "hidden": true
   },
   "outputs": [],
   "source": [
    "df_b = df[df['bad']==1]"
   ]
  },
  {
   "cell_type": "code",
   "execution_count": null,
   "metadata": {
    "hidden": true
   },
   "outputs": [],
   "source": [
    "df_b.describe()"
   ]
  },
  {
   "cell_type": "code",
   "execution_count": null,
   "metadata": {
    "hidden": true
   },
   "outputs": [],
   "source": [
    "sns.heatmap(df_b.corr())"
   ]
  },
  {
   "cell_type": "code",
   "execution_count": null,
   "metadata": {
    "hidden": true
   },
   "outputs": [],
   "source": [
    "df_b.hist(figsize=(10,10))"
   ]
  },
  {
   "cell_type": "markdown",
   "metadata": {},
   "source": [
    "# Defining the positive Class"
   ]
  },
  {
   "cell_type": "code",
   "execution_count": null,
   "metadata": {},
   "outputs": [],
   "source": [
    "import math\n",
    "df_b['y'] = df_b['ACCOUNT CODE DATE'].apply(lambda x: x.year)"
   ]
  },
  {
   "cell_type": "code",
   "execution_count": null,
   "metadata": {},
   "outputs": [],
   "source": [
    "df_b['y'].hist()"
   ]
  },
  {
   "cell_type": "code",
   "execution_count": null,
   "metadata": {},
   "outputs": [],
   "source": [
    "#loans that have gone bad in 2020\n",
    "df_b[df_b['y']==2020]['active_m'].hist()"
   ]
  },
  {
   "cell_type": "code",
   "execution_count": null,
   "metadata": {},
   "outputs": [],
   "source": [
    "#oans that have gone bad before 2020\n",
    "df_b[df_b['y']!=2020]['active_m'].hist()"
   ]
  },
  {
   "cell_type": "markdown",
   "metadata": {},
   "source": [
    "##### The economic impact of COVID could cause people who would otherwise had paid off their loans to slip into bad standing.  This data represents only 5 months into 2020.  \n",
    "\n",
    "___H-null___ : There is no difference in how long it took for a loan to become 'bad' loans between 2020 and other years ___Rejected(?)___\n",
    "\n",
    "- doubling y_2020 to simulate a full year"
   ]
  },
  {
   "cell_type": "code",
   "execution_count": null,
   "metadata": {},
   "outputs": [],
   "source": [
    "y_2020 = df_b[df_b['y']==2020]['active_m']\n",
    "\n",
    "y_2020_ = y_2020.copy()\n",
    "\n",
    "y_2020 = y_2020.append(y_2020_, ignore_index=True)\n",
    " \n",
    "y_19 = df_b[df_b['y']!=2020]['active_m']\n",
    "\n",
    "scipy.stats.ttest_ind(y_2020, y_19)"
   ]
  },
  {
   "cell_type": "markdown",
   "metadata": {},
   "source": [
    "##### Its right on the line.  Doubling the amount of bad loans doubles both loans that have gone bad due to covid as well as loans that would have gone bad anyway.  In theory this mean the t-stat and p-value would be stronger.  They will be kept in this copy\n",
    "\n"
   ]
  },
  {
   "cell_type": "markdown",
   "metadata": {},
   "source": [
    "# Defining the Negative class"
   ]
  },
  {
   "cell_type": "markdown",
   "metadata": {
    "heading_collapsed": true
   },
   "source": [
    "## Determining threshold for loans of good standing"
   ]
  },
  {
   "cell_type": "markdown",
   "metadata": {
    "heading_collapsed": true,
    "hidden": true
   },
   "source": [
    "### DOES NOT APPLY TO THIS COPY\n",
    "\n",
    "##### If we only include completed loans the model will not generalize well because it will be fit only on outliers.  These are 10-20 year loans and we only have 9 years of data.  The model must be able to distinguish between a typical loan and one that will fail.  It won't be able to do this if it only has extraordinary cases to train on.  When does it become safe to assume a loan will be paid off?"
   ]
  },
  {
   "cell_type": "code",
   "execution_count": null,
   "metadata": {
    "hidden": true
   },
   "outputs": [],
   "source": [
    "df_b = df[df['bad']==1]"
   ]
  },
  {
   "cell_type": "code",
   "execution_count": null,
   "metadata": {
    "hidden": true
   },
   "outputs": [],
   "source": [
    "import math\n",
    "df_b['y'] = df_b['ACCOUNT CODE DATE'].apply(lambda x: x.year)"
   ]
  },
  {
   "cell_type": "code",
   "execution_count": null,
   "metadata": {
    "hidden": true
   },
   "outputs": [],
   "source": [
    "df_b['active_m'].hist()\n",
    "\n",
    "#q = df[df['bad']==1]['active_m'].quantile(0.95)"
   ]
  },
  {
   "cell_type": "code",
   "execution_count": null,
   "metadata": {
    "hidden": true
   },
   "outputs": [],
   "source": [
    "bad_mean = np.mean(df_b.active_m)\n",
    "bad_std = np.std(df_b.active_m, ddof=1)\n",
    "\n",
    "bad_mean, bad_std"
   ]
  },
  {
   "cell_type": "code",
   "execution_count": null,
   "metadata": {
    "hidden": true
   },
   "outputs": [],
   "source": [
    "df_b.active_m.quantile(q=0.99)"
   ]
  },
  {
   "cell_type": "code",
   "execution_count": null,
   "metadata": {
    "hidden": true
   },
   "outputs": [],
   "source": [
    "1 - norm.cdf(95, loc=bad_mean, scale=bad_std)"
   ]
  },
  {
   "cell_type": "code",
   "execution_count": null,
   "metadata": {
    "hidden": true
   },
   "outputs": [],
   "source": [
    "len(df[(df['bad'] == 0) & (df['active_m'] >= 95)])"
   ]
  },
  {
   "cell_type": "code",
   "execution_count": null,
   "metadata": {
    "hidden": true
   },
   "outputs": [],
   "source": []
  },
  {
   "cell_type": "markdown",
   "metadata": {
    "ExecuteTime": {
     "end_time": "2021-01-19T17:18:15.219377Z",
     "start_time": "2021-01-19T17:18:15.189428Z"
    },
    "hidden": true
   },
   "source": [
    "df = df[(df['bad'] == 1) | \n",
    "        (df['ACCOUNT CODE'] == 'Paid in Full') |\n",
    "        ((df['bad'] == 0) & (df['active_m'] >= 99))]"
   ]
  },
  {
   "cell_type": "code",
   "execution_count": null,
   "metadata": {
    "hidden": true
   },
   "outputs": [],
   "source": [
    "len(df)"
   ]
  },
  {
   "cell_type": "markdown",
   "metadata": {
    "hidden": true
   },
   "source": [
    "##### The number of months it takes for loans to fail is not normally distributed, so it was boostrapped with the expected mean falling within the confidence interval of the true mean.  According to that re-sampled data, there is P=0.006 chance that a loan will be canceled at or after the 99th percentile, 95 months.  We will keep loans that have been active for 95 months or more to give the model a sense of what a typical profile is, not just ones that are repaid quickly.\n",
    "\n",
    "\n",
    "##### This ends up adding 1038 loans for a totla of 5503\n",
    "    \n",
    "   \n",
    "##### Could potentially also exclude loans that were paid off a little too quickly...\n",
    "    "
   ]
  },
  {
   "cell_type": "markdown",
   "metadata": {},
   "source": [
    "## Defining threshold for paid off loans\n",
    "\n",
    "##### A ten year loan thats paid off in just a couple of months is generally atypical, except in this dataset.  If there was 3rd party involvement to make this happen, and if this played a role in determining if the loan was approved or not is unknown.  There is an abundance of paid off loans compared to canceled loans and 'safe' long standing loans so defining a threshold seems to make sense.\n"
   ]
  },
  {
   "cell_type": "markdown",
   "metadata": {},
   "source": [
    "### Sample pop = Paid off loans"
   ]
  },
  {
   "cell_type": "code",
   "execution_count": null,
   "metadata": {},
   "outputs": [],
   "source": [
    "df_g = df[df['ACCOUNT CODE']=='Paid in Full']"
   ]
  },
  {
   "cell_type": "code",
   "execution_count": null,
   "metadata": {
    "scrolled": true
   },
   "outputs": [],
   "source": [
    "df_g['active_m'].hist()"
   ]
  },
  {
   "cell_type": "code",
   "execution_count": null,
   "metadata": {},
   "outputs": [],
   "source": [
    "good_mean = np.mean(df_g.active_m)\n",
    "good_std = np.std(df_g.active_m, ddof=1)\n",
    "\n",
    "good_mean, good_std"
   ]
  },
  {
   "cell_type": "code",
   "execution_count": null,
   "metadata": {},
   "outputs": [],
   "source": [
    "df_g.active_m.quantile(0.025)"
   ]
  },
  {
   "cell_type": "code",
   "execution_count": null,
   "metadata": {},
   "outputs": [],
   "source": [
    "norm.cdf(0, loc=good_mean, scale=good_std)"
   ]
  },
  {
   "cell_type": "code",
   "execution_count": null,
   "metadata": {},
   "outputs": [],
   "source": [
    "len(df[((df['ACCOUNT CODE'] == 'Paid in Full') & (df['active_m'] < 1))])"
   ]
  },
  {
   "cell_type": "markdown",
   "metadata": {},
   "source": [
    "##### The p value is just barely acceptable and removes 49 loans that were paid off before a month had passed\n",
    "\n",
    "##### MAKING NO ALTERATIONS THIS COPY"
   ]
  },
  {
   "cell_type": "markdown",
   "metadata": {
    "ExecuteTime": {
     "end_time": "2021-01-19T16:23:22.794631Z",
     "start_time": "2021-01-19T16:23:22.779180Z"
    }
   },
   "source": [
    "df = df[(df['ACCOUNT CODE']!= 'Paid in Full') |\n",
    "        ((df['ACCOUNT CODE'] == 'Paid in Full') & (df['active_m'] >= 1))]"
   ]
  },
  {
   "cell_type": "markdown",
   "metadata": {},
   "source": [
    "# A little more EDA"
   ]
  },
  {
   "cell_type": "code",
   "execution_count": null,
   "metadata": {},
   "outputs": [],
   "source": [
    "df_b = df[(df['bad'] == 1)]\n",
    "df_g = df[df['bad'] != 1]"
   ]
  },
  {
   "cell_type": "markdown",
   "metadata": {},
   "source": [
    "##### Based on the histograms of each group bellow it seems it could be better to create a flag for original term length"
   ]
  },
  {
   "cell_type": "markdown",
   "metadata": {
    "heading_collapsed": true
   },
   "source": [
    "## Redoing the initial EDA, not relevent this copy"
   ]
  },
  {
   "cell_type": "markdown",
   "metadata": {
    "hidden": true
   },
   "source": [
    "### All"
   ]
  },
  {
   "cell_type": "code",
   "execution_count": null,
   "metadata": {
    "hidden": true
   },
   "outputs": [],
   "source": [
    "df.describe()"
   ]
  },
  {
   "cell_type": "code",
   "execution_count": null,
   "metadata": {
    "hidden": true
   },
   "outputs": [],
   "source": [
    "sns.heatmap(df.corr())"
   ]
  },
  {
   "cell_type": "code",
   "execution_count": null,
   "metadata": {
    "hidden": true
   },
   "outputs": [],
   "source": [
    "df.hist(figsize=(10,10))"
   ]
  },
  {
   "cell_type": "markdown",
   "metadata": {
    "hidden": true
   },
   "source": [
    "### Good"
   ]
  },
  {
   "cell_type": "code",
   "execution_count": null,
   "metadata": {
    "hidden": true
   },
   "outputs": [],
   "source": [
    "#df_g.describe()"
   ]
  },
  {
   "cell_type": "code",
   "execution_count": null,
   "metadata": {
    "hidden": true
   },
   "outputs": [],
   "source": [
    "sns.heatmap(df_g.corr())"
   ]
  },
  {
   "cell_type": "code",
   "execution_count": null,
   "metadata": {
    "hidden": true
   },
   "outputs": [],
   "source": [
    "df_g.hist(figsize=(10,10))"
   ]
  },
  {
   "cell_type": "markdown",
   "metadata": {
    "hidden": true
   },
   "source": [
    "### Bad"
   ]
  },
  {
   "cell_type": "code",
   "execution_count": null,
   "metadata": {
    "hidden": true
   },
   "outputs": [],
   "source": [
    "#df_b.describe()"
   ]
  },
  {
   "cell_type": "code",
   "execution_count": null,
   "metadata": {
    "hidden": true
   },
   "outputs": [],
   "source": [
    "sns.heatmap(df_b.corr())"
   ]
  },
  {
   "cell_type": "code",
   "execution_count": null,
   "metadata": {
    "hidden": true
   },
   "outputs": [],
   "source": [
    "df_b.hist(figsize=(10,10))"
   ]
  },
  {
   "cell_type": "code",
   "execution_count": null,
   "metadata": {
    "hidden": true
   },
   "outputs": [],
   "source": []
  },
  {
   "cell_type": "markdown",
   "metadata": {},
   "source": [
    "## Category EDA"
   ]
  },
  {
   "cell_type": "code",
   "execution_count": null,
   "metadata": {},
   "outputs": [],
   "source": [
    "df.select_dtypes(include='object').columns"
   ]
  },
  {
   "cell_type": "code",
   "execution_count": null,
   "metadata": {},
   "outputs": [],
   "source": [
    "objs = ['Purpose','Loan Type', 'Underwriting', 'Pledged']\n",
    "\n",
    "for o in objs:\n",
    "    plt.figure()\n",
    "    sns.catplot(y=o, data=df, kind='count', hue='bad')\n",
    "    plt.show()"
   ]
  },
  {
   "cell_type": "code",
   "execution_count": null,
   "metadata": {},
   "outputs": [],
   "source": [
    "for o in objs:\n",
    "    print(o)\n",
    "    print(df[o].value_counts())\n",
    "    print('')"
   ]
  },
  {
   "cell_type": "code",
   "execution_count": null,
   "metadata": {},
   "outputs": [],
   "source": [
    "# one instance of a 30 debt to income ratio is removed\n",
    "\n",
    "df = df[df['DEBT TO INCOME'] < 30]"
   ]
  },
  {
   "cell_type": "markdown",
   "metadata": {},
   "source": [
    "## Scatter plots"
   ]
  },
  {
   "cell_type": "code",
   "execution_count": null,
   "metadata": {},
   "outputs": [],
   "source": [
    "plt.figure(figsize=(10,10))\n",
    "sns.scatterplot(x='avg_credit_score', y='DEBT TO INCOME', data=df, hue='bad')"
   ]
  },
  {
   "cell_type": "code",
   "execution_count": null,
   "metadata": {},
   "outputs": [],
   "source": [
    "plt.figure(figsize=(10,10))\n",
    "sns.scatterplot(x='avg_credit_score', y='ORIGINAL LOAN AMOUNT', data=df, hue='bad')"
   ]
  },
  {
   "cell_type": "code",
   "execution_count": null,
   "metadata": {},
   "outputs": [],
   "source": [
    "plt.figure(figsize=(10,10))\n",
    "sns.scatterplot(x='avg_credit_score', y='PAYMENT AMOUNT', data=df, hue='bad')"
   ]
  },
  {
   "cell_type": "code",
   "execution_count": null,
   "metadata": {},
   "outputs": [],
   "source": [
    "plt.figure(figsize=(10,10))\n",
    "sns.violinplot(x='INTEREST RATE', y='avg_credit_score', data=df, hue='bad')"
   ]
  },
  {
   "cell_type": "code",
   "execution_count": null,
   "metadata": {},
   "outputs": [],
   "source": [
    "plt.figure(figsize=(10,10))\n",
    "sns.violinplot(x='ORIGINAL TERM', y='avg_credit_score', data=df, hue='bad')"
   ]
  },
  {
   "cell_type": "code",
   "execution_count": null,
   "metadata": {},
   "outputs": [],
   "source": [
    "df.columns"
   ]
  },
  {
   "cell_type": "code",
   "execution_count": null,
   "metadata": {},
   "outputs": [],
   "source": [
    "bx = ['ORIGINAL LOAN AMOUNT','ORIGINAL TERM','INTEREST RATE','DEBT TO INCOME','PAYMENT AMOUNT']\n",
    "\n",
    "for b in bx:\n",
    "    pd.DataFrame(df[b]).boxplot()\n",
    "    plt.show()"
   ]
  },
  {
   "cell_type": "markdown",
   "metadata": {},
   "source": [
    "# Category Binarification"
   ]
  },
  {
   "cell_type": "code",
   "execution_count": null,
   "metadata": {},
   "outputs": [],
   "source": [
    "# CREATES BINARY COLUMN FOR PLEDGED VS UNPLEDGED LOANS\n",
    "df['unpledged'] = df['Pledged'].apply(lambda x: 1 if x == 'Unpledged' else 0)\n",
    "\n",
    "# DROPS ORIGINAL PLEDGED COLUMN\n",
    "df.drop('Pledged', axis=1, inplace=True)"
   ]
  },
  {
   "cell_type": "code",
   "execution_count": null,
   "metadata": {},
   "outputs": [],
   "source": [
    "# CREATES FLAG FOR UNDERWRITTING T1, ONLY T1 AND T2 IN SET\n",
    "df['underwritten_t1'] = df['Underwriting'].apply(lambda x: 1 if x == 'Tier 1' else 0)\n",
    "\n",
    "df.drop('Underwriting', axis=1, inplace=True)"
   ]
  },
  {
   "cell_type": "code",
   "execution_count": null,
   "metadata": {},
   "outputs": [],
   "source": [
    "# CREATES BOOL FOR LOAN TYPE, 0 = ON BILL RECOVERY\n",
    "df['loan_type_smart_energy'] = df['Loan Type'].apply(lambda x: 1 if x == 'Smart Energy' else 0)\n",
    "\n",
    "df.drop('Loan Type', axis= 1, inplace=True)"
   ]
  },
  {
   "cell_type": "code",
   "execution_count": null,
   "metadata": {},
   "outputs": [],
   "source": [
    "# CREATES BOOL FOR PURPOSE, DOUBLE ZERO IS OTHER\n",
    "df['purpose_ee'] = df['Purpose'].apply(lambda x: 1 if x == 'Energy Efficiency (EE)' else 0)\n",
    "\n",
    "df['purpose_sol'] = df['Purpose'].apply(lambda x: 1 if x == 'Solar (PV)' else 0)\n",
    "\n",
    "df.drop('Purpose', axis=1, inplace=True)"
   ]
  },
  {
   "cell_type": "code",
   "execution_count": null,
   "metadata": {},
   "outputs": [],
   "source": [
    "df.drop([\n",
    "    'CONTRACT DATE', 'SETUP DATE', 'ORIGINAL MATURITY DATE',\n",
    "    'CURRENT MATURITY DATE', 'ACCOUNT CODE', 'ACCOUNT CODE DATE',\n",
    "    'CANCEL REASON', 'TYPE OF BANKRUPTCY','active_m','Months Since Origination' #,'y'\n",
    "],\n",
    "        axis=1,\n",
    "        inplace=True)"
   ]
  },
  {
   "cell_type": "code",
   "execution_count": null,
   "metadata": {},
   "outputs": [],
   "source": [
    "df['ORIGINAL TERM'].value_counts()"
   ]
  },
  {
   "cell_type": "code",
   "execution_count": null,
   "metadata": {},
   "outputs": [],
   "source": [
    "# dtype int, but is a category. tricky tricky\n",
    "df['term_180'] = df['ORIGINAL TERM'].apply(lambda x: 1 if x==180 else 0)\n",
    "df['term_120'] = df['ORIGINAL TERM'].apply(lambda x: 1 if x==120 else 0)\n",
    "df['term_60'] = df['ORIGINAL TERM'].apply(lambda x: 1 if x==60 else 0)\n",
    "\n",
    "df.drop('ORIGINAL TERM',axis=1,inplace=True)"
   ]
  },
  {
   "cell_type": "code",
   "execution_count": null,
   "metadata": {},
   "outputs": [],
   "source": [
    "df.info()"
   ]
  },
  {
   "cell_type": "code",
   "execution_count": null,
   "metadata": {},
   "outputs": [],
   "source": [
    "(sum(df.bad))\n",
    "#/len(df)"
   ]
  },
  {
   "cell_type": "code",
   "execution_count": null,
   "metadata": {},
   "outputs": [],
   "source": [
    "#\n",
    "len(df)- sum(df.bad) \n"
   ]
  },
  {
   "cell_type": "markdown",
   "metadata": {},
   "source": [
    "# Conclusion\n",
    "\n",
    "##### Rows: 4813\n",
    "##### Columns: 15 : 5 numeric, 10 binary categorical leave one out\n",
    "##### Positive Class: 314(%6.5) : All loans that have been canceled by the original clients of GJGNY for a reason other than death or put on hold, and did not go bad in 2020\n",
    "##### Negative Class: 4499: All loans paid off after one month had passed and loans in good standing that have been active for 95 months or longer"
   ]
  },
  {
   "cell_type": "code",
   "execution_count": null,
   "metadata": {},
   "outputs": [],
   "source": [
    "df.to_csv(r'C:\\Users\\2bogu\\OneDrive\\Desktop\\Sringboard_Materials\\capstone2\\data\\interim\\fl', index = False)"
   ]
  },
  {
   "cell_type": "code",
   "execution_count": null,
   "metadata": {},
   "outputs": [],
   "source": []
  }
 ],
 "metadata": {
  "kernelspec": {
   "display_name": "Python 3",
   "language": "python",
   "name": "python3"
  },
  "language_info": {
   "codemirror_mode": {
    "name": "ipython",
    "version": 3
   },
   "file_extension": ".py",
   "mimetype": "text/x-python",
   "name": "python",
   "nbconvert_exporter": "python",
   "pygments_lexer": "ipython3",
   "version": "3.7.9"
  },
  "toc": {
   "base_numbering": 1,
   "nav_menu": {},
   "number_sections": true,
   "sideBar": true,
   "skip_h1_title": false,
   "title_cell": "Table of Contents",
   "title_sidebar": "Contents",
   "toc_cell": false,
   "toc_position": {},
   "toc_section_display": true,
   "toc_window_display": false
  },
  "varInspector": {
   "cols": {
    "lenName": 16,
    "lenType": 16,
    "lenVar": 40
   },
   "kernels_config": {
    "python": {
     "delete_cmd_postfix": "",
     "delete_cmd_prefix": "del ",
     "library": "var_list.py",
     "varRefreshCmd": "print(var_dic_list())"
    },
    "r": {
     "delete_cmd_postfix": ") ",
     "delete_cmd_prefix": "rm(",
     "library": "var_list.r",
     "varRefreshCmd": "cat(var_dic_list()) "
    }
   },
   "types_to_exclude": [
    "module",
    "function",
    "builtin_function_or_method",
    "instance",
    "_Feature"
   ],
   "window_display": false
  }
 },
 "nbformat": 4,
 "nbformat_minor": 4
}
