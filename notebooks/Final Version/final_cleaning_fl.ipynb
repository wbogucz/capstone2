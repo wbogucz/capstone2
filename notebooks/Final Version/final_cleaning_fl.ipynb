{
 "cells": [
  {
   "cell_type": "code",
   "execution_count": 88,
   "metadata": {
    "ExecuteTime": {
     "end_time": "2021-03-17T21:01:20.103106Z",
     "start_time": "2021-03-17T21:01:20.083215Z"
    }
   },
   "outputs": [],
   "source": [
    "import requests\n",
    "import numpy as np\n",
    "import pandas as pd\n",
    "import pandas_profiling\n",
    "import json\n",
    "import os\n",
    "import matplotlib\n",
    "#matplotlib.use('TkAgg')\n",
    "import matplotlib.pyplot as plt\n",
    "import seaborn as sns\n",
    "import scipy.stats\n",
    "from scipy.stats import norm\n",
    "from datetime import datetime\n",
    "\n",
    "%matplotlib inline\n",
    "\n",
    "pd.options.display.max_columns = None\n",
    "\n",
    "import statsmodels.api as sm # Provides cross-sectional models and methods\n",
    "from statsmodels.graphics.api import abline_plot # Plots line given intercept and slope\n",
    "from sklearn.metrics import mean_squared_error, r2_score # Rates how close regression line is to data\n",
    "from sklearn.model_selection import train_test_split #  Splits data into training and test groups\n",
    "from sklearn import linear_model, preprocessing # Ordinary least square regression and standardizes the data\n",
    "import warnings # For handling error messages."
   ]
  },
  {
   "cell_type": "code",
   "execution_count": 89,
   "metadata": {
    "ExecuteTime": {
     "end_time": "2021-03-17T21:01:20.343018Z",
     "start_time": "2021-03-17T21:01:20.103106Z"
    }
   },
   "outputs": [],
   "source": [
    "os.chdir(r'C:\\Users\\2bogu\\OneDrive\\Desktop\\Sringboard_Materials\\capstone2\\data\\external')\n",
    "\n",
    "df = pd.read_csv('Green_Jobs_-_Green_New_York__GJGNY__Residential_Loan_Portfolio___Beginning_November_2010.csv')"
   ]
  },
  {
   "cell_type": "markdown",
   "metadata": {},
   "source": [
    "# Initial Cleaning"
   ]
  },
  {
   "cell_type": "code",
   "execution_count": 90,
   "metadata": {
    "ExecuteTime": {
     "end_time": "2021-03-17T21:01:20.363333Z",
     "start_time": "2021-03-17T21:01:20.343018Z"
    }
   },
   "outputs": [
    {
     "data": {
      "text/plain": [
       "Index(['Reporting Period', 'CONTRACT DATE', 'SETUP DATE',\n",
       "       'ORIGINAL LOAN AMOUNT', 'ORIGINAL TERM', 'ORIGINAL MATURITY DATE',\n",
       "       'CURRENT MATURITY DATE', 'INTEREST RATE', 'CREDIT SCORE CURRENT HIGH',\n",
       "       'CREDIT SCORE', 'CREDIT SCORE NAME 2', 'DEBT TO INCOME',\n",
       "       'FIRST PAYMENT DATE', 'LAST PAYMENT DATE', 'LAST PAYMENT AMOUNT',\n",
       "       'NEXT PAYMENT DUE DATE', 'PAYMENT AMOUNT', 'CURRENT BALANCE',\n",
       "       'UNAPPLIED CASH', 'DELINQUENT AMOUNT', 'TOTAL INTEREST PAID',\n",
       "       'TOTAL LATE CHARGE PAID', 'PAYMENTS REMAINING', 'DAYS DELINQUENT',\n",
       "       'PROPERTY COUNTY', 'UTILITY', 'INSTALLATION CITY', 'INSTALLATION ZIP',\n",
       "       'Contractor Name', 'SUCCESSOR NUMBER', 'ACCOUNT CODE',\n",
       "       'ACCOUNT CODE DATE', 'CANCEL REASON', 'TYPE OF BANKRUPTCY',\n",
       "       'Months Since Origination', 'Payments Made', 'Purpose', 'Loan Type',\n",
       "       'Underwriting', 'Pledged', 'Georeference'],\n",
       "      dtype='object')"
      ]
     },
     "execution_count": 90,
     "metadata": {},
     "output_type": "execute_result"
    }
   ],
   "source": [
    "df.columns"
   ]
  },
  {
   "cell_type": "code",
   "execution_count": 91,
   "metadata": {
    "ExecuteTime": {
     "end_time": "2021-03-17T21:01:20.383293Z",
     "start_time": "2021-03-17T21:01:20.363333Z"
    }
   },
   "outputs": [],
   "source": [
    "df = df.drop(['LAST PAYMENT AMOUNT', 'LAST PAYMENT DATE', 'FIRST PAYMENT DATE', \n",
    "              'DELINQUENT AMOUNT', 'DAYS DELINQUENT', 'Reporting Period', \n",
    "              'CREDIT SCORE CURRENT HIGH', 'NEXT PAYMENT DUE DATE', 'PAYMENTS REMAINING', \n",
    "              'PROPERTY COUNTY', 'UTILITY', 'INSTALLATION CITY', 'INSTALLATION ZIP', \n",
    "              'Contractor Name', 'Georeference', 'UNAPPLIED CASH', 'TOTAL LATE CHARGE PAID', \n",
    "              'CURRENT BALANCE', 'TOTAL INTEREST PAID', 'Payments Made'], axis=1)"
   ]
  },
  {
   "cell_type": "code",
   "execution_count": 92,
   "metadata": {
    "ExecuteTime": {
     "end_time": "2021-03-17T21:01:20.423204Z",
     "start_time": "2021-03-17T21:01:20.383293Z"
    }
   },
   "outputs": [
    {
     "name": "stdout",
     "output_type": "stream",
     "text": [
      "<class 'pandas.core.frame.DataFrame'>\n",
      "RangeIndex: 27385 entries, 0 to 27384\n",
      "Data columns (total 21 columns):\n",
      " #   Column                    Non-Null Count  Dtype  \n",
      "---  ------                    --------------  -----  \n",
      " 0   CONTRACT DATE             27385 non-null  object \n",
      " 1   SETUP DATE                27385 non-null  object \n",
      " 2   ORIGINAL LOAN AMOUNT      27385 non-null  float64\n",
      " 3   ORIGINAL TERM             27385 non-null  int64  \n",
      " 4   ORIGINAL MATURITY DATE    27385 non-null  object \n",
      " 5   CURRENT MATURITY DATE     27385 non-null  object \n",
      " 6   INTEREST RATE             27385 non-null  float64\n",
      " 7   CREDIT SCORE              26863 non-null  float64\n",
      " 8   CREDIT SCORE NAME 2       12149 non-null  float64\n",
      " 9   DEBT TO INCOME            26938 non-null  float64\n",
      " 10  PAYMENT AMOUNT            27385 non-null  float64\n",
      " 11  SUCCESSOR NUMBER          770 non-null    object \n",
      " 12  ACCOUNT CODE              27385 non-null  object \n",
      " 13  ACCOUNT CODE DATE         27385 non-null  object \n",
      " 14  CANCEL REASON             160 non-null    object \n",
      " 15  TYPE OF BANKRUPTCY        234 non-null    object \n",
      " 16  Months Since Origination  27385 non-null  float64\n",
      " 17  Purpose                   27385 non-null  object \n",
      " 18  Loan Type                 27385 non-null  object \n",
      " 19  Underwriting              27385 non-null  object \n",
      " 20  Pledged                   27385 non-null  object \n",
      "dtypes: float64(7), int64(1), object(13)\n",
      "memory usage: 4.4+ MB\n"
     ]
    }
   ],
   "source": [
    "df.info()"
   ]
  },
  {
   "cell_type": "code",
   "execution_count": 93,
   "metadata": {
    "ExecuteTime": {
     "end_time": "2021-03-17T21:01:20.442934Z",
     "start_time": "2021-03-17T21:01:20.423204Z"
    }
   },
   "outputs": [],
   "source": [
    "df['CANCEL REASON'].fillna('NONE', inplace = True)\n",
    "\n",
    "df['TYPE OF BANKRUPTCY'].fillna('NONE', inplace = True)\n",
    "\n",
    "df['SUCCESSOR NUMBER'].fillna('NONE', inplace = True)\n"
   ]
  },
  {
   "cell_type": "code",
   "execution_count": 94,
   "metadata": {
    "ExecuteTime": {
     "end_time": "2021-03-17T21:01:20.483479Z",
     "start_time": "2021-03-17T21:01:20.442934Z"
    }
   },
   "outputs": [],
   "source": [
    "# indicates if loan has a cosigner\n",
    "df['co-signed'] = np.where(pd.notnull(df['CREDIT SCORE NAME 2']), 1, 0)\n",
    "\n",
    "# averages credit score feature to get rid of nans in credit score 2\n",
    "df['avg_credit_score'] = df[['CREDIT SCORE', 'CREDIT SCORE NAME 2']].mean(axis=1)\n",
    "\n",
    "# fills remaining na values with average of averages\n",
    "df['avg_credit_score'].fillna(df['avg_credit_score'].mean(), inplace=True)\n",
    "\n",
    "df.drop(['CREDIT SCORE','CREDIT SCORE NAME 2'], axis=1, inplace=True)"
   ]
  },
  {
   "cell_type": "code",
   "execution_count": 95,
   "metadata": {
    "ExecuteTime": {
     "end_time": "2021-03-17T21:01:20.503114Z",
     "start_time": "2021-03-17T21:01:20.483479Z"
    }
   },
   "outputs": [
    {
     "data": {
      "text/plain": [
       "SurePay/Automatic Debit Payment              12061\n",
       "Check/Money Order Payment (with coupon)       9612\n",
       "Paid in Full                                  4903\n",
       "Legal Category                                 368\n",
       "Notice of Bankruptcy (written)                 186\n",
       "Canceled                                       160\n",
       "Soft Hold                                       66\n",
       "On Hold                                         16\n",
       "Management Hold                                  5\n",
       "Notice of Bankruptcy (verbal)                    4\n",
       "Collections Terminated (by customer)             2\n",
       "Dispute of Debt                                  1\n",
       "SurePay/Automatic Debit Payment (on hold)        1\n",
       "Name: ACCOUNT CODE, dtype: int64"
      ]
     },
     "execution_count": 95,
     "metadata": {},
     "output_type": "execute_result"
    }
   ],
   "source": [
    "df['ACCOUNT CODE'].value_counts()"
   ]
  },
  {
   "cell_type": "code",
   "execution_count": 96,
   "metadata": {
    "ExecuteTime": {
     "end_time": "2021-03-17T21:01:20.543123Z",
     "start_time": "2021-03-17T21:01:20.503114Z"
    }
   },
   "outputs": [],
   "source": [
    "# FILTERING FOR FINISHED LOANS\n",
    "df = df.loc[df['ACCOUNT CODE'].str.contains('Hold|Canceled|Terminated|Bankruptcy|Full', regex=True)]"
   ]
  },
  {
   "cell_type": "code",
   "execution_count": 97,
   "metadata": {
    "ExecuteTime": {
     "end_time": "2021-03-17T21:01:20.562892Z",
     "start_time": "2021-03-17T21:01:20.543123Z"
    }
   },
   "outputs": [],
   "source": [
    "# creates dependent var\n",
    "#df['bad'] = df['CANCEL REASON'].str.contains('NONE')\n",
    "df['bad'] = df['ACCOUNT CODE'].str.contains('Hold|Canceled|Terminated|Bankruptcy', regex=True)\n",
    "df['bad'] = df['bad'].apply(lambda x: 1 if x==True else 0)"
   ]
  },
  {
   "cell_type": "code",
   "execution_count": 98,
   "metadata": {
    "ExecuteTime": {
     "end_time": "2021-03-17T21:01:20.623255Z",
     "start_time": "2021-03-17T21:01:20.562892Z"
    }
   },
   "outputs": [
    {
     "data": {
      "text/html": [
       "<div>\n",
       "<style scoped>\n",
       "    .dataframe tbody tr th:only-of-type {\n",
       "        vertical-align: middle;\n",
       "    }\n",
       "\n",
       "    .dataframe tbody tr th {\n",
       "        vertical-align: top;\n",
       "    }\n",
       "\n",
       "    .dataframe thead th {\n",
       "        text-align: right;\n",
       "    }\n",
       "</style>\n",
       "<table border=\"1\" class=\"dataframe\">\n",
       "  <thead>\n",
       "    <tr style=\"text-align: right;\">\n",
       "      <th></th>\n",
       "      <th>ORIGINAL LOAN AMOUNT</th>\n",
       "      <th>ORIGINAL TERM</th>\n",
       "      <th>INTEREST RATE</th>\n",
       "      <th>DEBT TO INCOME</th>\n",
       "      <th>PAYMENT AMOUNT</th>\n",
       "      <th>Months Since Origination</th>\n",
       "      <th>co-signed</th>\n",
       "      <th>avg_credit_score</th>\n",
       "      <th>bad</th>\n",
       "    </tr>\n",
       "  </thead>\n",
       "  <tbody>\n",
       "    <tr>\n",
       "      <th>count</th>\n",
       "      <td>5342.000000</td>\n",
       "      <td>5342.000000</td>\n",
       "      <td>5342.000000</td>\n",
       "      <td>5216.000000</td>\n",
       "      <td>5342.000000</td>\n",
       "      <td>5342.000000</td>\n",
       "      <td>5342.000000</td>\n",
       "      <td>5342.000000</td>\n",
       "      <td>5342.000000</td>\n",
       "    </tr>\n",
       "    <tr>\n",
       "      <th>mean</th>\n",
       "      <td>10076.636887</td>\n",
       "      <td>150.875515</td>\n",
       "      <td>3.769296</td>\n",
       "      <td>0.297223</td>\n",
       "      <td>91.328793</td>\n",
       "      <td>65.619993</td>\n",
       "      <td>0.415013</td>\n",
       "      <td>750.423501</td>\n",
       "      <td>0.082179</td>\n",
       "    </tr>\n",
       "    <tr>\n",
       "      <th>std</th>\n",
       "      <td>6337.052334</td>\n",
       "      <td>47.812924</td>\n",
       "      <td>0.902968</td>\n",
       "      <td>0.525935</td>\n",
       "      <td>59.209793</td>\n",
       "      <td>23.999321</td>\n",
       "      <td>0.492770</td>\n",
       "      <td>48.068659</td>\n",
       "      <td>0.274663</td>\n",
       "    </tr>\n",
       "    <tr>\n",
       "      <th>min</th>\n",
       "      <td>61.000000</td>\n",
       "      <td>26.000000</td>\n",
       "      <td>2.990000</td>\n",
       "      <td>0.000000</td>\n",
       "      <td>11.000000</td>\n",
       "      <td>2.000000</td>\n",
       "      <td>0.000000</td>\n",
       "      <td>527.000000</td>\n",
       "      <td>0.000000</td>\n",
       "    </tr>\n",
       "    <tr>\n",
       "      <th>25%</th>\n",
       "      <td>5020.250000</td>\n",
       "      <td>120.000000</td>\n",
       "      <td>3.490000</td>\n",
       "      <td>0.160000</td>\n",
       "      <td>48.000000</td>\n",
       "      <td>49.000000</td>\n",
       "      <td>0.000000</td>\n",
       "      <td>724.000000</td>\n",
       "      <td>0.000000</td>\n",
       "    </tr>\n",
       "    <tr>\n",
       "      <th>50%</th>\n",
       "      <td>8386.000000</td>\n",
       "      <td>180.000000</td>\n",
       "      <td>3.490000</td>\n",
       "      <td>0.280000</td>\n",
       "      <td>78.000000</td>\n",
       "      <td>63.000000</td>\n",
       "      <td>0.000000</td>\n",
       "      <td>763.500000</td>\n",
       "      <td>0.000000</td>\n",
       "    </tr>\n",
       "    <tr>\n",
       "      <th>75%</th>\n",
       "      <td>13431.500000</td>\n",
       "      <td>180.000000</td>\n",
       "      <td>3.490000</td>\n",
       "      <td>0.400000</td>\n",
       "      <td>123.000000</td>\n",
       "      <td>85.000000</td>\n",
       "      <td>1.000000</td>\n",
       "      <td>788.000000</td>\n",
       "      <td>0.000000</td>\n",
       "    </tr>\n",
       "    <tr>\n",
       "      <th>max</th>\n",
       "      <td>25000.000000</td>\n",
       "      <td>180.000000</td>\n",
       "      <td>8.490000</td>\n",
       "      <td>36.090000</td>\n",
       "      <td>455.000000</td>\n",
       "      <td>114.000000</td>\n",
       "      <td>1.000000</td>\n",
       "      <td>833.000000</td>\n",
       "      <td>1.000000</td>\n",
       "    </tr>\n",
       "  </tbody>\n",
       "</table>\n",
       "</div>"
      ],
      "text/plain": [
       "       ORIGINAL LOAN AMOUNT  ORIGINAL TERM  INTEREST RATE  DEBT TO INCOME  \\\n",
       "count           5342.000000    5342.000000    5342.000000     5216.000000   \n",
       "mean           10076.636887     150.875515       3.769296        0.297223   \n",
       "std             6337.052334      47.812924       0.902968        0.525935   \n",
       "min               61.000000      26.000000       2.990000        0.000000   \n",
       "25%             5020.250000     120.000000       3.490000        0.160000   \n",
       "50%             8386.000000     180.000000       3.490000        0.280000   \n",
       "75%            13431.500000     180.000000       3.490000        0.400000   \n",
       "max            25000.000000     180.000000       8.490000       36.090000   \n",
       "\n",
       "       PAYMENT AMOUNT  Months Since Origination    co-signed  \\\n",
       "count     5342.000000               5342.000000  5342.000000   \n",
       "mean        91.328793                 65.619993     0.415013   \n",
       "std         59.209793                 23.999321     0.492770   \n",
       "min         11.000000                  2.000000     0.000000   \n",
       "25%         48.000000                 49.000000     0.000000   \n",
       "50%         78.000000                 63.000000     0.000000   \n",
       "75%        123.000000                 85.000000     1.000000   \n",
       "max        455.000000                114.000000     1.000000   \n",
       "\n",
       "       avg_credit_score          bad  \n",
       "count       5342.000000  5342.000000  \n",
       "mean         750.423501     0.082179  \n",
       "std           48.068659     0.274663  \n",
       "min          527.000000     0.000000  \n",
       "25%          724.000000     0.000000  \n",
       "50%          763.500000     0.000000  \n",
       "75%          788.000000     0.000000  \n",
       "max          833.000000     1.000000  "
      ]
     },
     "execution_count": 98,
     "metadata": {},
     "output_type": "execute_result"
    }
   ],
   "source": [
    "df.describe()"
   ]
  },
  {
   "cell_type": "code",
   "execution_count": 99,
   "metadata": {
    "ExecuteTime": {
     "end_time": "2021-03-17T21:01:20.643052Z",
     "start_time": "2021-03-17T21:01:20.623255Z"
    }
   },
   "outputs": [],
   "source": [
    "# removing outleir\n",
    "df = df[df['DEBT TO INCOME'] < 30]"
   ]
  },
  {
   "cell_type": "code",
   "execution_count": 100,
   "metadata": {
    "ExecuteTime": {
     "end_time": "2021-03-17T21:01:20.703563Z",
     "start_time": "2021-03-17T21:01:20.643052Z"
    }
   },
   "outputs": [
    {
     "data": {
      "text/html": [
       "<div>\n",
       "<style scoped>\n",
       "    .dataframe tbody tr th:only-of-type {\n",
       "        vertical-align: middle;\n",
       "    }\n",
       "\n",
       "    .dataframe tbody tr th {\n",
       "        vertical-align: top;\n",
       "    }\n",
       "\n",
       "    .dataframe thead th {\n",
       "        text-align: right;\n",
       "    }\n",
       "</style>\n",
       "<table border=\"1\" class=\"dataframe\">\n",
       "  <thead>\n",
       "    <tr style=\"text-align: right;\">\n",
       "      <th></th>\n",
       "      <th>ORIGINAL LOAN AMOUNT</th>\n",
       "      <th>ORIGINAL TERM</th>\n",
       "      <th>INTEREST RATE</th>\n",
       "      <th>DEBT TO INCOME</th>\n",
       "      <th>PAYMENT AMOUNT</th>\n",
       "      <th>Months Since Origination</th>\n",
       "      <th>co-signed</th>\n",
       "      <th>avg_credit_score</th>\n",
       "      <th>bad</th>\n",
       "    </tr>\n",
       "  </thead>\n",
       "  <tbody>\n",
       "    <tr>\n",
       "      <th>count</th>\n",
       "      <td>5215.000000</td>\n",
       "      <td>5215.000000</td>\n",
       "      <td>5215.000000</td>\n",
       "      <td>5215.000000</td>\n",
       "      <td>5215.000000</td>\n",
       "      <td>5215.000000</td>\n",
       "      <td>5215.000000</td>\n",
       "      <td>5215.000000</td>\n",
       "      <td>5215.000000</td>\n",
       "    </tr>\n",
       "    <tr>\n",
       "      <th>mean</th>\n",
       "      <td>10156.118696</td>\n",
       "      <td>150.841035</td>\n",
       "      <td>3.779453</td>\n",
       "      <td>0.290359</td>\n",
       "      <td>91.858688</td>\n",
       "      <td>65.467670</td>\n",
       "      <td>0.425120</td>\n",
       "      <td>750.800824</td>\n",
       "      <td>0.079770</td>\n",
       "    </tr>\n",
       "    <tr>\n",
       "      <th>std</th>\n",
       "      <td>6315.746301</td>\n",
       "      <td>48.268816</td>\n",
       "      <td>0.910801</td>\n",
       "      <td>0.175798</td>\n",
       "      <td>59.469249</td>\n",
       "      <td>24.126659</td>\n",
       "      <td>0.494409</td>\n",
       "      <td>48.586646</td>\n",
       "      <td>0.270963</td>\n",
       "    </tr>\n",
       "    <tr>\n",
       "      <th>min</th>\n",
       "      <td>1472.000000</td>\n",
       "      <td>60.000000</td>\n",
       "      <td>2.990000</td>\n",
       "      <td>0.000000</td>\n",
       "      <td>11.000000</td>\n",
       "      <td>2.000000</td>\n",
       "      <td>0.000000</td>\n",
       "      <td>527.000000</td>\n",
       "      <td>0.000000</td>\n",
       "    </tr>\n",
       "    <tr>\n",
       "      <th>25%</th>\n",
       "      <td>5076.500000</td>\n",
       "      <td>120.000000</td>\n",
       "      <td>3.490000</td>\n",
       "      <td>0.160000</td>\n",
       "      <td>48.000000</td>\n",
       "      <td>49.000000</td>\n",
       "      <td>0.000000</td>\n",
       "      <td>723.000000</td>\n",
       "      <td>0.000000</td>\n",
       "    </tr>\n",
       "    <tr>\n",
       "      <th>50%</th>\n",
       "      <td>8510.000000</td>\n",
       "      <td>180.000000</td>\n",
       "      <td>3.490000</td>\n",
       "      <td>0.280000</td>\n",
       "      <td>79.000000</td>\n",
       "      <td>63.000000</td>\n",
       "      <td>0.000000</td>\n",
       "      <td>765.000000</td>\n",
       "      <td>0.000000</td>\n",
       "    </tr>\n",
       "    <tr>\n",
       "      <th>75%</th>\n",
       "      <td>13535.500000</td>\n",
       "      <td>180.000000</td>\n",
       "      <td>3.490000</td>\n",
       "      <td>0.400000</td>\n",
       "      <td>124.000000</td>\n",
       "      <td>85.000000</td>\n",
       "      <td>1.000000</td>\n",
       "      <td>788.500000</td>\n",
       "      <td>0.000000</td>\n",
       "    </tr>\n",
       "    <tr>\n",
       "      <th>max</th>\n",
       "      <td>25000.000000</td>\n",
       "      <td>180.000000</td>\n",
       "      <td>8.490000</td>\n",
       "      <td>1.000000</td>\n",
       "      <td>455.000000</td>\n",
       "      <td>114.000000</td>\n",
       "      <td>1.000000</td>\n",
       "      <td>833.000000</td>\n",
       "      <td>1.000000</td>\n",
       "    </tr>\n",
       "  </tbody>\n",
       "</table>\n",
       "</div>"
      ],
      "text/plain": [
       "       ORIGINAL LOAN AMOUNT  ORIGINAL TERM  INTEREST RATE  DEBT TO INCOME  \\\n",
       "count           5215.000000    5215.000000    5215.000000     5215.000000   \n",
       "mean           10156.118696     150.841035       3.779453        0.290359   \n",
       "std             6315.746301      48.268816       0.910801        0.175798   \n",
       "min             1472.000000      60.000000       2.990000        0.000000   \n",
       "25%             5076.500000     120.000000       3.490000        0.160000   \n",
       "50%             8510.000000     180.000000       3.490000        0.280000   \n",
       "75%            13535.500000     180.000000       3.490000        0.400000   \n",
       "max            25000.000000     180.000000       8.490000        1.000000   \n",
       "\n",
       "       PAYMENT AMOUNT  Months Since Origination    co-signed  \\\n",
       "count     5215.000000               5215.000000  5215.000000   \n",
       "mean        91.858688                 65.467670     0.425120   \n",
       "std         59.469249                 24.126659     0.494409   \n",
       "min         11.000000                  2.000000     0.000000   \n",
       "25%         48.000000                 49.000000     0.000000   \n",
       "50%         79.000000                 63.000000     0.000000   \n",
       "75%        124.000000                 85.000000     1.000000   \n",
       "max        455.000000                114.000000     1.000000   \n",
       "\n",
       "       avg_credit_score          bad  \n",
       "count       5215.000000  5215.000000  \n",
       "mean         750.800824     0.079770  \n",
       "std           48.586646     0.270963  \n",
       "min          527.000000     0.000000  \n",
       "25%          723.000000     0.000000  \n",
       "50%          765.000000     0.000000  \n",
       "75%          788.500000     0.000000  \n",
       "max          833.000000     1.000000  "
      ]
     },
     "execution_count": 100,
     "metadata": {},
     "output_type": "execute_result"
    }
   ],
   "source": [
    "df.describe()"
   ]
  },
  {
   "cell_type": "code",
   "execution_count": 101,
   "metadata": {
    "ExecuteTime": {
     "end_time": "2021-03-17T21:01:20.723236Z",
     "start_time": "2021-03-17T21:01:20.703563Z"
    }
   },
   "outputs": [
    {
     "data": {
      "text/plain": [
       "416"
      ]
     },
     "execution_count": 101,
     "metadata": {},
     "output_type": "execute_result"
    }
   ],
   "source": [
    "df['bad'].sum()"
   ]
  },
  {
   "cell_type": "code",
   "execution_count": 102,
   "metadata": {
    "ExecuteTime": {
     "end_time": "2021-03-17T21:01:20.743109Z",
     "start_time": "2021-03-17T21:01:20.723236Z"
    }
   },
   "outputs": [
    {
     "data": {
      "text/plain": [
       "NONE                        5077\n",
       "DEATH                         91\n",
       "SETTLEMENT                    14\n",
       "CANCEL DUE TO BANKRUPTCY      13\n",
       "CUSTOMER DEFAULTED            12\n",
       "INVOLUNTARY REPOSESSION        7\n",
       "VOLUNTARY REPOSESSION          1\n",
       "Name: CANCEL REASON, dtype: int64"
      ]
     },
     "execution_count": 102,
     "metadata": {},
     "output_type": "execute_result"
    }
   ],
   "source": [
    "df['CANCEL REASON'].value_counts()"
   ]
  },
  {
   "cell_type": "code",
   "execution_count": 103,
   "metadata": {
    "ExecuteTime": {
     "end_time": "2021-03-17T21:01:20.762934Z",
     "start_time": "2021-03-17T21:01:20.743109Z"
    }
   },
   "outputs": [
    {
     "data": {
      "text/plain": [
       "0.2072892938496583"
      ]
     },
     "execution_count": 103,
     "metadata": {},
     "output_type": "execute_result"
    }
   ],
   "source": [
    "# cancelations due to death\n",
    "91 / 439"
   ]
  },
  {
   "cell_type": "code",
   "execution_count": 104,
   "metadata": {
    "ExecuteTime": {
     "end_time": "2021-03-17T21:01:20.783243Z",
     "start_time": "2021-03-17T21:01:20.762934Z"
    }
   },
   "outputs": [],
   "source": [
    "# no data collected on health\n",
    "df = df[df['CANCEL REASON'] != 'DEATH']"
   ]
  },
  {
   "cell_type": "code",
   "execution_count": 105,
   "metadata": {
    "ExecuteTime": {
     "end_time": "2021-03-17T21:01:20.803126Z",
     "start_time": "2021-03-17T21:01:20.783243Z"
    }
   },
   "outputs": [
    {
     "data": {
      "text/plain": [
       "325"
      ]
     },
     "execution_count": 105,
     "metadata": {},
     "output_type": "execute_result"
    }
   ],
   "source": [
    "df['bad'].sum()"
   ]
  },
  {
   "cell_type": "code",
   "execution_count": 106,
   "metadata": {
    "ExecuteTime": {
     "end_time": "2021-03-17T21:01:20.823088Z",
     "start_time": "2021-03-17T21:01:20.803126Z"
    }
   },
   "outputs": [
    {
     "data": {
      "text/plain": [
       "NONE    4813\n",
       "S-0      310\n",
       "s-0        1\n",
       "Name: SUCCESSOR NUMBER, dtype: int64"
      ]
     },
     "execution_count": 106,
     "metadata": {},
     "output_type": "execute_result"
    }
   ],
   "source": [
    "df['SUCCESSOR NUMBER'].value_counts()"
   ]
  },
  {
   "cell_type": "code",
   "execution_count": 107,
   "metadata": {
    "ExecuteTime": {
     "end_time": "2021-03-17T21:01:20.842910Z",
     "start_time": "2021-03-17T21:01:20.823088Z"
    }
   },
   "outputs": [],
   "source": [
    "dfb = df[df['bad']==1]"
   ]
  },
  {
   "cell_type": "code",
   "execution_count": 108,
   "metadata": {
    "ExecuteTime": {
     "end_time": "2021-03-17T21:01:20.862959Z",
     "start_time": "2021-03-17T21:01:20.842910Z"
    }
   },
   "outputs": [
    {
     "data": {
      "text/plain": [
       "NONE    314\n",
       "S-0      10\n",
       "s-0       1\n",
       "Name: SUCCESSOR NUMBER, dtype: int64"
      ]
     },
     "execution_count": 108,
     "metadata": {},
     "output_type": "execute_result"
    }
   ],
   "source": [
    "dfb['SUCCESSOR NUMBER'].value_counts()"
   ]
  },
  {
   "cell_type": "code",
   "execution_count": 109,
   "metadata": {
    "ExecuteTime": {
     "end_time": "2021-03-17T21:01:20.882973Z",
     "start_time": "2021-03-17T21:01:20.862959Z"
    }
   },
   "outputs": [
    {
     "data": {
      "text/plain": [
       "CONTRACT DATE               11\n",
       "SETUP DATE                  11\n",
       "ORIGINAL LOAN AMOUNT        11\n",
       "ORIGINAL TERM               11\n",
       "ORIGINAL MATURITY DATE      11\n",
       "CURRENT MATURITY DATE       11\n",
       "INTEREST RATE               11\n",
       "DEBT TO INCOME              11\n",
       "PAYMENT AMOUNT              11\n",
       "SUCCESSOR NUMBER            11\n",
       "ACCOUNT CODE                11\n",
       "ACCOUNT CODE DATE           11\n",
       "CANCEL REASON               11\n",
       "TYPE OF BANKRUPTCY          11\n",
       "Months Since Origination    11\n",
       "Purpose                     11\n",
       "Loan Type                   11\n",
       "Underwriting                11\n",
       "Pledged                     11\n",
       "co-signed                   11\n",
       "avg_credit_score            11\n",
       "bad                         11\n",
       "dtype: int64"
      ]
     },
     "execution_count": 109,
     "metadata": {},
     "output_type": "execute_result"
    }
   ],
   "source": [
    "dfb[dfb['SUCCESSOR NUMBER']!='NONE'].count()"
   ]
  },
  {
   "cell_type": "code",
   "execution_count": 110,
   "metadata": {
    "ExecuteTime": {
     "end_time": "2021-03-17T21:01:20.903309Z",
     "start_time": "2021-03-17T21:01:20.882973Z"
    }
   },
   "outputs": [
    {
     "data": {
      "text/plain": [
       "0.0774487471526196"
      ]
     },
     "execution_count": 110,
     "metadata": {},
     "output_type": "execute_result"
    }
   ],
   "source": [
    "# proportion of original bad loans that are from successors\n",
    "34/439"
   ]
  },
  {
   "cell_type": "code",
   "execution_count": 111,
   "metadata": {
    "ExecuteTime": {
     "end_time": "2021-03-17T21:01:20.922951Z",
     "start_time": "2021-03-17T21:01:20.903309Z"
    }
   },
   "outputs": [],
   "source": [
    "# ony dealing with people who went through the application process\n",
    "df = df[df['SUCCESSOR NUMBER']=='NONE']\n",
    "\n",
    "df.drop('SUCCESSOR NUMBER', axis=1,inplace=True)"
   ]
  },
  {
   "cell_type": "code",
   "execution_count": null,
   "metadata": {},
   "outputs": [],
   "source": []
  },
  {
   "cell_type": "code",
   "execution_count": 112,
   "metadata": {
    "ExecuteTime": {
     "end_time": "2021-03-17T21:01:20.943053Z",
     "start_time": "2021-03-17T21:01:20.922951Z"
    }
   },
   "outputs": [
    {
     "data": {
      "text/plain": [
       "NONE                        4777\n",
       "CANCEL DUE TO BANKRUPTCY      13\n",
       "SETTLEMENT                    13\n",
       "INVOLUNTARY REPOSESSION        7\n",
       "CUSTOMER DEFAULTED             2\n",
       "VOLUNTARY REPOSESSION          1\n",
       "Name: CANCEL REASON, dtype: int64"
      ]
     },
     "execution_count": 112,
     "metadata": {},
     "output_type": "execute_result"
    }
   ],
   "source": [
    "#all 'customer defaulted' loans were successors\n",
    "df['CANCEL REASON'].value_counts()"
   ]
  },
  {
   "cell_type": "code",
   "execution_count": 113,
   "metadata": {
    "ExecuteTime": {
     "end_time": "2021-03-17T21:01:20.983470Z",
     "start_time": "2021-03-17T21:01:20.943053Z"
    }
   },
   "outputs": [
    {
     "name": "stdout",
     "output_type": "stream",
     "text": [
      "<class 'pandas.core.frame.DataFrame'>\n",
      "Int64Index: 4813 entries, 0 to 27357\n",
      "Data columns (total 21 columns):\n",
      " #   Column                    Non-Null Count  Dtype  \n",
      "---  ------                    --------------  -----  \n",
      " 0   CONTRACT DATE             4813 non-null   object \n",
      " 1   SETUP DATE                4813 non-null   object \n",
      " 2   ORIGINAL LOAN AMOUNT      4813 non-null   float64\n",
      " 3   ORIGINAL TERM             4813 non-null   int64  \n",
      " 4   ORIGINAL MATURITY DATE    4813 non-null   object \n",
      " 5   CURRENT MATURITY DATE     4813 non-null   object \n",
      " 6   INTEREST RATE             4813 non-null   float64\n",
      " 7   DEBT TO INCOME            4813 non-null   float64\n",
      " 8   PAYMENT AMOUNT            4813 non-null   float64\n",
      " 9   ACCOUNT CODE              4813 non-null   object \n",
      " 10  ACCOUNT CODE DATE         4813 non-null   object \n",
      " 11  CANCEL REASON             4813 non-null   object \n",
      " 12  TYPE OF BANKRUPTCY        4813 non-null   object \n",
      " 13  Months Since Origination  4813 non-null   float64\n",
      " 14  Purpose                   4813 non-null   object \n",
      " 15  Loan Type                 4813 non-null   object \n",
      " 16  Underwriting              4813 non-null   object \n",
      " 17  Pledged                   4813 non-null   object \n",
      " 18  co-signed                 4813 non-null   int32  \n",
      " 19  avg_credit_score          4813 non-null   float64\n",
      " 20  bad                       4813 non-null   int64  \n",
      "dtypes: float64(6), int32(1), int64(2), object(12)\n",
      "memory usage: 808.4+ KB\n"
     ]
    }
   ],
   "source": [
    "df.info()"
   ]
  },
  {
   "cell_type": "code",
   "execution_count": 114,
   "metadata": {
    "ExecuteTime": {
     "end_time": "2021-03-17T21:01:21.003131Z",
     "start_time": "2021-03-17T21:01:20.983470Z"
    }
   },
   "outputs": [
    {
     "data": {
      "text/plain": [
       "314"
      ]
     },
     "execution_count": 114,
     "metadata": {},
     "output_type": "execute_result"
    }
   ],
   "source": [
    "df.bad.sum()"
   ]
  },
  {
   "cell_type": "code",
   "execution_count": 115,
   "metadata": {
    "ExecuteTime": {
     "end_time": "2021-03-17T21:01:21.083477Z",
     "start_time": "2021-03-17T21:01:21.003131Z"
    }
   },
   "outputs": [],
   "source": [
    "df.to_csv(r'C:\\Users\\2bogu\\OneDrive\\Desktop\\Sringboard_Materials\\capstone2\\data\\interim\\clean_fl', index = False)"
   ]
  },
  {
   "cell_type": "code",
   "execution_count": null,
   "metadata": {},
   "outputs": [],
   "source": []
  }
 ],
 "metadata": {
  "kernelspec": {
   "display_name": "Python 3",
   "language": "python",
   "name": "python3"
  },
  "language_info": {
   "codemirror_mode": {
    "name": "ipython",
    "version": 3
   },
   "file_extension": ".py",
   "mimetype": "text/x-python",
   "name": "python",
   "nbconvert_exporter": "python",
   "pygments_lexer": "ipython3",
   "version": "3.7.9"
  },
  "toc": {
   "base_numbering": 1,
   "nav_menu": {},
   "number_sections": true,
   "sideBar": true,
   "skip_h1_title": false,
   "title_cell": "Table of Contents",
   "title_sidebar": "Contents",
   "toc_cell": false,
   "toc_position": {},
   "toc_section_display": true,
   "toc_window_display": false
  },
  "varInspector": {
   "cols": {
    "lenName": 16,
    "lenType": 16,
    "lenVar": 40
   },
   "kernels_config": {
    "python": {
     "delete_cmd_postfix": "",
     "delete_cmd_prefix": "del ",
     "library": "var_list.py",
     "varRefreshCmd": "print(var_dic_list())"
    },
    "r": {
     "delete_cmd_postfix": ") ",
     "delete_cmd_prefix": "rm(",
     "library": "var_list.r",
     "varRefreshCmd": "cat(var_dic_list()) "
    }
   },
   "types_to_exclude": [
    "module",
    "function",
    "builtin_function_or_method",
    "instance",
    "_Feature"
   ],
   "window_display": false
  }
 },
 "nbformat": 4,
 "nbformat_minor": 4
}
