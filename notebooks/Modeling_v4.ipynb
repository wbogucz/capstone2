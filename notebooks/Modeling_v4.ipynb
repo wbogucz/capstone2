{
 "cells": [
  {
   "cell_type": "code",
   "execution_count": 1,
   "metadata": {},
   "outputs": [],
   "source": [
    "import pandas as pd\n",
    "import numpy as np\n",
    "import matplotlib.pyplot as plt\n",
    "\n",
    "from sklearn.model_selection import train_test_split\n",
    "import statsmodels.api as sm\n",
    "\n",
    "from sklearn.metrics import classification_report\n",
    "from sklearn.metrics import confusion_matrix, ConfusionMatrixDisplay, plot_confusion_matrix\n",
    "from sklearn.metrics import plot_precision_recall_curve, make_scorer, precision_score, average_precision_score\n",
    "from sklearn.metrics import precision_recall_curve, auc\n",
    "\n",
    "from sklearn.model_selection import cross_val_score, cross_validate\n",
    "from sklearn.model_selection import KFold, StratifiedKFold, RepeatedStratifiedKFold\n",
    "from sklearn.model_selection import GridSearchCV, RandomizedSearchCV\n",
    "\n",
    "from imblearn.pipeline import Pipeline\n",
    "\n",
    "from sklearn.linear_model import LogisticRegression\n",
    "from sklearn.neighbors import KNeighborsClassifier\n",
    "from sklearn.ensemble import RandomForestClassifier\n",
    "from sklearn.ensemble import GradientBoostingClassifier\n",
    "from sklearn.naive_bayes import ComplementNB"
   ]
  },
  {
   "cell_type": "markdown",
   "metadata": {},
   "source": [
    "# Overview \n",
    "\n",
    "### The purpose \n",
    "of this project is to create a model that can identify applicants to the New York State Energy Reaserch and Development  Green Jobs Green New York (GJGNY) Loan Program that are likely to default on their loan.  The GJGNY program offeres low interest loans to low income households to install energy effienct technology in thier homes, thereby servicing an underserved community, lowering energy costs, and reducing the overall carbon footprint of NY.  \n",
    "\n",
    "\n",
    "### The data\n",
    "dates from November 2010 to Novemeber 2018(?).  It has 13 columns and 25,127 usable rows.  It is striking that, even though these loans are made to low income households, only %1.3 of the total loans made have had to be canceled for reasons other than the death of the client.  If only loans that have been completed, either paid off or canceled, are considered then there is only a %5 cancel rate over 5163 observations.  Both datasets will be considered.  Low income households are typically viewed as too risky to lend to by commercial banks, and one of the reasons GJGNY has posted this dataset was to challenge this conception.\n",
    "\n",
    "### Summary:\n",
    " This is a classification problem with a severly imbalenced dataset.  My metric of choice is precision because GJGNY's ultimate goal is to provide loans to an underserved group and false positives are directly contrary to their goal.  However, this data proved difficult to work with.  For reason this two different interpritations of the data (completed loans vs all loans) and Fbeta = [0.1, 0.2, 0.3] scores are also considered."
   ]
  },
  {
   "cell_type": "code",
   "execution_count": null,
   "metadata": {},
   "outputs": [],
   "source": []
  },
  {
   "cell_type": "code",
   "execution_count": null,
   "metadata": {},
   "outputs": [],
   "source": []
  },
  {
   "cell_type": "code",
   "execution_count": null,
   "metadata": {},
   "outputs": [],
   "source": []
  },
  {
   "cell_type": "code",
   "execution_count": null,
   "metadata": {},
   "outputs": [],
   "source": []
  },
  {
   "cell_type": "code",
   "execution_count": null,
   "metadata": {},
   "outputs": [],
   "source": []
  },
  {
   "cell_type": "code",
   "execution_count": null,
   "metadata": {},
   "outputs": [],
   "source": []
  },
  {
   "cell_type": "code",
   "execution_count": null,
   "metadata": {},
   "outputs": [],
   "source": []
  }
 ],
 "metadata": {
  "kernelspec": {
   "display_name": "Python 3",
   "language": "python",
   "name": "python3"
  },
  "language_info": {
   "codemirror_mode": {
    "name": "ipython",
    "version": 3
   },
   "file_extension": ".py",
   "mimetype": "text/x-python",
   "name": "python",
   "nbconvert_exporter": "python",
   "pygments_lexer": "ipython3",
   "version": "3.7.6"
  }
 },
 "nbformat": 4,
 "nbformat_minor": 4
}
