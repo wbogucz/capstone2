{
 "cells": [
  {
   "cell_type": "code",
   "execution_count": 49,
   "metadata": {},
   "outputs": [],
   "source": [
    "import requests\n",
    "import numpy as np\n",
    "import pandas as pd\n",
    "import pandas_profiling\n",
    "import json\n",
    "import os\n",
    "import matplotlib.pyplot as plt\n",
    "\n",
    "pd.options.display.max_columns = None"
   ]
  },
  {
   "cell_type": "code",
   "execution_count": 50,
   "metadata": {},
   "outputs": [],
   "source": [
    "os.chdir(r'C:\\Users\\2bogu\\Desktop\\Sringboard_Materials\\capstone2\\data\\external')\n",
    "\n",
    "df = pd.read_csv('Green_Jobs_-_Green_New_York__GJGNY__Residential_Loan_Portfolio___Beginning_November_2010.csv')"
   ]
  },
  {
   "cell_type": "code",
   "execution_count": 51,
   "metadata": {},
   "outputs": [
    {
     "data": {
      "text/html": [
       "<div>\n",
       "<style scoped>\n",
       "    .dataframe tbody tr th:only-of-type {\n",
       "        vertical-align: middle;\n",
       "    }\n",
       "\n",
       "    .dataframe tbody tr th {\n",
       "        vertical-align: top;\n",
       "    }\n",
       "\n",
       "    .dataframe thead th {\n",
       "        text-align: right;\n",
       "    }\n",
       "</style>\n",
       "<table border=\"1\" class=\"dataframe\">\n",
       "  <thead>\n",
       "    <tr style=\"text-align: right;\">\n",
       "      <th></th>\n",
       "      <th>ORIGINAL LOAN AMOUNT</th>\n",
       "      <th>ORIGINAL TERM</th>\n",
       "      <th>INTEREST RATE</th>\n",
       "      <th>CREDIT SCORE CURRENT HIGH</th>\n",
       "      <th>CREDIT SCORE</th>\n",
       "      <th>CREDIT SCORE NAME 2</th>\n",
       "      <th>DEBT TO INCOME</th>\n",
       "      <th>LAST PAYMENT AMOUNT</th>\n",
       "      <th>PAYMENT AMOUNT</th>\n",
       "      <th>CURRENT BALANCE</th>\n",
       "      <th>UNAPPLIED CASH</th>\n",
       "      <th>DELINQUENT AMOUNT</th>\n",
       "      <th>TOTAL INTEREST PAID</th>\n",
       "      <th>TOTAL LATE CHARGE PAID</th>\n",
       "      <th>PAYMENTS REMAINING</th>\n",
       "      <th>DAYS DELINQUENT</th>\n",
       "      <th>INSTALLATION ZIP</th>\n",
       "      <th>Months Since Origination</th>\n",
       "      <th>Payments Made</th>\n",
       "    </tr>\n",
       "  </thead>\n",
       "  <tbody>\n",
       "    <tr>\n",
       "      <th>count</th>\n",
       "      <td>27385.000000</td>\n",
       "      <td>27385.000000</td>\n",
       "      <td>27385.000000</td>\n",
       "      <td>26930.000000</td>\n",
       "      <td>26863.000000</td>\n",
       "      <td>12149.000000</td>\n",
       "      <td>26938.000000</td>\n",
       "      <td>27385.000000</td>\n",
       "      <td>27385.000000</td>\n",
       "      <td>27385.000000</td>\n",
       "      <td>27385.00000</td>\n",
       "      <td>27385.000000</td>\n",
       "      <td>27385.000000</td>\n",
       "      <td>27385.000000</td>\n",
       "      <td>27385.000000</td>\n",
       "      <td>27385.000000</td>\n",
       "      <td>27385.000000</td>\n",
       "      <td>27385.000000</td>\n",
       "      <td>27385.000000</td>\n",
       "    </tr>\n",
       "    <tr>\n",
       "      <th>mean</th>\n",
       "      <td>11651.190126</td>\n",
       "      <td>168.875991</td>\n",
       "      <td>3.872746</td>\n",
       "      <td>741.474341</td>\n",
       "      <td>734.583814</td>\n",
       "      <td>739.132604</td>\n",
       "      <td>0.335567</td>\n",
       "      <td>693.793835</td>\n",
       "      <td>91.993460</td>\n",
       "      <td>7479.760636</td>\n",
       "      <td>2.95803</td>\n",
       "      <td>80.927554</td>\n",
       "      <td>1312.280245</td>\n",
       "      <td>4.986671</td>\n",
       "      <td>102.299142</td>\n",
       "      <td>6.666898</td>\n",
       "      <td>12734.122622</td>\n",
       "      <td>51.724495</td>\n",
       "      <td>66.574344</td>\n",
       "    </tr>\n",
       "    <tr>\n",
       "      <th>std</th>\n",
       "      <td>6688.314789</td>\n",
       "      <td>30.736999</td>\n",
       "      <td>1.049811</td>\n",
       "      <td>53.634128</td>\n",
       "      <td>55.735131</td>\n",
       "      <td>54.785011</td>\n",
       "      <td>2.678848</td>\n",
       "      <td>2573.558308</td>\n",
       "      <td>53.368043</td>\n",
       "      <td>6245.036301</td>\n",
       "      <td>118.81430</td>\n",
       "      <td>570.485937</td>\n",
       "      <td>1031.489469</td>\n",
       "      <td>22.687938</td>\n",
       "      <td>58.677823</td>\n",
       "      <td>191.766005</td>\n",
       "      <td>1311.028596</td>\n",
       "      <td>25.555436</td>\n",
       "      <td>51.117475</td>\n",
       "    </tr>\n",
       "    <tr>\n",
       "      <th>min</th>\n",
       "      <td>61.000000</td>\n",
       "      <td>1.000000</td>\n",
       "      <td>2.990000</td>\n",
       "      <td>512.000000</td>\n",
       "      <td>479.000000</td>\n",
       "      <td>472.000000</td>\n",
       "      <td>0.000000</td>\n",
       "      <td>0.000000</td>\n",
       "      <td>0.000000</td>\n",
       "      <td>0.000000</td>\n",
       "      <td>0.00000</td>\n",
       "      <td>-18972.000000</td>\n",
       "      <td>-262.000000</td>\n",
       "      <td>0.000000</td>\n",
       "      <td>0.000000</td>\n",
       "      <td>-3375.000000</td>\n",
       "      <td>1443.000000</td>\n",
       "      <td>0.000000</td>\n",
       "      <td>0.000000</td>\n",
       "    </tr>\n",
       "    <tr>\n",
       "      <th>25%</th>\n",
       "      <td>6095.000000</td>\n",
       "      <td>180.000000</td>\n",
       "      <td>3.490000</td>\n",
       "      <td>707.000000</td>\n",
       "      <td>698.000000</td>\n",
       "      <td>705.000000</td>\n",
       "      <td>0.190000</td>\n",
       "      <td>53.000000</td>\n",
       "      <td>49.000000</td>\n",
       "      <td>2290.000000</td>\n",
       "      <td>0.00000</td>\n",
       "      <td>0.000000</td>\n",
       "      <td>465.000000</td>\n",
       "      <td>0.000000</td>\n",
       "      <td>71.000000</td>\n",
       "      <td>-27.000000</td>\n",
       "      <td>11738.000000</td>\n",
       "      <td>36.000000</td>\n",
       "      <td>35.300000</td>\n",
       "    </tr>\n",
       "    <tr>\n",
       "      <th>50%</th>\n",
       "      <td>10473.000000</td>\n",
       "      <td>180.000000</td>\n",
       "      <td>3.490000</td>\n",
       "      <td>755.000000</td>\n",
       "      <td>747.000000</td>\n",
       "      <td>753.000000</td>\n",
       "      <td>0.310000</td>\n",
       "      <td>93.000000</td>\n",
       "      <td>83.000000</td>\n",
       "      <td>6408.000000</td>\n",
       "      <td>0.00000</td>\n",
       "      <td>0.000000</td>\n",
       "      <td>1078.000000</td>\n",
       "      <td>0.000000</td>\n",
       "      <td>124.000000</td>\n",
       "      <td>-15.000000</td>\n",
       "      <td>12518.000000</td>\n",
       "      <td>51.000000</td>\n",
       "      <td>53.000000</td>\n",
       "    </tr>\n",
       "    <tr>\n",
       "      <th>75%</th>\n",
       "      <td>16167.000000</td>\n",
       "      <td>180.000000</td>\n",
       "      <td>3.490000</td>\n",
       "      <td>785.000000</td>\n",
       "      <td>781.000000</td>\n",
       "      <td>784.000000</td>\n",
       "      <td>0.430000</td>\n",
       "      <td>158.000000</td>\n",
       "      <td>127.000000</td>\n",
       "      <td>11646.000000</td>\n",
       "      <td>0.00000</td>\n",
       "      <td>0.000000</td>\n",
       "      <td>1972.000000</td>\n",
       "      <td>0.000000</td>\n",
       "      <td>142.000000</td>\n",
       "      <td>-4.000000</td>\n",
       "      <td>14108.000000</td>\n",
       "      <td>66.000000</td>\n",
       "      <td>80.000000</td>\n",
       "    </tr>\n",
       "    <tr>\n",
       "      <th>max</th>\n",
       "      <td>25000.000000</td>\n",
       "      <td>180.000000</td>\n",
       "      <td>8.490000</td>\n",
       "      <td>837.000000</td>\n",
       "      <td>837.000000</td>\n",
       "      <td>833.000000</td>\n",
       "      <td>437.500000</td>\n",
       "      <td>25525.000000</td>\n",
       "      <td>455.000000</td>\n",
       "      <td>25000.000000</td>\n",
       "      <td>19454.00000</td>\n",
       "      <td>15558.000000</td>\n",
       "      <td>6317.000000</td>\n",
       "      <td>1081.000000</td>\n",
       "      <td>180.000000</td>\n",
       "      <td>3277.000000</td>\n",
       "      <td>14905.000000</td>\n",
       "      <td>114.000000</td>\n",
       "      <td>180.000000</td>\n",
       "    </tr>\n",
       "  </tbody>\n",
       "</table>\n",
       "</div>"
      ],
      "text/plain": [
       "       ORIGINAL LOAN AMOUNT  ORIGINAL TERM  INTEREST RATE  \\\n",
       "count          27385.000000   27385.000000   27385.000000   \n",
       "mean           11651.190126     168.875991       3.872746   \n",
       "std             6688.314789      30.736999       1.049811   \n",
       "min               61.000000       1.000000       2.990000   \n",
       "25%             6095.000000     180.000000       3.490000   \n",
       "50%            10473.000000     180.000000       3.490000   \n",
       "75%            16167.000000     180.000000       3.490000   \n",
       "max            25000.000000     180.000000       8.490000   \n",
       "\n",
       "       CREDIT SCORE CURRENT HIGH  CREDIT SCORE  CREDIT SCORE NAME 2  \\\n",
       "count               26930.000000  26863.000000         12149.000000   \n",
       "mean                  741.474341    734.583814           739.132604   \n",
       "std                    53.634128     55.735131            54.785011   \n",
       "min                   512.000000    479.000000           472.000000   \n",
       "25%                   707.000000    698.000000           705.000000   \n",
       "50%                   755.000000    747.000000           753.000000   \n",
       "75%                   785.000000    781.000000           784.000000   \n",
       "max                   837.000000    837.000000           833.000000   \n",
       "\n",
       "       DEBT TO INCOME  LAST PAYMENT AMOUNT  PAYMENT AMOUNT  CURRENT BALANCE  \\\n",
       "count    26938.000000         27385.000000    27385.000000     27385.000000   \n",
       "mean         0.335567           693.793835       91.993460      7479.760636   \n",
       "std          2.678848          2573.558308       53.368043      6245.036301   \n",
       "min          0.000000             0.000000        0.000000         0.000000   \n",
       "25%          0.190000            53.000000       49.000000      2290.000000   \n",
       "50%          0.310000            93.000000       83.000000      6408.000000   \n",
       "75%          0.430000           158.000000      127.000000     11646.000000   \n",
       "max        437.500000         25525.000000      455.000000     25000.000000   \n",
       "\n",
       "       UNAPPLIED CASH  DELINQUENT AMOUNT  TOTAL INTEREST PAID  \\\n",
       "count     27385.00000       27385.000000         27385.000000   \n",
       "mean          2.95803          80.927554          1312.280245   \n",
       "std         118.81430         570.485937          1031.489469   \n",
       "min           0.00000      -18972.000000          -262.000000   \n",
       "25%           0.00000           0.000000           465.000000   \n",
       "50%           0.00000           0.000000          1078.000000   \n",
       "75%           0.00000           0.000000          1972.000000   \n",
       "max       19454.00000       15558.000000          6317.000000   \n",
       "\n",
       "       TOTAL LATE CHARGE PAID  PAYMENTS REMAINING  DAYS DELINQUENT  \\\n",
       "count            27385.000000        27385.000000     27385.000000   \n",
       "mean                 4.986671          102.299142         6.666898   \n",
       "std                 22.687938           58.677823       191.766005   \n",
       "min                  0.000000            0.000000     -3375.000000   \n",
       "25%                  0.000000           71.000000       -27.000000   \n",
       "50%                  0.000000          124.000000       -15.000000   \n",
       "75%                  0.000000          142.000000        -4.000000   \n",
       "max               1081.000000          180.000000      3277.000000   \n",
       "\n",
       "       INSTALLATION ZIP  Months Since Origination  Payments Made  \n",
       "count      27385.000000              27385.000000   27385.000000  \n",
       "mean       12734.122622                 51.724495      66.574344  \n",
       "std         1311.028596                 25.555436      51.117475  \n",
       "min         1443.000000                  0.000000       0.000000  \n",
       "25%        11738.000000                 36.000000      35.300000  \n",
       "50%        12518.000000                 51.000000      53.000000  \n",
       "75%        14108.000000                 66.000000      80.000000  \n",
       "max        14905.000000                114.000000     180.000000  "
      ]
     },
     "execution_count": 51,
     "metadata": {},
     "output_type": "execute_result"
    }
   ],
   "source": [
    "df.describe()"
   ]
  },
  {
   "cell_type": "code",
   "execution_count": 52,
   "metadata": {},
   "outputs": [
    {
     "name": "stdout",
     "output_type": "stream",
     "text": [
      "<class 'pandas.core.frame.DataFrame'>\n",
      "RangeIndex: 27385 entries, 0 to 27384\n",
      "Data columns (total 41 columns):\n",
      " #   Column                     Non-Null Count  Dtype  \n",
      "---  ------                     --------------  -----  \n",
      " 0   Reporting Period           27385 non-null  object \n",
      " 1   CONTRACT DATE              27385 non-null  object \n",
      " 2   SETUP DATE                 27385 non-null  object \n",
      " 3   ORIGINAL LOAN AMOUNT       27385 non-null  float64\n",
      " 4   ORIGINAL TERM              27385 non-null  int64  \n",
      " 5   ORIGINAL MATURITY DATE     27385 non-null  object \n",
      " 6   CURRENT MATURITY DATE      27385 non-null  object \n",
      " 7   INTEREST RATE              27385 non-null  float64\n",
      " 8   CREDIT SCORE CURRENT HIGH  26930 non-null  float64\n",
      " 9   CREDIT SCORE               26863 non-null  float64\n",
      " 10  CREDIT SCORE NAME 2        12149 non-null  float64\n",
      " 11  DEBT TO INCOME             26938 non-null  float64\n",
      " 12  FIRST PAYMENT DATE         27385 non-null  object \n",
      " 13  LAST PAYMENT DATE          27064 non-null  object \n",
      " 14  LAST PAYMENT AMOUNT        27385 non-null  float64\n",
      " 15  NEXT PAYMENT DUE DATE      27385 non-null  object \n",
      " 16  PAYMENT AMOUNT             27385 non-null  float64\n",
      " 17  CURRENT BALANCE            27385 non-null  float64\n",
      " 18  UNAPPLIED CASH             27385 non-null  float64\n",
      " 19  DELINQUENT AMOUNT          27385 non-null  float64\n",
      " 20  TOTAL INTEREST PAID        27385 non-null  float64\n",
      " 21  TOTAL LATE CHARGE PAID     27385 non-null  float64\n",
      " 22  PAYMENTS REMAINING         27385 non-null  int64  \n",
      " 23  DAYS DELINQUENT            27385 non-null  int64  \n",
      " 24  PROPERTY COUNTY            27385 non-null  object \n",
      " 25  UTILITY                    8889 non-null   object \n",
      " 26  INSTALLATION CITY          27385 non-null  object \n",
      " 27  INSTALLATION ZIP           27385 non-null  int64  \n",
      " 28  Contractor Name            27346 non-null  object \n",
      " 29  SUCCESSOR NUMBER           770 non-null    object \n",
      " 30  ACCOUNT CODE               27385 non-null  object \n",
      " 31  ACCOUNT CODE DATE          27385 non-null  object \n",
      " 32  CANCEL REASON              160 non-null    object \n",
      " 33  TYPE OF BANKRUPTCY         234 non-null    object \n",
      " 34  Months Since Origination   27385 non-null  float64\n",
      " 35  Payments Made              27385 non-null  float64\n",
      " 36  Purpose                    27385 non-null  object \n",
      " 37  Loan Type                  27385 non-null  object \n",
      " 38  Underwriting               27385 non-null  object \n",
      " 39  Pledged                    27385 non-null  object \n",
      " 40  Georeference               27385 non-null  object \n",
      "dtypes: float64(15), int64(4), object(22)\n",
      "memory usage: 8.6+ MB\n"
     ]
    }
   ],
   "source": [
    "df.info()\n"
   ]
  },
  {
   "cell_type": "code",
   "execution_count": 53,
   "metadata": {},
   "outputs": [
    {
     "data": {
      "text/plain": [
       "array(['Paid in Full', 'SurePay/Automatic Debit Payment',\n",
       "       'Check/Money Order Payment (with coupon)', 'Legal Category',\n",
       "       'Soft Hold', 'On Hold', 'Notice of Bankruptcy (written)',\n",
       "       'Canceled', 'Notice of Bankruptcy (verbal)', 'Management Hold',\n",
       "       'SurePay/Automatic Debit Payment (on hold)',\n",
       "       'Collections Terminated (by customer)', 'Dispute of Debt'],\n",
       "      dtype=object)"
      ]
     },
     "execution_count": 53,
     "metadata": {},
     "output_type": "execute_result"
    }
   ],
   "source": [
    "df['ACCOUNT CODE'].unique()"
   ]
  },
  {
   "cell_type": "code",
   "execution_count": 54,
   "metadata": {},
   "outputs": [],
   "source": [
    "# GETTING ONLY COMPLETED LOANS, EITHER PAYED, CANCELED OR BANKRUPT\n",
    "df = df.loc[(df['ACCOUNT CODE'] == 'Paid in Full')\n",
    "      |(df['ACCOUNT CODE'] == 'Canceled')\n",
    "      |(df['ACCOUNT CODE'] == 'Collections Terminated (by customer)')\n",
    "      |(df['ACCOUNT CODE'] == 'Notice of Bankruptcy (written)')\n",
    "      |(df['ACCOUNT CODE'] == 'Notice of Bankruptcy (verbal)')]"
   ]
  },
  {
   "cell_type": "code",
   "execution_count": 55,
   "metadata": {},
   "outputs": [],
   "source": [
    "df['bad'] = df['ACCOUNT CODE'].apply(lambda x: 0 if x == 'Paid in Full' else 1)"
   ]
  },
  {
   "cell_type": "code",
   "execution_count": 56,
   "metadata": {},
   "outputs": [
    {
     "data": {
      "text/plain": [
       "0    4903\n",
       "1     352\n",
       "Name: bad, dtype: int64"
      ]
     },
     "execution_count": 56,
     "metadata": {},
     "output_type": "execute_result"
    }
   ],
   "source": [
    "df.bad.value_counts()"
   ]
  },
  {
   "cell_type": "code",
   "execution_count": 57,
   "metadata": {},
   "outputs": [],
   "source": [
    "df = df.drop(['LAST PAYMENT AMOUNT', 'LAST PAYMENT DATE', 'FIRST PAYMENT DATE', \n",
    "              'DELINQUENT AMOUNT', 'DAYS DELINQUENT', 'Reporting Period', \n",
    "              'CREDIT SCORE CURRENT HIGH', 'NEXT PAYMENT DUE DATE', 'PAYMENTS REMAINING', \n",
    "              'PROPERTY COUNTY', 'UTILITY', 'INSTALLATION CITY', 'INSTALLATION ZIP', \n",
    "              'Contractor Name', 'Georeference', 'UNAPPLIED CASH', 'TOTAL LATE CHARGE PAID', \n",
    "              'Months Since Origination', 'CURRENT BALANCE'], axis=1)\n",
    "df['co-signed'] = np.where(pd.notnull(df['CREDIT SCORE NAME 2']), 1, 0)\n",
    "df['CREDIT SCORE NAME 2'] = df['CREDIT SCORE NAME 2'].fillna(df['CREDIT SCORE'])\n",
    "df['SUCCESSOR NUMBER'].fillna('NONE', inplace = True)\n",
    "df['CANCEL REASON'].fillna('NONE', inplace = True)\n",
    "df['TYPE OF BANKRUPTCY'].fillna('NONE', inplace = True)\n",
    "df['avg_credit_score'] = df[['CREDIT SCORE', 'CREDIT SCORE NAME 2']].mean(axis=1)\n",
    "df.drop(['CREDIT SCORE', 'CREDIT SCORE NAME 2'], inplace=True, axis=1)"
   ]
  },
  {
   "cell_type": "code",
   "execution_count": 58,
   "metadata": {},
   "outputs": [],
   "source": [
    "# GROUPS MINORITY PURPOSES INTO SINGLE GROUPE\n",
    "df.loc[(df['Purpose'] == 'Renewable Heat NY (RHNY)') \n",
    "       | (df['Purpose'] == 'Renewable Heat NY (RHNY)') \n",
    "       | (df['Purpose'] == 'Air Source Heat Pump (ASHP)') \n",
    "       | (df['Purpose'] == 'Ground Source Heat Pump (GSHP)')\n",
    "       | (df['Purpose'] == 'Solar Thermal'), 'Purpose'] = 'Other'  "
   ]
  },
  {
   "cell_type": "code",
   "execution_count": 59,
   "metadata": {},
   "outputs": [],
   "source": [
    "# CREATES SUCCESSOR NUMBER FLAG\n",
    "df['has_successor_num'] = df['SUCCESSOR NUMBER'].apply(lambda x: 0 if x == 'NONE' else 1)\n",
    "\n",
    "# DROPS ORIGINAL COLUMN\n",
    "df.drop('SUCCESSOR NUMBER', axis=1, inplace=True)"
   ]
  },
  {
   "cell_type": "code",
   "execution_count": 60,
   "metadata": {},
   "outputs": [
    {
     "data": {
      "text/plain": [
       "Series 2015A EE Bonds         1378\n",
       "Series 2013A EE Bonds         1288\n",
       "Unpledged                     1081\n",
       "Series 2015A PV Bonds          771\n",
       "Series 2016A EE Bonds          448\n",
       "Series 2018A PV Bonds          154\n",
       "Series 2019A EE & PV Bonds     135\n",
       "Name: Pledged, dtype: int64"
      ]
     },
     "execution_count": 60,
     "metadata": {},
     "output_type": "execute_result"
    }
   ],
   "source": [
    "df.Pledged.value_counts()"
   ]
  },
  {
   "cell_type": "code",
   "execution_count": 61,
   "metadata": {},
   "outputs": [],
   "source": [
    "# CREATES BINARY COLUMN FOR PLEDGED VS UNPLEDGED LOANS\n",
    "df['unpledged'] = df['Pledged'].apply(lambda x: 1 if x == 'Unpledged' else 0)\n",
    "\n",
    "# DROPS ORIGINAL PLEDGED COLUMN\n",
    "df.drop('Pledged', axis=1, inplace=True)"
   ]
  },
  {
   "cell_type": "code",
   "execution_count": 62,
   "metadata": {},
   "outputs": [
    {
     "name": "stdout",
     "output_type": "stream",
     "text": [
      "<class 'pandas.core.frame.DataFrame'>\n",
      "Int64Index: 5255 entries, 0 to 27383\n",
      "Data columns (total 23 columns):\n",
      " #   Column                  Non-Null Count  Dtype  \n",
      "---  ------                  --------------  -----  \n",
      " 0   CONTRACT DATE           5255 non-null   object \n",
      " 1   SETUP DATE              5255 non-null   object \n",
      " 2   ORIGINAL LOAN AMOUNT    5255 non-null   float64\n",
      " 3   ORIGINAL TERM           5255 non-null   int64  \n",
      " 4   ORIGINAL MATURITY DATE  5255 non-null   object \n",
      " 5   CURRENT MATURITY DATE   5255 non-null   object \n",
      " 6   INTEREST RATE           5255 non-null   float64\n",
      " 7   DEBT TO INCOME          5129 non-null   float64\n",
      " 8   PAYMENT AMOUNT          5255 non-null   float64\n",
      " 9   TOTAL INTEREST PAID     5255 non-null   float64\n",
      " 10  ACCOUNT CODE            5255 non-null   object \n",
      " 11  ACCOUNT CODE DATE       5255 non-null   object \n",
      " 12  CANCEL REASON           5255 non-null   object \n",
      " 13  TYPE OF BANKRUPTCY      5255 non-null   object \n",
      " 14  Payments Made           5255 non-null   float64\n",
      " 15  Purpose                 5255 non-null   object \n",
      " 16  Loan Type               5255 non-null   object \n",
      " 17  Underwriting            5255 non-null   object \n",
      " 18  bad                     5255 non-null   int64  \n",
      " 19  co-signed               5255 non-null   int32  \n",
      " 20  avg_credit_score        5124 non-null   float64\n",
      " 21  has_successor_num       5255 non-null   int64  \n",
      " 22  unpledged               5255 non-null   int64  \n",
      "dtypes: float64(7), int32(1), int64(4), object(11)\n",
      "memory usage: 964.8+ KB\n"
     ]
    }
   ],
   "source": [
    "df.info()"
   ]
  },
  {
   "cell_type": "code",
   "execution_count": 63,
   "metadata": {},
   "outputs": [
    {
     "data": {
      "text/plain": [
       "NONE                          5095\n",
       "DEATH                           91\n",
       "CUSTOMER DEFAULTED              25\n",
       "SETTLEMENT                      16\n",
       "CANCEL DUE TO BANKRUPTCY        13\n",
       "INVOLUNTARY REPOSESSION         12\n",
       "VOLUNTARY REPOSESSION            1\n",
       "DEVELOPER RELEASED ACCOUNT       1\n",
       "VOLUNTARY CANCEL                 1\n",
       "Name: CANCEL REASON, dtype: int64"
      ]
     },
     "execution_count": 63,
     "metadata": {},
     "output_type": "execute_result"
    }
   ],
   "source": [
    "df['CANCEL REASON'].value_counts()"
   ]
  },
  {
   "cell_type": "code",
   "execution_count": 64,
   "metadata": {},
   "outputs": [],
   "source": [
    "df.drop(df[(df['CANCEL REASON'] == 'DEATH') \n",
    "           | (df['CANCEL REASON'] == 'DEVELOPER RELEASED ACCOUNT')].index,inplace=True)"
   ]
  },
  {
   "cell_type": "code",
   "execution_count": 65,
   "metadata": {},
   "outputs": [],
   "source": [
    "df.drop(['ACCOUNT CODE', 'CANCEL REASON', 'TYPE OF BANKRUPTCY', 'TOTAL INTEREST PAID',\n",
    "         'Payments Made'], axis=1, inplace=True)"
   ]
  },
  {
   "cell_type": "code",
   "execution_count": 66,
   "metadata": {},
   "outputs": [],
   "source": [
    "# CREATE DATE FEATURES HERE\n",
    "# CREATE DATE FEATURES HERE\n",
    "# CREATE DATE FEATURES HERE\n",
    "# IF NEEDED\n",
    "\n",
    "df.drop(['CONTRACT DATE', 'SETUP DATE', 'ORIGINAL MATURITY DATE', 'CURRENT MATURITY DATE', 'ACCOUNT CODE DATE'], \n",
    "        axis=1, inplace=True)"
   ]
  },
  {
   "cell_type": "code",
   "execution_count": 67,
   "metadata": {},
   "outputs": [
    {
     "name": "stdout",
     "output_type": "stream",
     "text": [
      "<class 'pandas.core.frame.DataFrame'>\n",
      "Int64Index: 5163 entries, 0 to 27383\n",
      "Data columns (total 13 columns):\n",
      " #   Column                Non-Null Count  Dtype  \n",
      "---  ------                --------------  -----  \n",
      " 0   ORIGINAL LOAN AMOUNT  5163 non-null   float64\n",
      " 1   ORIGINAL TERM         5163 non-null   int64  \n",
      " 2   INTEREST RATE         5163 non-null   float64\n",
      " 3   DEBT TO INCOME        5038 non-null   float64\n",
      " 4   PAYMENT AMOUNT        5163 non-null   float64\n",
      " 5   Purpose               5163 non-null   object \n",
      " 6   Loan Type             5163 non-null   object \n",
      " 7   Underwriting          5163 non-null   object \n",
      " 8   bad                   5163 non-null   int64  \n",
      " 9   co-signed             5163 non-null   int32  \n",
      " 10  avg_credit_score      5034 non-null   float64\n",
      " 11  has_successor_num     5163 non-null   int64  \n",
      " 12  unpledged             5163 non-null   int64  \n",
      "dtypes: float64(5), int32(1), int64(4), object(3)\n",
      "memory usage: 544.5+ KB\n"
     ]
    }
   ],
   "source": [
    "df.info()"
   ]
  },
  {
   "cell_type": "code",
   "execution_count": 68,
   "metadata": {},
   "outputs": [
    {
     "data": {
      "text/html": [
       "<div>\n",
       "<style scoped>\n",
       "    .dataframe tbody tr th:only-of-type {\n",
       "        vertical-align: middle;\n",
       "    }\n",
       "\n",
       "    .dataframe tbody tr th {\n",
       "        vertical-align: top;\n",
       "    }\n",
       "\n",
       "    .dataframe thead th {\n",
       "        text-align: right;\n",
       "    }\n",
       "</style>\n",
       "<table border=\"1\" class=\"dataframe\">\n",
       "  <thead>\n",
       "    <tr style=\"text-align: right;\">\n",
       "      <th></th>\n",
       "      <th>ORIGINAL LOAN AMOUNT</th>\n",
       "      <th>ORIGINAL TERM</th>\n",
       "      <th>INTEREST RATE</th>\n",
       "      <th>DEBT TO INCOME</th>\n",
       "      <th>PAYMENT AMOUNT</th>\n",
       "      <th>Purpose</th>\n",
       "      <th>Loan Type</th>\n",
       "      <th>Underwriting</th>\n",
       "      <th>bad</th>\n",
       "      <th>co-signed</th>\n",
       "      <th>avg_credit_score</th>\n",
       "      <th>has_successor_num</th>\n",
       "      <th>unpledged</th>\n",
       "    </tr>\n",
       "  </thead>\n",
       "  <tbody>\n",
       "    <tr>\n",
       "      <th>1339</th>\n",
       "      <td>7541.00</td>\n",
       "      <td>165</td>\n",
       "      <td>3.49</td>\n",
       "      <td>NaN</td>\n",
       "      <td>58.00</td>\n",
       "      <td>Energy Efficiency (EE)</td>\n",
       "      <td>On Bill Recovery</td>\n",
       "      <td>Tier 1</td>\n",
       "      <td>0</td>\n",
       "      <td>0</td>\n",
       "      <td>NaN</td>\n",
       "      <td>1</td>\n",
       "      <td>0</td>\n",
       "    </tr>\n",
       "    <tr>\n",
       "      <th>2366</th>\n",
       "      <td>13257.43</td>\n",
       "      <td>175</td>\n",
       "      <td>3.49</td>\n",
       "      <td>NaN</td>\n",
       "      <td>96.77</td>\n",
       "      <td>Solar (PV)</td>\n",
       "      <td>On Bill Recovery</td>\n",
       "      <td>Tier 2</td>\n",
       "      <td>0</td>\n",
       "      <td>0</td>\n",
       "      <td>NaN</td>\n",
       "      <td>1</td>\n",
       "      <td>1</td>\n",
       "    </tr>\n",
       "    <tr>\n",
       "      <th>2494</th>\n",
       "      <td>13835.47</td>\n",
       "      <td>157</td>\n",
       "      <td>3.49</td>\n",
       "      <td>NaN</td>\n",
       "      <td>109.89</td>\n",
       "      <td>Energy Efficiency (EE)</td>\n",
       "      <td>On Bill Recovery</td>\n",
       "      <td>Tier 2</td>\n",
       "      <td>0</td>\n",
       "      <td>0</td>\n",
       "      <td>NaN</td>\n",
       "      <td>1</td>\n",
       "      <td>1</td>\n",
       "    </tr>\n",
       "    <tr>\n",
       "      <th>3696</th>\n",
       "      <td>22761.00</td>\n",
       "      <td>163</td>\n",
       "      <td>3.49</td>\n",
       "      <td>NaN</td>\n",
       "      <td>176.00</td>\n",
       "      <td>Solar (PV)</td>\n",
       "      <td>On Bill Recovery</td>\n",
       "      <td>Tier 1</td>\n",
       "      <td>0</td>\n",
       "      <td>0</td>\n",
       "      <td>NaN</td>\n",
       "      <td>1</td>\n",
       "      <td>0</td>\n",
       "    </tr>\n",
       "    <tr>\n",
       "      <th>3740</th>\n",
       "      <td>22977.00</td>\n",
       "      <td>165</td>\n",
       "      <td>3.49</td>\n",
       "      <td>NaN</td>\n",
       "      <td>176.00</td>\n",
       "      <td>Solar (PV)</td>\n",
       "      <td>On Bill Recovery</td>\n",
       "      <td>Tier 1</td>\n",
       "      <td>0</td>\n",
       "      <td>0</td>\n",
       "      <td>NaN</td>\n",
       "      <td>1</td>\n",
       "      <td>0</td>\n",
       "    </tr>\n",
       "    <tr>\n",
       "      <th>...</th>\n",
       "      <td>...</td>\n",
       "      <td>...</td>\n",
       "      <td>...</td>\n",
       "      <td>...</td>\n",
       "      <td>...</td>\n",
       "      <td>...</td>\n",
       "      <td>...</td>\n",
       "      <td>...</td>\n",
       "      <td>...</td>\n",
       "      <td>...</td>\n",
       "      <td>...</td>\n",
       "      <td>...</td>\n",
       "      <td>...</td>\n",
       "    </tr>\n",
       "    <tr>\n",
       "      <th>27092</th>\n",
       "      <td>19634.00</td>\n",
       "      <td>142</td>\n",
       "      <td>3.49</td>\n",
       "      <td>NaN</td>\n",
       "      <td>169.00</td>\n",
       "      <td>Energy Efficiency (EE)</td>\n",
       "      <td>On Bill Recovery</td>\n",
       "      <td>Tier 1</td>\n",
       "      <td>1</td>\n",
       "      <td>0</td>\n",
       "      <td>NaN</td>\n",
       "      <td>1</td>\n",
       "      <td>0</td>\n",
       "    </tr>\n",
       "    <tr>\n",
       "      <th>27275</th>\n",
       "      <td>3085.00</td>\n",
       "      <td>171</td>\n",
       "      <td>3.49</td>\n",
       "      <td>NaN</td>\n",
       "      <td>23.00</td>\n",
       "      <td>Energy Efficiency (EE)</td>\n",
       "      <td>On Bill Recovery</td>\n",
       "      <td>Tier 1</td>\n",
       "      <td>0</td>\n",
       "      <td>0</td>\n",
       "      <td>NaN</td>\n",
       "      <td>1</td>\n",
       "      <td>0</td>\n",
       "    </tr>\n",
       "    <tr>\n",
       "      <th>27284</th>\n",
       "      <td>6062.00</td>\n",
       "      <td>125</td>\n",
       "      <td>3.49</td>\n",
       "      <td>NaN</td>\n",
       "      <td>58.00</td>\n",
       "      <td>Energy Efficiency (EE)</td>\n",
       "      <td>On Bill Recovery</td>\n",
       "      <td>Tier 2</td>\n",
       "      <td>0</td>\n",
       "      <td>0</td>\n",
       "      <td>NaN</td>\n",
       "      <td>1</td>\n",
       "      <td>1</td>\n",
       "    </tr>\n",
       "    <tr>\n",
       "      <th>27314</th>\n",
       "      <td>5527.00</td>\n",
       "      <td>158</td>\n",
       "      <td>3.49</td>\n",
       "      <td>NaN</td>\n",
       "      <td>44.00</td>\n",
       "      <td>Solar (PV)</td>\n",
       "      <td>On Bill Recovery</td>\n",
       "      <td>Tier 1</td>\n",
       "      <td>0</td>\n",
       "      <td>0</td>\n",
       "      <td>NaN</td>\n",
       "      <td>1</td>\n",
       "      <td>0</td>\n",
       "    </tr>\n",
       "    <tr>\n",
       "      <th>27343</th>\n",
       "      <td>6260.00</td>\n",
       "      <td>166</td>\n",
       "      <td>3.49</td>\n",
       "      <td>NaN</td>\n",
       "      <td>48.00</td>\n",
       "      <td>Solar (PV)</td>\n",
       "      <td>On Bill Recovery</td>\n",
       "      <td>Tier 1</td>\n",
       "      <td>0</td>\n",
       "      <td>0</td>\n",
       "      <td>NaN</td>\n",
       "      <td>1</td>\n",
       "      <td>0</td>\n",
       "    </tr>\n",
       "  </tbody>\n",
       "</table>\n",
       "<p>125 rows × 13 columns</p>\n",
       "</div>"
      ],
      "text/plain": [
       "       ORIGINAL LOAN AMOUNT  ORIGINAL TERM  INTEREST RATE  DEBT TO INCOME  \\\n",
       "1339                7541.00            165           3.49             NaN   \n",
       "2366               13257.43            175           3.49             NaN   \n",
       "2494               13835.47            157           3.49             NaN   \n",
       "3696               22761.00            163           3.49             NaN   \n",
       "3740               22977.00            165           3.49             NaN   \n",
       "...                     ...            ...            ...             ...   \n",
       "27092              19634.00            142           3.49             NaN   \n",
       "27275               3085.00            171           3.49             NaN   \n",
       "27284               6062.00            125           3.49             NaN   \n",
       "27314               5527.00            158           3.49             NaN   \n",
       "27343               6260.00            166           3.49             NaN   \n",
       "\n",
       "       PAYMENT AMOUNT                 Purpose         Loan Type Underwriting  \\\n",
       "1339            58.00  Energy Efficiency (EE)  On Bill Recovery       Tier 1   \n",
       "2366            96.77              Solar (PV)  On Bill Recovery       Tier 2   \n",
       "2494           109.89  Energy Efficiency (EE)  On Bill Recovery       Tier 2   \n",
       "3696           176.00              Solar (PV)  On Bill Recovery       Tier 1   \n",
       "3740           176.00              Solar (PV)  On Bill Recovery       Tier 1   \n",
       "...               ...                     ...               ...          ...   \n",
       "27092          169.00  Energy Efficiency (EE)  On Bill Recovery       Tier 1   \n",
       "27275           23.00  Energy Efficiency (EE)  On Bill Recovery       Tier 1   \n",
       "27284           58.00  Energy Efficiency (EE)  On Bill Recovery       Tier 2   \n",
       "27314           44.00              Solar (PV)  On Bill Recovery       Tier 1   \n",
       "27343           48.00              Solar (PV)  On Bill Recovery       Tier 1   \n",
       "\n",
       "       bad  co-signed  avg_credit_score  has_successor_num  unpledged  \n",
       "1339     0          0               NaN                  1          0  \n",
       "2366     0          0               NaN                  1          1  \n",
       "2494     0          0               NaN                  1          1  \n",
       "3696     0          0               NaN                  1          0  \n",
       "3740     0          0               NaN                  1          0  \n",
       "...    ...        ...               ...                ...        ...  \n",
       "27092    1          0               NaN                  1          0  \n",
       "27275    0          0               NaN                  1          0  \n",
       "27284    0          0               NaN                  1          1  \n",
       "27314    0          0               NaN                  1          0  \n",
       "27343    0          0               NaN                  1          0  \n",
       "\n",
       "[125 rows x 13 columns]"
      ]
     },
     "execution_count": 68,
     "metadata": {},
     "output_type": "execute_result"
    }
   ],
   "source": [
    "df[df['DEBT TO INCOME'].isna()]"
   ]
  },
  {
   "cell_type": "code",
   "execution_count": 69,
   "metadata": {},
   "outputs": [],
   "source": [
    "# FILLING DEBT TO INCOME AND CREDIT SCORE WITH THE AVERAGE\n",
    "\n",
    "di_avg = df['DEBT TO INCOME'].mean()\n",
    "df['DEBT TO INCOME'].fillna(round(di_avg, 2), inplace =True)\n",
    "\n",
    "cs_avg = df['avg_credit_score'].mean()\n",
    "df['avg_credit_score'].fillna(round(cs_avg, 1), inplace =True)"
   ]
  },
  {
   "cell_type": "code",
   "execution_count": 70,
   "metadata": {},
   "outputs": [
    {
     "name": "stdout",
     "output_type": "stream",
     "text": [
      "<class 'pandas.core.frame.DataFrame'>\n",
      "Int64Index: 5163 entries, 0 to 27383\n",
      "Data columns (total 13 columns):\n",
      " #   Column                Non-Null Count  Dtype  \n",
      "---  ------                --------------  -----  \n",
      " 0   ORIGINAL LOAN AMOUNT  5163 non-null   float64\n",
      " 1   ORIGINAL TERM         5163 non-null   int64  \n",
      " 2   INTEREST RATE         5163 non-null   float64\n",
      " 3   DEBT TO INCOME        5163 non-null   float64\n",
      " 4   PAYMENT AMOUNT        5163 non-null   float64\n",
      " 5   Purpose               5163 non-null   object \n",
      " 6   Loan Type             5163 non-null   object \n",
      " 7   Underwriting          5163 non-null   object \n",
      " 8   bad                   5163 non-null   int64  \n",
      " 9   co-signed             5163 non-null   int32  \n",
      " 10  avg_credit_score      5163 non-null   float64\n",
      " 11  has_successor_num     5163 non-null   int64  \n",
      " 12  unpledged             5163 non-null   int64  \n",
      "dtypes: float64(5), int32(1), int64(4), object(3)\n",
      "memory usage: 544.5+ KB\n"
     ]
    }
   ],
   "source": [
    "df.info()"
   ]
  },
  {
   "cell_type": "code",
   "execution_count": 71,
   "metadata": {},
   "outputs": [
    {
     "data": {
      "text/plain": [
       "Tier 1    4548\n",
       "Tier 2     615\n",
       "Name: Underwriting, dtype: int64"
      ]
     },
     "execution_count": 71,
     "metadata": {},
     "output_type": "execute_result"
    }
   ],
   "source": [
    "df.Underwriting.value_counts()"
   ]
  },
  {
   "cell_type": "code",
   "execution_count": 72,
   "metadata": {},
   "outputs": [],
   "source": [
    "# CREATES FLAG FOR UNDERWRITTING T1, ONLY T1 AND T2 IN SET\n",
    "df['underwritten_t1'] = df['Underwriting'].apply(lambda x: 1 if x == 'Tier 1' else 0)\n",
    "\n",
    "df.drop('Underwriting', axis=1, inplace=True)"
   ]
  },
  {
   "cell_type": "code",
   "execution_count": 73,
   "metadata": {},
   "outputs": [
    {
     "data": {
      "text/plain": [
       "1    4548\n",
       "0     615\n",
       "Name: underwritten_t1, dtype: int64"
      ]
     },
     "execution_count": 73,
     "metadata": {},
     "output_type": "execute_result"
    }
   ],
   "source": [
    "df['underwritten_t1'].value_counts()"
   ]
  },
  {
   "cell_type": "code",
   "execution_count": 74,
   "metadata": {},
   "outputs": [
    {
     "data": {
      "text/plain": [
       "Smart Energy        3477\n",
       "On Bill Recovery    1686\n",
       "Name: Loan Type, dtype: int64"
      ]
     },
     "execution_count": 74,
     "metadata": {},
     "output_type": "execute_result"
    }
   ],
   "source": [
    "df['Loan Type'].value_counts()"
   ]
  },
  {
   "cell_type": "code",
   "execution_count": 75,
   "metadata": {},
   "outputs": [],
   "source": [
    "# CREATES BOOL FOR LOAN TYPE, 0 = ON BILL RECOVERY\n",
    "df['loan_type_smart_energy'] = df['Loan Type'].apply(lambda x: 1 if x == 'Smart Energy' else 0)\n",
    "\n",
    "df.drop('Loan Type', axis= 1, inplace=True)"
   ]
  },
  {
   "cell_type": "code",
   "execution_count": 76,
   "metadata": {},
   "outputs": [],
   "source": [
    "# CREATES BOOL FOR PURPOSE, DOUBLE ZERO IS OTHER\n",
    "df['purpose_ee'] = df['Purpose'].apply(lambda x: 1 if x == 'Energy Efficiency (EE)' else 0)\n",
    "\n",
    "df['purpose_sol'] = df['Purpose'].apply(lambda x: 1 if x == 'Solar (PV)' else 0)\n",
    "\n",
    "df.drop('Purpose', axis=1, inplace=True)"
   ]
  },
  {
   "cell_type": "code",
   "execution_count": 77,
   "metadata": {},
   "outputs": [
    {
     "name": "stdout",
     "output_type": "stream",
     "text": [
      "<class 'pandas.core.frame.DataFrame'>\n",
      "Int64Index: 5163 entries, 0 to 27383\n",
      "Data columns (total 14 columns):\n",
      " #   Column                  Non-Null Count  Dtype  \n",
      "---  ------                  --------------  -----  \n",
      " 0   ORIGINAL LOAN AMOUNT    5163 non-null   float64\n",
      " 1   ORIGINAL TERM           5163 non-null   int64  \n",
      " 2   INTEREST RATE           5163 non-null   float64\n",
      " 3   DEBT TO INCOME          5163 non-null   float64\n",
      " 4   PAYMENT AMOUNT          5163 non-null   float64\n",
      " 5   bad                     5163 non-null   int64  \n",
      " 6   co-signed               5163 non-null   int32  \n",
      " 7   avg_credit_score        5163 non-null   float64\n",
      " 8   has_successor_num       5163 non-null   int64  \n",
      " 9   unpledged               5163 non-null   int64  \n",
      " 10  underwritten_t1         5163 non-null   int64  \n",
      " 11  loan_type_smart_energy  5163 non-null   int64  \n",
      " 12  purpose_ee              5163 non-null   int64  \n",
      " 13  purpose_sol             5163 non-null   int64  \n",
      "dtypes: float64(5), int32(1), int64(8)\n",
      "memory usage: 584.9 KB\n"
     ]
    }
   ],
   "source": [
    "df.info()"
   ]
  },
  {
   "cell_type": "code",
   "execution_count": 78,
   "metadata": {},
   "outputs": [],
   "source": [
    "df.to_csv(r'C:\\Users\\2bogu\\Desktop\\Sringboard_Materials\\capstone2\\data\\interim\\new_new', index = False)"
   ]
  },
  {
   "cell_type": "code",
   "execution_count": null,
   "metadata": {},
   "outputs": [],
   "source": []
  }
 ],
 "metadata": {
  "kernelspec": {
   "display_name": "Python 3",
   "language": "python",
   "name": "python3"
  },
  "language_info": {
   "codemirror_mode": {
    "name": "ipython",
    "version": 3
   },
   "file_extension": ".py",
   "mimetype": "text/x-python",
   "name": "python",
   "nbconvert_exporter": "python",
   "pygments_lexer": "ipython3",
   "version": "3.7.6"
  }
 },
 "nbformat": 4,
 "nbformat_minor": 4
}
