{
 "cells": [
  {
   "cell_type": "code",
   "execution_count": null,
   "metadata": {},
   "outputs": [],
   "source": [
    "# model with only one independent variable w/o dummies\n",
    "y = df[['MATURITY DIFFERENCE']]\n",
    "X = df[['Payments Made']]\n",
    "\n",
    "X = sm.add_constant(X)\n",
    "\n",
    "X_train, X_test, y_train, y_test = train_test_split(X, y, test_size=0.25, random_state=0)\n",
    "\n",
    "ols_model1 = sm.OLS(y_train, X_train)\n",
    "\n",
    "ols_fit1 = ols_model1.fit()\n",
    "\n",
    "ols_fit1.summary()"
   ]
  },
  {
   "cell_type": "code",
   "execution_count": null,
   "metadata": {},
   "outputs": [],
   "source": [
    "y_pred = ols_fit1.predict(X_test)\n",
    "\n",
    "_ = plt.scatter(y_test, y_pred)\n",
    "\n",
    "_ = plt.plot([x for x in range(0,180)],[x for x in range(0,180)], color='red')\n",
    "\n",
    "plt.show()"
   ]
  },
  {
   "cell_type": "code",
   "execution_count": null,
   "metadata": {},
   "outputs": [],
   "source": [
    "# model with one independent var w/ dummies\n",
    "y = df_dum[['MATURITY DIFFERENCE']]\n",
    "X = df_dum[['ACCOUNT CODE_Paid in Full']]\n",
    "\n",
    "X = sm.add_constant(X)\n",
    "\n",
    "X_train, X_test, y_train, y_test = train_test_split(X, y, test_size=0.25, random_state=0)\n",
    "\n",
    "ols_model3 = sm.OLS(y_train, X_train)\n",
    "\n",
    "ols_fit3 = ols_model3.fit()\n",
    "\n",
    "ols_fit3.summary()"
   ]
  },
  {
   "cell_type": "code",
   "execution_count": null,
   "metadata": {},
   "outputs": [],
   "source": [
    "y_pred = ols_fit3.predict(X_test)\n",
    "\n",
    "_ = plt.scatter(y_test, y_pred)\n",
    "\n",
    "_ = plt.plot([x for x in range(0,180)],[x for x in range(0,180)], color='red')\n",
    "\n",
    "plt.show()"
   ]
  },
  {
   "cell_type": "code",
   "execution_count": null,
   "metadata": {},
   "outputs": [],
   "source": [
    "# model with all independents possible w/o dummies\n",
    "y = df_dum[['MATURITY DIFFERENCE']]\n",
    "X = df_dum.select_dtypes(include=['float64']).drop('MATURITY DIFFERENCE', axis=1)\n",
    "\n",
    "\n",
    "\n",
    "X = sm.add_constant(X)\n",
    "\n",
    "X_train, X_test, y_train, y_test = train_test_split(X, y, test_size=0.25, random_state=100)\n",
    "\n",
    "ols_model4 = sm.OLS(y_train, X_train)\n",
    "\n",
    "ols_fit4 = ols_model4.fit()\n",
    "\n",
    "ols_fit4.summary()"
   ]
  },
  {
   "cell_type": "code",
   "execution_count": null,
   "metadata": {},
   "outputs": [],
   "source": [
    "y_pred = ols_fit4.predict(X_test)\n",
    "\n",
    "_ = plt.scatter(y_test, y_pred)\n",
    "\n",
    "_ = plt.plot([x for x in range(0,180)],[x for x in range(0,180)], color='red')\n",
    "\n",
    "plt.show()"
   ]
  },
  {
   "cell_type": "code",
   "execution_count": null,
   "metadata": {},
   "outputs": [],
   "source": [
    "# model with all possible independents w/ dummies\n",
    "\n",
    "y = df[['MATURITY DIFFERENCE']]\n",
    "X = df.select_dtypes(include=['float64']).drop('MATURITY DIFFERENCE', axis=1)\n",
    "\n",
    "\n",
    "\n",
    "X = sm.add_constant(X)\n",
    "\n",
    "X_train, X_test, y_train, y_test = train_test_split(X, y, test_size=0.25, random_state=100)\n",
    "\n",
    "ols_model5 = sm.OLS(y_train, X_train)\n",
    "\n",
    "ols_fit5 = ols_model5.fit()\n",
    "\n",
    "ols_fit5.summary()\n",
    "# what to do with p>0.05 from dummy var where other dummy vars from same feature have P<0.05"
   ]
  },
  {
   "cell_type": "code",
   "execution_count": null,
   "metadata": {},
   "outputs": [],
   "source": [
    "y_pred = ols_fit5.predict(X_test)\n",
    "\n",
    "_ = plt.scatter(y_test, y_pred)\n",
    "\n",
    "_ = plt.plot([x for x in range(0,180)],[x for x in range(0,180)], color='red')\n",
    "\n",
    "plt.show()"
   ]
  },
  {
   "cell_type": "code",
   "execution_count": null,
   "metadata": {},
   "outputs": [],
   "source": []
  }
 ],
 "metadata": {
  "kernelspec": {
   "display_name": "Python 3",
   "language": "python",
   "name": "python3"
  },
  "language_info": {
   "codemirror_mode": {
    "name": "ipython",
    "version": 3
   },
   "file_extension": ".py",
   "mimetype": "text/x-python",
   "name": "python",
   "nbconvert_exporter": "python",
   "pygments_lexer": "ipython3",
   "version": "3.7.6"
  }
 },
 "nbformat": 4,
 "nbformat_minor": 4
}
